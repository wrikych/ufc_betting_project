{
 "cells": [
  {
   "cell_type": "code",
   "execution_count": 28,
   "metadata": {},
   "outputs": [],
   "source": [
    "from sklearn.ensemble import RandomForestClassifier, GradientBoostingClassifier, HistGradientBoostingClassifier, BaggingClassifier\n",
    "from xgboost import XGBClassifier\n",
    "\n",
    "rf = RandomForestClassifier(random_state=0, n_estimators=175, max_features='log2', criterion='gini')\n",
    "gb = GradientBoostingClassifier(random_state=0, learning_rate=0.2, criterion='squared_error', max_depth=15)\n",
    "hgb = HistGradientBoostingClassifier(random_state=0, learning_rate=0.1, max_depth=150,max_leaf_nodes=None)\n",
    "bag = BaggingClassifier(random_state=0, n_estimators=150)\n",
    "xgb = XGBClassifier(reg_lambda=1.5, learning_rate=0.25)\n",
    "\n",
    "\n",
    "mod_dict = {'rf' : rf,\n",
    "        'gb' : gb,\n",
    "        'bag' : bag}"
   ]
  },
  {
   "cell_type": "code",
   "execution_count": 29,
   "metadata": {},
   "outputs": [],
   "source": [
    "import numpy as np \n",
    "import pandas as pd\n",
    "from helpers import * \n",
    "import warnings\n",
    "from pandas.errors import SettingWithCopyWarning\n",
    "\n",
    "warnings.simplefilter(action=\"ignore\", category=SettingWithCopyWarning)\n",
    "warnings.simplefilter(action=\"ignore\", category=FutureWarning)\n",
    "ufc = pd.read_csv('ufc-master.csv')\n",
    "\n",
    "feats, targ = fine_tuning_setup(ufc, one_or_two=True)"
   ]
  },
  {
   "cell_type": "code",
   "execution_count": 30,
   "metadata": {},
   "outputs": [
    {
     "name": "stdout",
     "output_type": "stream",
     "text": [
      "rf\n",
      "0.7386706948640483\n",
      "gb\n",
      "0.7220543806646526\n",
      "bag\n",
      "0.7265861027190332\n"
     ]
    }
   ],
   "source": [
    "simulate(feats, targ, mod_dict)"
   ]
  },
  {
   "cell_type": "code",
   "execution_count": 31,
   "metadata": {},
   "outputs": [],
   "source": [
    "acc = execute_voting_clf(feats, targ, mod_dict)"
   ]
  },
  {
   "cell_type": "code",
   "execution_count": null,
   "metadata": {},
   "outputs": [],
   "source": []
  }
 ],
 "metadata": {
  "kernelspec": {
   "display_name": "basic_ml_stuff",
   "language": "python",
   "name": "python3"
  },
  "language_info": {
   "codemirror_mode": {
    "name": "ipython",
    "version": 3
   },
   "file_extension": ".py",
   "mimetype": "text/x-python",
   "name": "python",
   "nbconvert_exporter": "python",
   "pygments_lexer": "ipython3",
   "version": "3.11.5"
  }
 },
 "nbformat": 4,
 "nbformat_minor": 2
}
