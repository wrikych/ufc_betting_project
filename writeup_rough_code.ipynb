{
 "cells": [
  {
   "cell_type": "code",
   "execution_count": 230,
   "metadata": {},
   "outputs": [],
   "source": [
    "import numpy as np \n",
    "import pandas as pd \n",
    "\n",
    "ufc = pd.read_csv('ufc-master.csv')"
   ]
  },
  {
   "cell_type": "code",
   "execution_count": 231,
   "metadata": {},
   "outputs": [
    {
     "data": {
      "text/plain": [
       "Winner\n",
       "Red     2859\n",
       "Blue    2037\n",
       "Name: count, dtype: int64"
      ]
     },
     "execution_count": 231,
     "metadata": {},
     "output_type": "execute_result"
    }
   ],
   "source": [
    "ufc.Winner.value_counts()"
   ]
  },
  {
   "cell_type": "code",
   "execution_count": 232,
   "metadata": {},
   "outputs": [],
   "source": [
    "### filling nulls with mode (if categorical) or mean (if numerical)\n",
    "\n",
    "def handle_nulls(data):\n",
    "    for col in data.columns:\n",
    "        if data[col].isna().sum() >=4890:\n",
    "            data = data.drop([col], axis=1)\n",
    "        else:\n",
    "            if data[col].dtype in ['int64', 'float64']:\n",
    "                data = data.fillna({col : data[col].mean()})\n",
    "            else:\n",
    "                data = data.fillna({col : data[col].mode()[0]})\n",
    "    \n",
    "    return data"
   ]
  },
  {
   "cell_type": "code",
   "execution_count": 233,
   "metadata": {},
   "outputs": [],
   "source": [
    "def check_target_vals(target):\n",
    "    \n",
    "    red = 0\n",
    "    \n",
    "    blue = 0\n",
    "    \n",
    "    for val in target:\n",
    "        if val == 1:\n",
    "            red += 1\n",
    "        else:\n",
    "            blue += 1\n",
    "\n",
    "    if red != 2859:\n",
    "        return f\"red disconnect - instead of 2859, {red}\"\n",
    "    elif blue != 2037:\n",
    "        return f\"blue disconnect - instead of 2037, {blue}\"\n",
    "    else:\n",
    "        return \"all good\""
   ]
  },
  {
   "cell_type": "code",
   "execution_count": 234,
   "metadata": {},
   "outputs": [],
   "source": [
    "ufc = handle_nulls(ufc)"
   ]
  },
  {
   "cell_type": "code",
   "execution_count": 235,
   "metadata": {},
   "outputs": [],
   "source": [
    "def num_and_cat(features):\n",
    "    num_col = [col for col in features.columns if features[col].dtype in ['int64', 'float64']]\n",
    "    cat_col = [col for col in features.columns if col not in num_col]\n",
    "    return num_col, cat_col "
   ]
  },
  {
   "cell_type": "code",
   "execution_count": 236,
   "metadata": {},
   "outputs": [],
   "source": [
    "def fracture(data):\n",
    "    target = [1 if victor == 'Red' else 0 for victor in data['Winner']]\n",
    "    features = data.drop(['Winner'], axis=1)\n",
    "    return features, target"
   ]
  },
  {
   "cell_type": "code",
   "execution_count": 237,
   "metadata": {},
   "outputs": [],
   "source": [
    "X, y = fracture(ufc)"
   ]
  },
  {
   "cell_type": "code",
   "execution_count": 238,
   "metadata": {},
   "outputs": [
    {
     "data": {
      "text/plain": [
       "'all good'"
      ]
     },
     "execution_count": 238,
     "metadata": {},
     "output_type": "execute_result"
    }
   ],
   "source": [
    "check_target_vals(y)"
   ]
  },
  {
   "cell_type": "code",
   "execution_count": 239,
   "metadata": {},
   "outputs": [],
   "source": [
    "def dummy_approach(data):\n",
    "    features, target = fracture(data)\n",
    "    return features, features.columns, target"
   ]
  },
  {
   "cell_type": "code",
   "execution_count": 240,
   "metadata": {},
   "outputs": [
    {
     "name": "stdout",
     "output_type": "stream",
     "text": [
      "Shape of D: (4896, 117)\n",
      "Number of features: 117\n",
      "target? all good\n"
     ]
    }
   ],
   "source": [
    "D, selected_features, target = dummy_approach(ufc)\n",
    "print(f\"Shape of D: {D.shape}\")\n",
    "print(f\"Number of features: {len(selected_features)}\")\n",
    "print(f\"target? {check_target_vals(target)}\")"
   ]
  },
  {
   "cell_type": "code",
   "execution_count": 241,
   "metadata": {},
   "outputs": [],
   "source": [
    "def highest_correlating_num_cols(data, squared_thresh):\n",
    "    features, target = fracture(data)\n",
    "    desired_cols = []\n",
    "    \n",
    "    to_mess_with = features.copy()\n",
    "    to_mess_with['target'] = target\n",
    "    \n",
    "    num_col, _ = num_and_cat(features)\n",
    "    \n",
    "    for col in num_col:\n",
    "        test_val = (to_mess_with[col].corr(to_mess_with['target']))**2\n",
    "\n",
    "        if test_val >= squared_thresh:\n",
    "            desired_cols.append(col)\n",
    "        \n",
    "    return features, desired_cols, target"
   ]
  },
  {
   "cell_type": "code",
   "execution_count": 242,
   "metadata": {},
   "outputs": [
    {
     "name": "stdout",
     "output_type": "stream",
     "text": [
      "Shape of D: (4896, 117)\n",
      "Number of features: 7\n",
      "target vals? all good\n"
     ]
    }
   ],
   "source": [
    "D, selected_features, target = highest_correlating_num_cols(ufc, squared_thresh=0.0225)\n",
    "print(f\"Shape of D: {D.shape}\")\n",
    "print(f\"Number of features: {len(selected_features)}\")\n",
    "print(f\"target vals? {check_target_vals(target)}\")"
   ]
  },
  {
   "cell_type": "code",
   "execution_count": 153,
   "metadata": {},
   "outputs": [],
   "source": [
    "from sklearn.preprocessing import LabelEncoder\n",
    "\n",
    "def highest_correlating_num_and_cat(data, cat_thresh, squared_thresh, just_cats = False):\n",
    "    \n",
    "    features, target = fracture(data)\n",
    "    \n",
    "    enc = LabelEncoder()\n",
    "    desired_cols = []\n",
    "    \n",
    "    num_col = [col for col in features.columns if features[col].dtype == 'int64' or features[col].dtype == 'float64']\n",
    "    cat_col = [col for col in features.columns if col not in num_col]\n",
    "    \n",
    "    for col in cat_col:\n",
    "        features[col] = enc.fit_transform(features[col])\n",
    "    \n",
    "    for col in cat_col:\n",
    "        test_val = (features[col].corr(target))**2\n",
    "        test = test_val >= cat_thresh\n",
    "        \n",
    "        if test:\n",
    "            desired_cols.append(col)\n",
    "    \n",
    "    if not just_cats:\n",
    "        _, nums, unimp = highest_correlating_num_cols(data, squared_thresh)\n",
    "        for num in nums:\n",
    "            desired_cols.append(num)\n",
    "            \n",
    "    return features, desired_cols, target"
   ]
  },
  {
   "cell_type": "code",
   "execution_count": 156,
   "metadata": {},
   "outputs": [
    {
     "name": "stdout",
     "output_type": "stream",
     "text": [
      "Shape of D: (4896, 117)\n",
      "Number of features: 0\n",
      "Shape of target: (4896,)\n"
     ]
    }
   ],
   "source": [
    "D, selected_features, target = highest_correlating_num_and_cat(ufc, cat_thresh=0.001, squared_thresh=0.0225)\n",
    "print(f\"Shape of D: {D.shape}\")\n",
    "print(f\"Number of features: {len(selected_features)}\")\n",
    "print(f\"Shape of target: {target.shape}\")"
   ]
  },
  {
   "cell_type": "code",
   "execution_count": 40,
   "metadata": {},
   "outputs": [],
   "source": [
    "def create_diffs(data):\n",
    "    \n",
    "    data['draw_diff'] = data['R_draw'] - data['B_draw'] ## draw difference\n",
    "    data['SigStr_pct_dff'] = data['R_avg_SIG_STR_pct'] - data['B_avg_SIG_STR_pct'] ## mean sig strikes percent \n",
    "    data['SigStr_land_diff'] = data['R_avg_SIG_STR_landed'] - data['B_avg_SIG_STR_landed'] ## mean sig strikes \n",
    "    data['maj_dec_diff'] = data['R_win_by_Decision_Majority'] - data['B_win_by_Decision_Majority'] ## nean wins \n",
    "    data['split_dec_diff'] = data['R_win_by_Decision_Split'] - data['B_win_by_Decision_Split'] ## ^^\n",
    "    data['unan_dec_diff'] = data['R_win_by_Decision_Unanimous'] - data['B_win_by_Decision_Unanimous'] ## ^^\n",
    "    data['doc_stop_diff'] = data['R_win_by_TKO_Doctor_Stoppage'] - data['B_win_by_TKO_Doctor_Stoppage'] ##^^\n",
    "    data['odds_diff'] = data['R_odds'] - data['B_odds'] ## odds\n",
    "    data['ev_diff'] = data['R_ev'] - data['B_ev'] ## expected value \n",
    "    data['subs_diff'] = data['R_avg_SUB_ATT'] - data['B_avg_SUB_ATT'] ## subs attempted\n",
    "    data['td_landed_diff'] = data['R_avg_TD_landed'] - data['B_avg_TD_landed'] ## takedowns \n",
    "    data['td_pct_diff'] = data['R_avg_TD_pct'] - data['B_avg_TD_pct'] ## takedowns percent \n",
    "    data['ko_diff'] = data['r_ko_odds'] - data['b_ko_odds'] ## knockouts \n",
    "    data['ko_win_diff'] = data['R_win_by_KO/TKO'] - data['B_win_by_KO/TKO'] ## wins by KO/TKO \n",
    "    \n",
    "    return data \n"
   ]
  },
  {
   "cell_type": "code",
   "execution_count": 77,
   "metadata": {},
   "outputs": [],
   "source": [
    "def cols_of_differences(data):\n",
    "    features, target = fracture(data)\n",
    "    features = create_diffs(features)\n",
    "    desired_cols = ['draw_diff', 'SigStr_pct_dff', 'SigStr_land_diff', 'maj_dec_diff', \n",
    "          'split_dec_diff', 'unan_dec_diff', 'doc_stop_diff', 'odds_diff', \n",
    "          'ev_diff', 'subs_diff', 'td_landed_diff', 'td_pct_diff', 'ko_diff', \n",
    "          'ko_win_diff']\n",
    "    \n",
    "    return features, desired_cols, target"
   ]
  },
  {
   "cell_type": "code",
   "execution_count": 79,
   "metadata": {},
   "outputs": [],
   "source": [
    "D, selected_features, target = cols_of_differences(ufc)"
   ]
  },
  {
   "cell_type": "code",
   "execution_count": 89,
   "metadata": {},
   "outputs": [],
   "source": [
    "def differences_and_cat(data, cat_thresh, squared_thresh, just_cats=True):\n",
    "    \n",
    "    features, desired_cols, target = cols_of_differences(data)\n",
    "    _, cats, not_imp = highest_correlating_num_and_cat(data, cat_thresh=cat_thresh, squared_thresh=squared_thresh, just_cats=just_cats)\n",
    "    for cat in cats:\n",
    "        desired_cols.append(cat)\n",
    "    \n",
    "    return features, desired_cols, target"
   ]
  },
  {
   "cell_type": "code",
   "execution_count": 85,
   "metadata": {},
   "outputs": [],
   "source": [
    "D, selected_features, target = differences_and_cat(ufc, cat_thresh=0.001, squared_thresh=0.0225)"
   ]
  },
  {
   "cell_type": "code",
   "execution_count": 87,
   "metadata": {},
   "outputs": [
    {
     "data": {
      "text/plain": [
       "['draw_diff',\n",
       " 'SigStr_pct_dff',\n",
       " 'SigStr_land_diff',\n",
       " 'maj_dec_diff',\n",
       " 'split_dec_diff',\n",
       " 'unan_dec_diff',\n",
       " 'doc_stop_diff',\n",
       " 'odds_diff',\n",
       " 'ev_diff',\n",
       " 'subs_diff',\n",
       " 'td_landed_diff',\n",
       " 'td_pct_diff',\n",
       " 'ko_diff',\n",
       " 'ko_win_diff']"
      ]
     },
     "execution_count": 87,
     "metadata": {},
     "output_type": "execute_result"
    }
   ],
   "source": [
    "selected_features"
   ]
  },
  {
   "cell_type": "code",
   "execution_count": 103,
   "metadata": {},
   "outputs": [],
   "source": [
    "def discussion_comment_betting_variables(data):\n",
    "    features, target = fracture(data)\n",
    "    desired_cols = ['B_current_win_streak', 'R_win_by_Submission', 'B_win_by_Decision_Unanimous', 'R_win_by_Decision_Unanimous', 'R_current_lose_streak', 'B_win_by_TKO_Doctor_Stoppage', \n",
    "                    'win_dif', 'B_win_by_Decision_Split', 'B_wins', 'R_Stance', 'B_age', 'B_Weight_lbs', 'R_ev', 'B_total_rounds_fought', 'location', \n",
    "                    'R_odds', 'R_Reach_cms', 'R_Weight_lbs', 'R_current_win_streak', 'R_age', 'empty_arena', 'R_win_by_Decision_Split', 'R_draw', 'lose_streak_dif', 'B_draw']\n",
    "    \n",
    "    enc = LabelEncoder()\n",
    "    \n",
    "    for col in desired_cols:\n",
    "        if features[col].dtype == 'object':\n",
    "            features[col] = enc.fit_transform(features[col])\n",
    "    \n",
    "    return features, desired_cols, target\n"
   ]
  },
  {
   "cell_type": "code",
   "execution_count": 92,
   "metadata": {},
   "outputs": [
    {
     "name": "stdout",
     "output_type": "stream",
     "text": [
      "cat\n",
      "cat\n"
     ]
    }
   ],
   "source": [
    "D, selected_features, target = discussion_comment_betting_variables(ufc)"
   ]
  },
  {
   "cell_type": "code",
   "execution_count": 93,
   "metadata": {},
   "outputs": [],
   "source": [
    "def disc_cols_with_differences(data):\n",
    "    \n",
    "    features, target = fracture(data)\n",
    "    \n",
    "    features = create_diffs(features)\n",
    "    \n",
    "    desired_cols = ['B_current_win_streak', 'R_current_lose_streak', 'win_dif', \n",
    "                       'R_Stance', 'B_age', 'B_Weight_lbs', 'location', 'R_Reach_cms', \n",
    "                       'R_Weight_lbs', 'R_current_win_streak', 'R_age', 'empty_arena', 'lose_streak_dif']\n",
    "    \n",
    "    return features, desired_cols, target"
   ]
  },
  {
   "cell_type": "code",
   "execution_count": 96,
   "metadata": {},
   "outputs": [],
   "source": [
    "def data_prep_and_feat_engineering(data, cat_thresh, squared_thresh):\n",
    "    \n",
    "    ### handle nulls\n",
    "    data = handle_nulls(data)\n",
    "    \n",
    "    ### dictionary of approaches \n",
    "    approach_dict = {1 : dummy_approach,\n",
    "                     2 : highest_correlating_num_cols,\n",
    "                     3 : highest_correlating_num_and_cat,\n",
    "                     4 : cols_of_differences,\n",
    "                     5 : differences_and_cat,\n",
    "                     6 : discussion_comment_betting_variables,\n",
    "                     7 : disc_cols_with_differences}\n",
    "    \n",
    "    for i in range(1,8):\n",
    "        \n",
    "        if i == 2:\n",
    "            features, desired_cols, target = approach_dict[i](data, squared_thresh)\n",
    "        elif i in [3, 5]:\n",
    "            features, desired_cols, target = approach_dict[i](data, cat_thresh, squared_thresh)\n",
    "        else:\n",
    "            features, desired_cols, target = approach_dict[i](data)\n",
    "        \n",
    "        print(f\"--- Approach {i} --- \")\n",
    "        print(f\"Shape of D: {features.shape}\")\n",
    "        print(f\"Number of features: {len(desired_cols)}\")\n",
    "        print(f\"Shape of target: {target.shape}\")\n",
    "    \n",
    "    return i"
   ]
  },
  {
   "cell_type": "code",
   "execution_count": 219,
   "metadata": {},
   "outputs": [
    {
     "name": "stdout",
     "output_type": "stream",
     "text": [
      "--- Approach 1 --- \n",
      "Shape of D: (4896, 117)\n",
      "Number of features: 117\n"
     ]
    },
    {
     "ename": "AttributeError",
     "evalue": "'list' object has no attribute 'shape'",
     "output_type": "error",
     "traceback": [
      "\u001b[1;31m---------------------------------------------------------------------------\u001b[0m",
      "\u001b[1;31mAttributeError\u001b[0m                            Traceback (most recent call last)",
      "Cell \u001b[1;32mIn[219], line 1\u001b[0m\n\u001b[1;32m----> 1\u001b[0m i_val \u001b[38;5;241m=\u001b[39m \u001b[43mdata_prep_and_feat_engineering\u001b[49m\u001b[43m(\u001b[49m\u001b[43mufc\u001b[49m\u001b[43m,\u001b[49m\u001b[43m \u001b[49m\u001b[43mcat_thresh\u001b[49m\u001b[38;5;241;43m=\u001b[39;49m\u001b[38;5;241;43m0.001\u001b[39;49m\u001b[43m,\u001b[49m\u001b[43m \u001b[49m\u001b[43msquared_thresh\u001b[49m\u001b[38;5;241;43m=\u001b[39;49m\u001b[38;5;241;43m0.0225\u001b[39;49m\u001b[43m)\u001b[49m\n",
      "Cell \u001b[1;32mIn[96], line 27\u001b[0m, in \u001b[0;36mdata_prep_and_feat_engineering\u001b[1;34m(data, cat_thresh, squared_thresh)\u001b[0m\n\u001b[0;32m     25\u001b[0m     \u001b[38;5;28mprint\u001b[39m(\u001b[38;5;124mf\u001b[39m\u001b[38;5;124m\"\u001b[39m\u001b[38;5;124mShape of D: \u001b[39m\u001b[38;5;132;01m{\u001b[39;00mfeatures\u001b[38;5;241m.\u001b[39mshape\u001b[38;5;132;01m}\u001b[39;00m\u001b[38;5;124m\"\u001b[39m)\n\u001b[0;32m     26\u001b[0m     \u001b[38;5;28mprint\u001b[39m(\u001b[38;5;124mf\u001b[39m\u001b[38;5;124m\"\u001b[39m\u001b[38;5;124mNumber of features: \u001b[39m\u001b[38;5;132;01m{\u001b[39;00m\u001b[38;5;28mlen\u001b[39m(desired_cols)\u001b[38;5;132;01m}\u001b[39;00m\u001b[38;5;124m\"\u001b[39m)\n\u001b[1;32m---> 27\u001b[0m     \u001b[38;5;28mprint\u001b[39m(\u001b[38;5;124mf\u001b[39m\u001b[38;5;124m\"\u001b[39m\u001b[38;5;124mShape of target: \u001b[39m\u001b[38;5;132;01m{\u001b[39;00m\u001b[43mtarget\u001b[49m\u001b[38;5;241;43m.\u001b[39;49m\u001b[43mshape\u001b[49m\u001b[38;5;132;01m}\u001b[39;00m\u001b[38;5;124m\"\u001b[39m)\n\u001b[0;32m     29\u001b[0m \u001b[38;5;28;01mreturn\u001b[39;00m i\n",
      "\u001b[1;31mAttributeError\u001b[0m: 'list' object has no attribute 'shape'"
     ]
    }
   ],
   "source": [
    "i_val = data_prep_and_feat_engineering(ufc, cat_thresh=0.001, squared_thresh=0.0225)"
   ]
  },
  {
   "cell_type": "code",
   "execution_count": null,
   "metadata": {},
   "outputs": [],
   "source": []
  }
 ],
 "metadata": {
  "kernelspec": {
   "display_name": "cmi",
   "language": "python",
   "name": "python3"
  },
  "language_info": {
   "codemirror_mode": {
    "name": "ipython",
    "version": 3
   },
   "file_extension": ".py",
   "mimetype": "text/x-python",
   "name": "python",
   "nbconvert_exporter": "python",
   "pygments_lexer": "ipython3",
   "version": "3.11.5"
  }
 },
 "nbformat": 4,
 "nbformat_minor": 2
}
