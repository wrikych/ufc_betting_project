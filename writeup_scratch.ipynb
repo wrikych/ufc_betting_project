{
 "cells": [
  {
   "cell_type": "code",
   "execution_count": 1,
   "metadata": {},
   "outputs": [],
   "source": [
    "import numpy as np \n",
    "import pandas as pd\n",
    "from helpers import * \n",
    "import warnings\n",
    "from pandas.errors import SettingWithCopyWarning\n",
    "from sklearn.preprocessing import StandardScaler\n",
    "\n",
    "warnings.simplefilter(action=\"ignore\", category=SettingWithCopyWarning)\n",
    "warnings.simplefilter(action=\"ignore\", category=FutureWarning)\n",
    "ufc = pd.read_csv('ufc-master.csv')"
   ]
  },
  {
   "cell_type": "code",
   "execution_count": 2,
   "metadata": {},
   "outputs": [
    {
     "data": {
      "text/html": [
       "<div>\n",
       "<style scoped>\n",
       "    .dataframe tbody tr th:only-of-type {\n",
       "        vertical-align: middle;\n",
       "    }\n",
       "\n",
       "    .dataframe tbody tr th {\n",
       "        vertical-align: top;\n",
       "    }\n",
       "\n",
       "    .dataframe thead th {\n",
       "        text-align: right;\n",
       "    }\n",
       "</style>\n",
       "<table border=\"1\" class=\"dataframe\">\n",
       "  <thead>\n",
       "    <tr style=\"text-align: right;\">\n",
       "      <th></th>\n",
       "      <th>R_fighter</th>\n",
       "      <th>B_fighter</th>\n",
       "      <th>R_odds</th>\n",
       "      <th>B_odds</th>\n",
       "      <th>R_ev</th>\n",
       "      <th>B_ev</th>\n",
       "      <th>date</th>\n",
       "      <th>location</th>\n",
       "      <th>country</th>\n",
       "      <th>Winner</th>\n",
       "      <th>...</th>\n",
       "      <th>total_fight_time_secs</th>\n",
       "      <th>r_dec_odds</th>\n",
       "      <th>b_dec_odds</th>\n",
       "      <th>r_sub_odds</th>\n",
       "      <th>b_sub_odds</th>\n",
       "      <th>r_ko_odds</th>\n",
       "      <th>b_ko_odds</th>\n",
       "      <th>R_perf_idx</th>\n",
       "      <th>B_perf_idx</th>\n",
       "      <th>perf_diff</th>\n",
       "    </tr>\n",
       "  </thead>\n",
       "  <tbody>\n",
       "    <tr>\n",
       "      <th>0</th>\n",
       "      <td>Thiago Santos</td>\n",
       "      <td>Johnny Walker</td>\n",
       "      <td>-150.0</td>\n",
       "      <td>130</td>\n",
       "      <td>66.666667</td>\n",
       "      <td>130.000000</td>\n",
       "      <td>2021-10-02</td>\n",
       "      <td>Las Vegas, Nevada, USA</td>\n",
       "      <td>USA</td>\n",
       "      <td>Red</td>\n",
       "      <td>...</td>\n",
       "      <td>1500.0</td>\n",
       "      <td>800.0</td>\n",
       "      <td>900.0</td>\n",
       "      <td>2000.0</td>\n",
       "      <td>1600.0</td>\n",
       "      <td>-110.0</td>\n",
       "      <td>175.0</td>\n",
       "      <td>0.608276</td>\n",
       "      <td>1.355765</td>\n",
       "      <td>-0.747489</td>\n",
       "    </tr>\n",
       "    <tr>\n",
       "      <th>1</th>\n",
       "      <td>Alex Oliveira</td>\n",
       "      <td>Niko Price</td>\n",
       "      <td>170.0</td>\n",
       "      <td>-200</td>\n",
       "      <td>170.000000</td>\n",
       "      <td>50.000000</td>\n",
       "      <td>2021-10-02</td>\n",
       "      <td>Las Vegas, Nevada, USA</td>\n",
       "      <td>USA</td>\n",
       "      <td>Blue</td>\n",
       "      <td>...</td>\n",
       "      <td>900.0</td>\n",
       "      <td>450.0</td>\n",
       "      <td>350.0</td>\n",
       "      <td>700.0</td>\n",
       "      <td>1100.0</td>\n",
       "      <td>550.0</td>\n",
       "      <td>120.0</td>\n",
       "      <td>0.804363</td>\n",
       "      <td>0.929946</td>\n",
       "      <td>-0.125583</td>\n",
       "    </tr>\n",
       "    <tr>\n",
       "      <th>2</th>\n",
       "      <td>Misha Cirkunov</td>\n",
       "      <td>Krzysztof Jotko</td>\n",
       "      <td>110.0</td>\n",
       "      <td>-130</td>\n",
       "      <td>110.000000</td>\n",
       "      <td>76.923077</td>\n",
       "      <td>2021-10-02</td>\n",
       "      <td>Las Vegas, Nevada, USA</td>\n",
       "      <td>USA</td>\n",
       "      <td>Blue</td>\n",
       "      <td>...</td>\n",
       "      <td>900.0</td>\n",
       "      <td>550.0</td>\n",
       "      <td>275.0</td>\n",
       "      <td>275.0</td>\n",
       "      <td>1400.0</td>\n",
       "      <td>600.0</td>\n",
       "      <td>185.0</td>\n",
       "      <td>1.823102</td>\n",
       "      <td>0.541941</td>\n",
       "      <td>1.281161</td>\n",
       "    </tr>\n",
       "    <tr>\n",
       "      <th>3</th>\n",
       "      <td>Alexander Hernandez</td>\n",
       "      <td>Mike Breeden</td>\n",
       "      <td>-675.0</td>\n",
       "      <td>475</td>\n",
       "      <td>14.814815</td>\n",
       "      <td>475.000000</td>\n",
       "      <td>2021-10-02</td>\n",
       "      <td>Las Vegas, Nevada, USA</td>\n",
       "      <td>USA</td>\n",
       "      <td>Red</td>\n",
       "      <td>...</td>\n",
       "      <td>80.0</td>\n",
       "      <td>175.0</td>\n",
       "      <td>900.0</td>\n",
       "      <td>500.0</td>\n",
       "      <td>3500.0</td>\n",
       "      <td>110.0</td>\n",
       "      <td>1100.0</td>\n",
       "      <td>0.502096</td>\n",
       "      <td>0.340000</td>\n",
       "      <td>0.162096</td>\n",
       "    </tr>\n",
       "    <tr>\n",
       "      <th>4</th>\n",
       "      <td>Joe Solecki</td>\n",
       "      <td>Jared Gordon</td>\n",
       "      <td>-135.0</td>\n",
       "      <td>115</td>\n",
       "      <td>74.074074</td>\n",
       "      <td>115.000000</td>\n",
       "      <td>2021-10-02</td>\n",
       "      <td>Las Vegas, Nevada, USA</td>\n",
       "      <td>USA</td>\n",
       "      <td>Blue</td>\n",
       "      <td>...</td>\n",
       "      <td>900.0</td>\n",
       "      <td>165.0</td>\n",
       "      <td>200.0</td>\n",
       "      <td>400.0</td>\n",
       "      <td>1200.0</td>\n",
       "      <td>900.0</td>\n",
       "      <td>600.0</td>\n",
       "      <td>1.007373</td>\n",
       "      <td>0.682422</td>\n",
       "      <td>0.324951</td>\n",
       "    </tr>\n",
       "  </tbody>\n",
       "</table>\n",
       "<p>5 rows × 122 columns</p>\n",
       "</div>"
      ],
      "text/plain": [
       "             R_fighter        B_fighter  R_odds  B_odds        R_ev  \\\n",
       "0        Thiago Santos    Johnny Walker  -150.0     130   66.666667   \n",
       "1        Alex Oliveira       Niko Price   170.0    -200  170.000000   \n",
       "2       Misha Cirkunov  Krzysztof Jotko   110.0    -130  110.000000   \n",
       "3  Alexander Hernandez     Mike Breeden  -675.0     475   14.814815   \n",
       "4          Joe Solecki     Jared Gordon  -135.0     115   74.074074   \n",
       "\n",
       "         B_ev        date                location country Winner  ...  \\\n",
       "0  130.000000  2021-10-02  Las Vegas, Nevada, USA     USA    Red  ...   \n",
       "1   50.000000  2021-10-02  Las Vegas, Nevada, USA     USA   Blue  ...   \n",
       "2   76.923077  2021-10-02  Las Vegas, Nevada, USA     USA   Blue  ...   \n",
       "3  475.000000  2021-10-02  Las Vegas, Nevada, USA     USA    Red  ...   \n",
       "4  115.000000  2021-10-02  Las Vegas, Nevada, USA     USA   Blue  ...   \n",
       "\n",
       "   total_fight_time_secs r_dec_odds b_dec_odds  r_sub_odds  b_sub_odds  \\\n",
       "0                 1500.0      800.0      900.0      2000.0      1600.0   \n",
       "1                  900.0      450.0      350.0       700.0      1100.0   \n",
       "2                  900.0      550.0      275.0       275.0      1400.0   \n",
       "3                   80.0      175.0      900.0       500.0      3500.0   \n",
       "4                  900.0      165.0      200.0       400.0      1200.0   \n",
       "\n",
       "   r_ko_odds  b_ko_odds  R_perf_idx  B_perf_idx  perf_diff  \n",
       "0     -110.0      175.0    0.608276    1.355765  -0.747489  \n",
       "1      550.0      120.0    0.804363    0.929946  -0.125583  \n",
       "2      600.0      185.0    1.823102    0.541941   1.281161  \n",
       "3      110.0     1100.0    0.502096    0.340000   0.162096  \n",
       "4      900.0      600.0    1.007373    0.682422   0.324951  \n",
       "\n",
       "[5 rows x 122 columns]"
      ]
     },
     "execution_count": 2,
     "metadata": {},
     "output_type": "execute_result"
    }
   ],
   "source": [
    "AD = data_prep_and_feat_engineering(ufc, cat_thresh=0.001, squared_thresh=0.0625)\n",
    "best_approach = ufc.copy() ## creating a new copy of the data to manipulate\n",
    "best_cols = AD['approach 6'][1] ## features from approach 6\n",
    "best_approach, best_cols = performance_index(best_approach, best_cols, diff=True) ## creating performance index difference variable\n",
    "best_approach.head()"
   ]
  },
  {
   "cell_type": "code",
   "execution_count": 3,
   "metadata": {},
   "outputs": [
    {
     "data": {
      "text/plain": [
       "(4896, 122)"
      ]
     },
     "execution_count": 3,
     "metadata": {},
     "output_type": "execute_result"
    }
   ],
   "source": [
    "best_approach.shape"
   ]
  },
  {
   "cell_type": "code",
   "execution_count": 4,
   "metadata": {},
   "outputs": [
    {
     "name": "stdout",
     "output_type": "stream",
     "text": [
      "Information loss : 954 entries\n",
      "Remaining information: 3942 entries\n"
     ]
    }
   ],
   "source": [
    "### dropping nulls\n",
    "best_approach = best_approach.dropna(subset=best_cols)\n",
    "print(f\"Information loss : {ufc.shape[0] - best_approach.shape[0]} entries\")\n",
    "print(f\"Remaining information: {best_approach.shape[0]} entries\")"
   ]
  },
  {
   "cell_type": "code",
   "execution_count": 5,
   "metadata": {},
   "outputs": [],
   "source": [
    "### encoding and separating target, creating features \n",
    "\n",
    "best_feats = best_approach[best_cols]\n",
    "targ = [0 if victor == 'Red' else 1 for victor in best_approach['Winner']]"
   ]
  },
  {
   "cell_type": "code",
   "execution_count": 6,
   "metadata": {},
   "outputs": [],
   "source": [
    "### resampling \n",
    "\n",
    "best_feats_rs, best_targ_rs = resample_dataframe(best_feats, targ)"
   ]
  },
  {
   "cell_type": "code",
   "execution_count": 7,
   "metadata": {},
   "outputs": [],
   "source": [
    "from sklearn.preprocessing import LabelEncoder\n",
    "\n",
    "le = LabelEncoder()\n",
    "num, cat = num_and_cat(best_feats_rs)\n",
    "\n",
    "for col in cat:\n",
    "    best_feats_rs[col] = le.fit_transform(best_feats_rs[col])\n"
   ]
  },
  {
   "cell_type": "code",
   "execution_count": 8,
   "metadata": {},
   "outputs": [],
   "source": [
    "from sklearn.ensemble import RandomForestClassifier\n",
    "from sklearn.model_selection import train_test_split\n",
    "from sklearn.metrics import log_loss, roc_auc_score\n",
    "\n",
    "rf = RandomForestClassifier()\n",
    "\n",
    "X_train, X_test, y_train, y_test = train_test_split(best_feats_rs, best_targ_rs, test_size=0.2, random_state=0)\n",
    "\n",
    "rf.fit(X_train, y_train)\n",
    "\n",
    "y_pred_proba = rf.predict_proba(X_test)\n",
    "\n",
    "logloss = log_loss(y_test, y_pred_proba)"
   ]
  },
  {
   "cell_type": "code",
   "execution_count": 9,
   "metadata": {},
   "outputs": [
    {
     "data": {
      "text/plain": [
       "0.4470280959428983"
      ]
     },
     "execution_count": 9,
     "metadata": {},
     "output_type": "execute_result"
    }
   ],
   "source": [
    "logloss"
   ]
  },
  {
   "cell_type": "code",
   "execution_count": 10,
   "metadata": {},
   "outputs": [],
   "source": [
    "auc = roc_auc_score(y_test, y_pred_proba[:, 1])"
   ]
  },
  {
   "cell_type": "code",
   "execution_count": 11,
   "metadata": {},
   "outputs": [
    {
     "data": {
      "text/plain": [
       "0.882892825746283"
      ]
     },
     "execution_count": 11,
     "metadata": {},
     "output_type": "execute_result"
    }
   ],
   "source": [
    "auc"
   ]
  },
  {
   "cell_type": "code",
   "execution_count": 12,
   "metadata": {},
   "outputs": [],
   "source": [
    "from sklearn.ensemble import GradientBoostingClassifier\n",
    "\n",
    "gb = GradientBoostingClassifier()\n",
    "\n",
    "X_train, X_test, y_train, y_test = train_test_split(best_feats_rs, best_targ_rs, test_size=0.2, random_state=0)\n",
    "\n",
    "gb.fit(X_train, y_train)\n",
    "\n",
    "y_pred_proba = gb.predict_proba(X_test)\n",
    "\n",
    "logloss = log_loss(y_test, y_pred_proba)"
   ]
  },
  {
   "cell_type": "code",
   "execution_count": 13,
   "metadata": {},
   "outputs": [],
   "source": [
    "auc = roc_auc_score(y_test, y_pred_proba[:, 1])"
   ]
  },
  {
   "cell_type": "code",
   "execution_count": 14,
   "metadata": {},
   "outputs": [
    {
     "data": {
      "text/plain": [
       "0.7290066123915453"
      ]
     },
     "execution_count": 14,
     "metadata": {},
     "output_type": "execute_result"
    }
   ],
   "source": [
    "auc"
   ]
  },
  {
   "cell_type": "code",
   "execution_count": 15,
   "metadata": {},
   "outputs": [],
   "source": [
    "from sklearn.ensemble import BaggingClassifier\n",
    "\n",
    "bag = BaggingClassifier()\n",
    "\n",
    "X_train, X_test, y_train, y_test = train_test_split(best_feats_rs, best_targ_rs, test_size=0.2, random_state=0)\n",
    "\n",
    "bag.fit(X_train, y_train)\n",
    "\n",
    "y_pred_proba = bag.predict_proba(X_test)\n",
    "\n",
    "logloss = log_loss(y_test, y_pred_proba)\n"
   ]
  },
  {
   "cell_type": "code",
   "execution_count": 16,
   "metadata": {},
   "outputs": [
    {
     "data": {
      "text/plain": [
       "0.625298943283134"
      ]
     },
     "execution_count": 16,
     "metadata": {},
     "output_type": "execute_result"
    }
   ],
   "source": [
    "logloss"
   ]
  },
  {
   "cell_type": "code",
   "execution_count": 17,
   "metadata": {},
   "outputs": [],
   "source": [
    "ml_dict = {'rf' : rf,\n",
    "           'gb' : gb, \n",
    "           'bag' : bag}\n",
    "\n"
   ]
  },
  {
   "cell_type": "code",
   "execution_count": 18,
   "metadata": {},
   "outputs": [],
   "source": [
    "from sklearn.metrics import accuracy_score, precision_score\n",
    "\n",
    "def performance_report(feats, targ, ml_dict):\n",
    "    \n",
    "    X_train, X_test, y_train, y_test = train_test_split(feats, targ, test_size=0.2, random_state=0)\n",
    "    \n",
    "    results_dict = {}\n",
    "    \n",
    "    for key in ml_dict.keys():\n",
    "        model = ml_dict[key]\n",
    "        model.fit(X_train, y_train)\n",
    "        model_preds = model.predict(X_test)\n",
    "        model_preds_probs = model.predict_proba(X_test)\n",
    "        m_acc = accuracy_score(model_preds, y_test)\n",
    "        m_pre = precision_score(y_test, model_preds)\n",
    "        m_log = log_loss(y_test, model_preds_probs)\n",
    "        m_auc = roc_auc_score(y_test, model_preds_probs[:, 1])\n",
    "        \n",
    "        print(f\"model - {key}\")\n",
    "        print(f\"acc - {m_acc:.2f} ...... precision - {m_pre:.2f} ...... \")\n",
    "        print(f\"log loss - {m_log:.2f} ...... AUC -  {m_auc:.2f}\")\n",
    "        print('***********************************************')\n",
    "        \n",
    "        results_dict[key] = (m_acc, m_pre, m_log, m_auc)\n",
    "        \n",
    "    \n",
    "    return results_dict\n",
    "        \n",
    "    \n",
    "    "
   ]
  },
  {
   "cell_type": "code",
   "execution_count": 19,
   "metadata": {},
   "outputs": [
    {
     "name": "stdout",
     "output_type": "stream",
     "text": [
      "model - rf\n",
      "acc - 0.78 ...... precision - 0.76 ...... \n",
      "log loss - 0.45 ...... AUC -  0.88\n",
      "***********************************************\n",
      "model - gb\n",
      "acc - 0.68 ...... precision - 0.67 ...... \n",
      "log loss - 0.61 ...... AUC -  0.73\n",
      "***********************************************\n",
      "model - bag\n",
      "acc - 0.75 ...... precision - 0.74 ...... \n",
      "log loss - 0.95 ...... AUC -  0.83\n",
      "***********************************************\n"
     ]
    }
   ],
   "source": [
    "results = performance_report(best_feats_rs, best_targ_rs, ml_dict)"
   ]
  },
  {
   "cell_type": "code",
   "execution_count": 20,
   "metadata": {},
   "outputs": [
    {
     "data": {
      "image/png": "[encoded data removed]",
      "text/plain": [
       "<Figure size 640x480 with 1 Axes>"
      ]
     },
     "metadata": {},
     "output_type": "display_data"
    }
   ],
   "source": [
    "import matplotlib.pyplot as plt \n",
    "import seaborn as sns \n",
    "\n",
    "mods = list(results.keys())\n",
    "acc = [val[0] for val in list(results.values())]\n",
    "pre = [val[1] for val in list(results.values())]\n",
    "log = [val[2] for val in list(results.values())]\n",
    "auc = [val[3] for val in list(results.values())]\n",
    "\n",
    "# Create barplot using seaborn\n",
    "sns.barplot(x=mods, y=acc)\n",
    "\n",
    "# Add labels and title\n",
    "plt.xlabel('Model')\n",
    "plt.ylabel('Acc')\n",
    "plt.title('Model Accuracy')\n",
    "\n",
    "# Show the plot\n",
    "plt.show()"
   ]
  },
  {
   "cell_type": "code",
   "execution_count": 21,
   "metadata": {},
   "outputs": [
    {
     "data": {
      "image/png": "[encoded data removed]",
      "text/plain": [
       "<Figure size 640x480 with 1 Axes>"
      ]
     },
     "metadata": {},
     "output_type": "display_data"
    }
   ],
   "source": [
    "# Create barplot using seaborn\n",
    "sns.barplot(x=mods, y=pre)\n",
    "\n",
    "# Add labels and title\n",
    "plt.xlabel('Model')\n",
    "plt.ylabel('Pre')\n",
    "plt.title('Model Precision')\n",
    "\n",
    "# Show the plot\n",
    "plt.show()"
   ]
  },
  {
   "cell_type": "code",
   "execution_count": 22,
   "metadata": {},
   "outputs": [
    {
     "data": {
      "image/png": "[encoded data removed]",
      "text/plain": [
       "<Figure size 640x480 with 1 Axes>"
      ]
     },
     "metadata": {},
     "output_type": "display_data"
    }
   ],
   "source": [
    "# Create barplot using seaborn\n",
    "sns.barplot(x=mods, y=log)\n",
    "\n",
    "# Add labels and title\n",
    "plt.xlabel('Model')\n",
    "plt.ylabel('Log')\n",
    "plt.title('Model Log Loss')\n",
    "\n",
    "# Show the plot\n",
    "plt.show()"
   ]
  },
  {
   "cell_type": "code",
   "execution_count": 23,
   "metadata": {},
   "outputs": [
    {
     "data": {
      "image/png": "[encoded data removed]",
      "text/plain": [
       "<Figure size 640x480 with 1 Axes>"
      ]
     },
     "metadata": {},
     "output_type": "display_data"
    }
   ],
   "source": [
    "# Create barplot using seaborn\n",
    "sns.barplot(x=mods, y=acc)\n",
    "\n",
    "# Add labels and title\n",
    "plt.xlabel('Model')\n",
    "plt.ylabel('Acc')\n",
    "plt.title('Model Accuracy')\n",
    "\n",
    "# Show the plot\n",
    "plt.show()"
   ]
  },
  {
   "cell_type": "code",
   "execution_count": 25,
   "metadata": {},
   "outputs": [
    {
     "name": "stdout",
     "output_type": "stream",
     "text": [
      "Fitting 5 folds for each of 81 candidates, totalling 405 fits\n"
     ]
    },
    {
     "data": {
      "text/html": [
       "<style>#sk-container-id-1 {color: black;background-color: white;}#sk-container-id-1 pre{padding: 0;}#sk-container-id-1 div.sk-toggleable {background-color: white;}#sk-container-id-1 label.sk-toggleable__label {cursor: pointer;display: block;width: 100%;margin-bottom: 0;padding: 0.3em;box-sizing: border-box;text-align: center;}#sk-container-id-1 label.sk-toggleable__label-arrow:before {content: \"▸\";float: left;margin-right: 0.25em;color: #696969;}#sk-container-id-1 label.sk-toggleable__label-arrow:hover:before {color: black;}#sk-container-id-1 div.sk-estimator:hover label.sk-toggleable__label-arrow:before {color: black;}#sk-container-id-1 div.sk-toggleable__content {max-height: 0;max-width: 0;overflow: hidden;text-align: left;background-color: #f0f8ff;}#sk-container-id-1 div.sk-toggleable__content pre {margin: 0.2em;color: black;border-radius: 0.25em;background-color: #f0f8ff;}#sk-container-id-1 input.sk-toggleable__control:checked~div.sk-toggleable__content {max-height: 200px;max-width: 100%;overflow: auto;}#sk-container-id-1 input.sk-toggleable__control:checked~label.sk-toggleable__label-arrow:before {content: \"▾\";}#sk-container-id-1 div.sk-estimator input.sk-toggleable__control:checked~label.sk-toggleable__label {background-color: #d4ebff;}#sk-container-id-1 div.sk-label input.sk-toggleable__control:checked~label.sk-toggleable__label {background-color: #d4ebff;}#sk-container-id-1 input.sk-hidden--visually {border: 0;clip: rect(1px 1px 1px 1px);clip: rect(1px, 1px, 1px, 1px);height: 1px;margin: -1px;overflow: hidden;padding: 0;position: absolute;width: 1px;}#sk-container-id-1 div.sk-estimator {font-family: monospace;background-color: #f0f8ff;border: 1px dotted black;border-radius: 0.25em;box-sizing: border-box;margin-bottom: 0.5em;}#sk-container-id-1 div.sk-estimator:hover {background-color: #d4ebff;}#sk-container-id-1 div.sk-parallel-item::after {content: \"\";width: 100%;border-bottom: 1px solid gray;flex-grow: 1;}#sk-container-id-1 div.sk-label:hover label.sk-toggleable__label {background-color: #d4ebff;}#sk-container-id-1 div.sk-serial::before {content: \"\";position: absolute;border-left: 1px solid gray;box-sizing: border-box;top: 0;bottom: 0;left: 50%;z-index: 0;}#sk-container-id-1 div.sk-serial {display: flex;flex-direction: column;align-items: center;background-color: white;padding-right: 0.2em;padding-left: 0.2em;position: relative;}#sk-container-id-1 div.sk-item {position: relative;z-index: 1;}#sk-container-id-1 div.sk-parallel {display: flex;align-items: stretch;justify-content: center;background-color: white;position: relative;}#sk-container-id-1 div.sk-item::before, #sk-container-id-1 div.sk-parallel-item::before {content: \"\";position: absolute;border-left: 1px solid gray;box-sizing: border-box;top: 0;bottom: 0;left: 50%;z-index: -1;}#sk-container-id-1 div.sk-parallel-item {display: flex;flex-direction: column;z-index: 1;position: relative;background-color: white;}#sk-container-id-1 div.sk-parallel-item:first-child::after {align-self: flex-end;width: 50%;}#sk-container-id-1 div.sk-parallel-item:last-child::after {align-self: flex-start;width: 50%;}#sk-container-id-1 div.sk-parallel-item:only-child::after {width: 0;}#sk-container-id-1 div.sk-dashed-wrapped {border: 1px dashed gray;margin: 0 0.4em 0.5em 0.4em;box-sizing: border-box;padding-bottom: 0.4em;background-color: white;}#sk-container-id-1 div.sk-label label {font-family: monospace;font-weight: bold;display: inline-block;line-height: 1.2em;}#sk-container-id-1 div.sk-label-container {text-align: center;}#sk-container-id-1 div.sk-container {/* jupyter's `normalize.less` sets `[hidden] { display: none; }` but bootstrap.min.css set `[hidden] { display: none !important; }` so we also need the `!important` here to be able to override the default hidden behavior on the sphinx rendered scikit-learn.org. See: https://github.com/scikit-learn/scikit-learn/issues/21755 */display: inline-block !important;position: relative;}#sk-container-id-1 div.sk-text-repr-fallback {display: none;}</style><div id=\"sk-container-id-1\" class=\"sk-top-container\"><div class=\"sk-text-repr-fallback\"><pre>GridSearchCV(cv=5, estimator=RandomForestClassifier(random_state=42), n_jobs=-1,\n",
       "             param_grid={&#x27;max_depth&#x27;: [None, 10, 20],\n",
       "                         &#x27;min_samples_leaf&#x27;: [1, 2, 4],\n",
       "                         &#x27;min_samples_split&#x27;: [2, 5, 10],\n",
       "                         &#x27;n_estimators&#x27;: [50, 100, 200]},\n",
       "             refit=&#x27;precision&#x27;, return_train_score=True,\n",
       "             scoring={&#x27;auc&#x27;: make_scorer(roc_auc_score),\n",
       "                      &#x27;log_loss&#x27;: make_scorer(log_loss, greater_is_better=False, needs_proba=True),\n",
       "                      &#x27;precision&#x27;: make_scorer(precision_score)},\n",
       "             verbose=2)</pre><b>In a Jupyter environment, please rerun this cell to show the HTML representation or trust the notebook. <br />On GitHub, the HTML representation is unable to render, please try loading this page with nbviewer.org.</b></div><div class=\"sk-container\" hidden><div class=\"sk-item sk-dashed-wrapped\"><div class=\"sk-label-container\"><div class=\"sk-label sk-toggleable\"><input class=\"sk-toggleable__control sk-hidden--visually\" id=\"sk-estimator-id-1\" type=\"checkbox\" ><label for=\"sk-estimator-id-1\" class=\"sk-toggleable__label sk-toggleable__label-arrow\">GridSearchCV</label><div class=\"sk-toggleable__content\"><pre>GridSearchCV(cv=5, estimator=RandomForestClassifier(random_state=42), n_jobs=-1,\n",
       "             param_grid={&#x27;max_depth&#x27;: [None, 10, 20],\n",
       "                         &#x27;min_samples_leaf&#x27;: [1, 2, 4],\n",
       "                         &#x27;min_samples_split&#x27;: [2, 5, 10],\n",
       "                         &#x27;n_estimators&#x27;: [50, 100, 200]},\n",
       "             refit=&#x27;precision&#x27;, return_train_score=True,\n",
       "             scoring={&#x27;auc&#x27;: make_scorer(roc_auc_score),\n",
       "                      &#x27;log_loss&#x27;: make_scorer(log_loss, greater_is_better=False, needs_proba=True),\n",
       "                      &#x27;precision&#x27;: make_scorer(precision_score)},\n",
       "             verbose=2)</pre></div></div></div><div class=\"sk-parallel\"><div class=\"sk-parallel-item\"><div class=\"sk-item\"><div class=\"sk-label-container\"><div class=\"sk-label sk-toggleable\"><input class=\"sk-toggleable__control sk-hidden--visually\" id=\"sk-estimator-id-2\" type=\"checkbox\" ><label for=\"sk-estimator-id-2\" class=\"sk-toggleable__label sk-toggleable__label-arrow\">estimator: RandomForestClassifier</label><div class=\"sk-toggleable__content\"><pre>RandomForestClassifier(random_state=42)</pre></div></div></div><div class=\"sk-serial\"><div class=\"sk-item\"><div class=\"sk-estimator sk-toggleable\"><input class=\"sk-toggleable__control sk-hidden--visually\" id=\"sk-estimator-id-3\" type=\"checkbox\" ><label for=\"sk-estimator-id-3\" class=\"sk-toggleable__label sk-toggleable__label-arrow\">RandomForestClassifier</label><div class=\"sk-toggleable__content\"><pre>RandomForestClassifier(random_state=42)</pre></div></div></div></div></div></div></div></div></div></div>"
      ],
      "text/plain": [
       "GridSearchCV(cv=5, estimator=RandomForestClassifier(random_state=42), n_jobs=-1,\n",
       "             param_grid={'max_depth': [None, 10, 20],\n",
       "                         'min_samples_leaf': [1, 2, 4],\n",
       "                         'min_samples_split': [2, 5, 10],\n",
       "                         'n_estimators': [50, 100, 200]},\n",
       "             refit='precision', return_train_score=True,\n",
       "             scoring={'auc': make_scorer(roc_auc_score),\n",
       "                      'log_loss': make_scorer(log_loss, greater_is_better=False, needs_proba=True),\n",
       "                      'precision': make_scorer(precision_score)},\n",
       "             verbose=2)"
      ]
     },
     "execution_count": 25,
     "metadata": {},
     "output_type": "execute_result"
    }
   ],
   "source": [
    "from sklearn.metrics import make_scorer, precision_score, roc_auc_score\n",
    "from sklearn.model_selection import GridSearchCV\n",
    "\n",
    "# Assuming you have your data ready (X_train, y_train)\n",
    "\n",
    "# Define the parameter grid\n",
    "param_grid = {\n",
    "    'n_estimators': [50, 100, 200],\n",
    "    'max_depth': [None, 10, 20],\n",
    "    'min_samples_split': [2, 5, 10],\n",
    "    'min_samples_leaf': [1, 2, 4]\n",
    "}\n",
    "\n",
    "# Define the scoring metrics\n",
    "scoring = {\n",
    "    'precision': make_scorer(precision_score),\n",
    "    'auc': make_scorer(roc_auc_score),\n",
    "    'log_loss': make_scorer(log_loss, greater_is_better=False, needs_proba=True)\n",
    "}\n",
    "\n",
    "# Initialize the Random Forest classifier\n",
    "rf_classifier = RandomForestClassifier(random_state=42)\n",
    "\n",
    "# Initialize GridSearchCV\n",
    "grid_search = GridSearchCV(estimator=rf_classifier, param_grid=param_grid, \n",
    "                           scoring=scoring, refit='precision', cv=5, verbose=2, n_jobs=-1, \n",
    "                           return_train_score=True)\n",
    "\n",
    "# Fit GridSearchCV to the data\n",
    "grid_search.fit(X_train, y_train)\n",
    "\n",
    "# Get the best parameters\n",
    "# best_params = grid_search.best_params_\n",
    "# print(\"Best parameters:\", best_params)\n",
    "\n",
    "# Get the best scores\n",
    "# best_scores = grid_search.cv_results_\n",
    "# print(\"Best scores:\", best_scores)"
   ]
  },
  {
   "cell_type": "code",
   "execution_count": 30,
   "metadata": {},
   "outputs": [
    {
     "data": {
      "text/plain": [
       "{'max_depth': None,\n",
       " 'min_samples_leaf': 1,\n",
       " 'min_samples_split': 2,\n",
       " 'n_estimators': 100}"
      ]
     },
     "execution_count": 30,
     "metadata": {},
     "output_type": "execute_result"
    }
   ],
   "source": [
    "grid_search.best_params_"
   ]
  },
  {
   "cell_type": "code",
   "execution_count": 31,
   "metadata": {},
   "outputs": [],
   "source": [
    "new_rf = RandomForestClassifier(n_estimators=100, max_depth=None, min_samples_leaf=1, min_samples_split=2)\n",
    "\n",
    "ml2 = {'final_model' : new_rf}"
   ]
  },
  {
   "cell_type": "code",
   "execution_count": 33,
   "metadata": {},
   "outputs": [
    {
     "name": "stdout",
     "output_type": "stream",
     "text": [
      "model - final_model\n",
      "acc - 0.78 ...... precision - 0.77 ...... \n",
      "log loss - 0.45 ...... AUC -  0.88\n",
      "***********************************************\n"
     ]
    }
   ],
   "source": [
    "perf_results = performance_report(best_feats_rs, best_targ_rs, ml2)"
   ]
  },
  {
   "cell_type": "code",
   "execution_count": 35,
   "metadata": {},
   "outputs": [
    {
     "data": {
      "image/png": "[encoded data removed]",
      "text/plain": [
       "<Figure size 800x600 with 1 Axes>"
      ]
     },
     "metadata": {},
     "output_type": "display_data"
    }
   ],
   "source": [
    "from sklearn.metrics import roc_curve, auc\n",
    "\n",
    "new_rf.fit(X_train, y_train)\n",
    "new_probs = new_rf.predict_proba(X_test)[:, 1]\n",
    "\n",
    "fpr, tpr, thresholds = roc_curve(y_test, new_probs)\n",
    "\n",
    "roc_auc = auc(fpr, tpr)\n",
    "\n",
    "# Plot ROC curve\n",
    "plt.figure(figsize=(8, 6))\n",
    "plt.plot(fpr, tpr, color='blue', lw=2, label='ROC curve (AUC = %0.2f)' % roc_auc)\n",
    "plt.plot([0, 1], [0, 1], color='gray', linestyle='--', lw=1)  # Random guessing line\n",
    "plt.xlim([0.0, 1.0])\n",
    "plt.ylim([0.0, 1.05])\n",
    "plt.xlabel('False Positive Rate')\n",
    "plt.ylabel('True Positive Rate')\n",
    "plt.title('Receiver Operating Characteristic (ROC) Curve')\n",
    "plt.legend(loc='lower right')\n",
    "plt.grid(True)\n",
    "plt.show()"
   ]
  },
  {
   "cell_type": "markdown",
   "metadata": {},
   "source": [
    "This tends towards precision as much as possible so we have a good model"
   ]
  }
 ],
 "metadata": {
  "kernelspec": {
   "display_name": "basic_ml_stuff",
   "language": "python",
   "name": "python3"
  },
  "language_info": {
   "codemirror_mode": {
    "name": "ipython",
    "version": 3
   },
   "file_extension": ".py",
   "mimetype": "text/x-python",
   "name": "python",
   "nbconvert_exporter": "python",
   "pygments_lexer": "ipython3",
   "version": "3.11.5"
  }
 },
 "nbformat": 4,
 "nbformat_minor": 2
}
