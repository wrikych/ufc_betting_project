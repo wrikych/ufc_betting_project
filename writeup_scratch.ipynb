{
 "cells": [
  {
   "cell_type": "code",
   "execution_count": 1,
   "metadata": {},
   "outputs": [],
   "source": [
    "import numpy as np \n",
    "import pandas as pd\n",
    "from helpers import * \n",
    "import warnings\n",
    "from pandas.errors import SettingWithCopyWarning\n",
    "from sklearn.preprocessing import StandardScaler\n",
    "\n",
    "warnings.simplefilter(action=\"ignore\", category=SettingWithCopyWarning)\n",
    "warnings.simplefilter(action=\"ignore\", category=FutureWarning)\n",
    "ufc = pd.read_csv('ufc-master.csv')"
   ]
  },
  {
   "cell_type": "code",
   "execution_count": 2,
   "metadata": {},
   "outputs": [
    {
     "data": {
      "text/html": [
       "<div>\n",
       "<style scoped>\n",
       "    .dataframe tbody tr th:only-of-type {\n",
       "        vertical-align: middle;\n",
       "    }\n",
       "\n",
       "    .dataframe tbody tr th {\n",
       "        vertical-align: top;\n",
       "    }\n",
       "\n",
       "    .dataframe thead th {\n",
       "        text-align: right;\n",
       "    }\n",
       "</style>\n",
       "<table border=\"1\" class=\"dataframe\">\n",
       "  <thead>\n",
       "    <tr style=\"text-align: right;\">\n",
       "      <th></th>\n",
       "      <th>R_fighter</th>\n",
       "      <th>B_fighter</th>\n",
       "      <th>R_odds</th>\n",
       "      <th>B_odds</th>\n",
       "      <th>R_ev</th>\n",
       "      <th>B_ev</th>\n",
       "      <th>date</th>\n",
       "      <th>location</th>\n",
       "      <th>country</th>\n",
       "      <th>Winner</th>\n",
       "      <th>...</th>\n",
       "      <th>total_fight_time_secs</th>\n",
       "      <th>r_dec_odds</th>\n",
       "      <th>b_dec_odds</th>\n",
       "      <th>r_sub_odds</th>\n",
       "      <th>b_sub_odds</th>\n",
       "      <th>r_ko_odds</th>\n",
       "      <th>b_ko_odds</th>\n",
       "      <th>R_perf_idx</th>\n",
       "      <th>B_perf_idx</th>\n",
       "      <th>perf_diff</th>\n",
       "    </tr>\n",
       "  </thead>\n",
       "  <tbody>\n",
       "    <tr>\n",
       "      <th>0</th>\n",
       "      <td>Thiago Santos</td>\n",
       "      <td>Johnny Walker</td>\n",
       "      <td>-150.0</td>\n",
       "      <td>130</td>\n",
       "      <td>66.666667</td>\n",
       "      <td>130.000000</td>\n",
       "      <td>2021-10-02</td>\n",
       "      <td>Las Vegas, Nevada, USA</td>\n",
       "      <td>USA</td>\n",
       "      <td>Red</td>\n",
       "      <td>...</td>\n",
       "      <td>1500.0</td>\n",
       "      <td>800.0</td>\n",
       "      <td>900.0</td>\n",
       "      <td>2000.0</td>\n",
       "      <td>1600.0</td>\n",
       "      <td>-110.0</td>\n",
       "      <td>175.0</td>\n",
       "      <td>0.608276</td>\n",
       "      <td>1.355765</td>\n",
       "      <td>-0.747489</td>\n",
       "    </tr>\n",
       "    <tr>\n",
       "      <th>1</th>\n",
       "      <td>Alex Oliveira</td>\n",
       "      <td>Niko Price</td>\n",
       "      <td>170.0</td>\n",
       "      <td>-200</td>\n",
       "      <td>170.000000</td>\n",
       "      <td>50.000000</td>\n",
       "      <td>2021-10-02</td>\n",
       "      <td>Las Vegas, Nevada, USA</td>\n",
       "      <td>USA</td>\n",
       "      <td>Blue</td>\n",
       "      <td>...</td>\n",
       "      <td>900.0</td>\n",
       "      <td>450.0</td>\n",
       "      <td>350.0</td>\n",
       "      <td>700.0</td>\n",
       "      <td>1100.0</td>\n",
       "      <td>550.0</td>\n",
       "      <td>120.0</td>\n",
       "      <td>0.804363</td>\n",
       "      <td>0.929946</td>\n",
       "      <td>-0.125583</td>\n",
       "    </tr>\n",
       "    <tr>\n",
       "      <th>2</th>\n",
       "      <td>Misha Cirkunov</td>\n",
       "      <td>Krzysztof Jotko</td>\n",
       "      <td>110.0</td>\n",
       "      <td>-130</td>\n",
       "      <td>110.000000</td>\n",
       "      <td>76.923077</td>\n",
       "      <td>2021-10-02</td>\n",
       "      <td>Las Vegas, Nevada, USA</td>\n",
       "      <td>USA</td>\n",
       "      <td>Blue</td>\n",
       "      <td>...</td>\n",
       "      <td>900.0</td>\n",
       "      <td>550.0</td>\n",
       "      <td>275.0</td>\n",
       "      <td>275.0</td>\n",
       "      <td>1400.0</td>\n",
       "      <td>600.0</td>\n",
       "      <td>185.0</td>\n",
       "      <td>1.823102</td>\n",
       "      <td>0.541941</td>\n",
       "      <td>1.281161</td>\n",
       "    </tr>\n",
       "    <tr>\n",
       "      <th>3</th>\n",
       "      <td>Alexander Hernandez</td>\n",
       "      <td>Mike Breeden</td>\n",
       "      <td>-675.0</td>\n",
       "      <td>475</td>\n",
       "      <td>14.814815</td>\n",
       "      <td>475.000000</td>\n",
       "      <td>2021-10-02</td>\n",
       "      <td>Las Vegas, Nevada, USA</td>\n",
       "      <td>USA</td>\n",
       "      <td>Red</td>\n",
       "      <td>...</td>\n",
       "      <td>80.0</td>\n",
       "      <td>175.0</td>\n",
       "      <td>900.0</td>\n",
       "      <td>500.0</td>\n",
       "      <td>3500.0</td>\n",
       "      <td>110.0</td>\n",
       "      <td>1100.0</td>\n",
       "      <td>0.502096</td>\n",
       "      <td>0.340000</td>\n",
       "      <td>0.162096</td>\n",
       "    </tr>\n",
       "    <tr>\n",
       "      <th>4</th>\n",
       "      <td>Joe Solecki</td>\n",
       "      <td>Jared Gordon</td>\n",
       "      <td>-135.0</td>\n",
       "      <td>115</td>\n",
       "      <td>74.074074</td>\n",
       "      <td>115.000000</td>\n",
       "      <td>2021-10-02</td>\n",
       "      <td>Las Vegas, Nevada, USA</td>\n",
       "      <td>USA</td>\n",
       "      <td>Blue</td>\n",
       "      <td>...</td>\n",
       "      <td>900.0</td>\n",
       "      <td>165.0</td>\n",
       "      <td>200.0</td>\n",
       "      <td>400.0</td>\n",
       "      <td>1200.0</td>\n",
       "      <td>900.0</td>\n",
       "      <td>600.0</td>\n",
       "      <td>1.007373</td>\n",
       "      <td>0.682422</td>\n",
       "      <td>0.324951</td>\n",
       "    </tr>\n",
       "  </tbody>\n",
       "</table>\n",
       "<p>5 rows × 122 columns</p>\n",
       "</div>"
      ],
      "text/plain": [
       "             R_fighter        B_fighter  R_odds  B_odds        R_ev  \\\n",
       "0        Thiago Santos    Johnny Walker  -150.0     130   66.666667   \n",
       "1        Alex Oliveira       Niko Price   170.0    -200  170.000000   \n",
       "2       Misha Cirkunov  Krzysztof Jotko   110.0    -130  110.000000   \n",
       "3  Alexander Hernandez     Mike Breeden  -675.0     475   14.814815   \n",
       "4          Joe Solecki     Jared Gordon  -135.0     115   74.074074   \n",
       "\n",
       "         B_ev        date                location country Winner  ...  \\\n",
       "0  130.000000  2021-10-02  Las Vegas, Nevada, USA     USA    Red  ...   \n",
       "1   50.000000  2021-10-02  Las Vegas, Nevada, USA     USA   Blue  ...   \n",
       "2   76.923077  2021-10-02  Las Vegas, Nevada, USA     USA   Blue  ...   \n",
       "3  475.000000  2021-10-02  Las Vegas, Nevada, USA     USA    Red  ...   \n",
       "4  115.000000  2021-10-02  Las Vegas, Nevada, USA     USA   Blue  ...   \n",
       "\n",
       "   total_fight_time_secs r_dec_odds b_dec_odds  r_sub_odds  b_sub_odds  \\\n",
       "0                 1500.0      800.0      900.0      2000.0      1600.0   \n",
       "1                  900.0      450.0      350.0       700.0      1100.0   \n",
       "2                  900.0      550.0      275.0       275.0      1400.0   \n",
       "3                   80.0      175.0      900.0       500.0      3500.0   \n",
       "4                  900.0      165.0      200.0       400.0      1200.0   \n",
       "\n",
       "   r_ko_odds  b_ko_odds  R_perf_idx  B_perf_idx  perf_diff  \n",
       "0     -110.0      175.0    0.608276    1.355765  -0.747489  \n",
       "1      550.0      120.0    0.804363    0.929946  -0.125583  \n",
       "2      600.0      185.0    1.823102    0.541941   1.281161  \n",
       "3      110.0     1100.0    0.502096    0.340000   0.162096  \n",
       "4      900.0      600.0    1.007373    0.682422   0.324951  \n",
       "\n",
       "[5 rows x 122 columns]"
      ]
     },
     "execution_count": 2,
     "metadata": {},
     "output_type": "execute_result"
    }
   ],
   "source": [
    "AD = data_prep_and_feat_engineering(ufc, cat_thresh=0.001, squared_thresh=0.0625)\n",
    "best_approach = ufc.copy() ## creating a new copy of the data to manipulate\n",
    "best_cols = AD['approach 6'][1] ## features from approach 6\n",
    "best_approach, best_cols = performance_index(best_approach, best_cols, diff=True) ## creating performance index difference variable\n",
    "best_approach.head()"
   ]
  },
  {
   "cell_type": "code",
   "execution_count": 3,
   "metadata": {},
   "outputs": [
    {
     "data": {
      "text/plain": [
       "(4896, 122)"
      ]
     },
     "execution_count": 3,
     "metadata": {},
     "output_type": "execute_result"
    }
   ],
   "source": [
    "best_approach.shape"
   ]
  },
  {
   "cell_type": "code",
   "execution_count": 4,
   "metadata": {},
   "outputs": [
    {
     "name": "stdout",
     "output_type": "stream",
     "text": [
      "Information loss : 954 entries\n",
      "Remaining information: 3942 entries\n"
     ]
    }
   ],
   "source": [
    "### dropping nulls\n",
    "best_approach = best_approach.dropna(subset=best_cols)\n",
    "print(f\"Information loss : {ufc.shape[0] - best_approach.shape[0]} entries\")\n",
    "print(f\"Remaining information: {best_approach.shape[0]} entries\")"
   ]
  },
  {
   "cell_type": "code",
   "execution_count": 5,
   "metadata": {},
   "outputs": [],
   "source": [
    "### encoding and separating target, creating features \n",
    "\n",
    "best_feats = best_approach[best_cols]\n",
    "targ = [0 if victor == 'Red' else 1 for victor in best_approach['Winner']]"
   ]
  },
  {
   "cell_type": "code",
   "execution_count": 8,
   "metadata": {},
   "outputs": [],
   "source": [
    "### resampling \n",
    "\n",
    "best_feats_rs, best_targ_rs = resample_dataframe(best_feats, targ)"
   ]
  },
  {
   "cell_type": "code",
   "execution_count": 10,
   "metadata": {},
   "outputs": [],
   "source": [
    "from sklearn.preprocessing import LabelEncoder\n",
    "\n",
    "le = LabelEncoder()\n",
    "num, cat = num_and_cat(best_feats_rs)\n",
    "\n",
    "for col in cat:\n",
    "    best_feats_rs[col] = le.fit_transform(best_feats_rs[col])\n"
   ]
  },
  {
   "cell_type": "code",
   "execution_count": 11,
   "metadata": {},
   "outputs": [],
   "source": [
    "from sklearn.ensemble import RandomForestClassifier\n",
    "from sklearn.model_selection import train_test_split\n",
    "from sklearn.metrics import log_loss, roc_auc_score\n",
    "\n",
    "rf = RandomForestClassifier()\n",
    "\n",
    "X_train, X_test, y_train, y_test = train_test_split(best_feats_rs, best_targ_rs, test_size=0.2, random_state=0)\n",
    "\n",
    "rf.fit(X_train, y_train)\n",
    "\n",
    "y_pred_proba = rf.predict_proba(X_test)\n",
    "\n",
    "logloss = log_loss(y_test, y_pred_proba)"
   ]
  },
  {
   "cell_type": "code",
   "execution_count": 12,
   "metadata": {},
   "outputs": [
    {
     "data": {
      "text/plain": [
       "0.44848699545316884"
      ]
     },
     "execution_count": 12,
     "metadata": {},
     "output_type": "execute_result"
    }
   ],
   "source": [
    "logloss"
   ]
  },
  {
   "cell_type": "code",
   "execution_count": 13,
   "metadata": {},
   "outputs": [],
   "source": [
    "auc = roc_auc_score(y_test, y_pred_proba[:, 1])"
   ]
  },
  {
   "cell_type": "code",
   "execution_count": 14,
   "metadata": {},
   "outputs": [
    {
     "data": {
      "text/plain": [
       "0.8775967014486106"
      ]
     },
     "execution_count": 14,
     "metadata": {},
     "output_type": "execute_result"
    }
   ],
   "source": [
    "auc"
   ]
  },
  {
   "cell_type": "code",
   "execution_count": 18,
   "metadata": {},
   "outputs": [],
   "source": [
    "from sklearn.ensemble import GradientBoostingClassifier\n",
    "\n",
    "gb = GradientBoostingClassifier()\n",
    "\n",
    "X_train, X_test, y_train, y_test = train_test_split(best_feats_rs, best_targ_rs, test_size=0.2, random_state=0)\n",
    "\n",
    "gb.fit(X_train, y_train)\n",
    "\n",
    "y_pred_proba = gb.predict_proba(X_test)\n",
    "\n",
    "logloss = log_loss(y_test, y_pred_proba)"
   ]
  },
  {
   "cell_type": "code",
   "execution_count": 20,
   "metadata": {},
   "outputs": [],
   "source": [
    "auc = roc_auc_score(y_test, y_pred_proba[:, 1])"
   ]
  },
  {
   "cell_type": "code",
   "execution_count": 21,
   "metadata": {},
   "outputs": [
    {
     "data": {
      "text/plain": [
       "0.7289062798608723"
      ]
     },
     "execution_count": 21,
     "metadata": {},
     "output_type": "execute_result"
    }
   ],
   "source": [
    "auc"
   ]
  },
  {
   "cell_type": "code",
   "execution_count": 22,
   "metadata": {},
   "outputs": [],
   "source": [
    "from sklearn.ensemble import BaggingClassifier\n",
    "\n",
    "bag = BaggingClassifier()\n",
    "\n",
    "X_train, X_test, y_train, y_test = train_test_split(best_feats_rs, best_targ_rs, test_size=0.2, random_state=0)\n",
    "\n",
    "bag.fit(X_train, y_train)\n",
    "\n",
    "y_pred_proba = bag.predict_proba(X_test)\n",
    "\n",
    "logloss = log_loss(y_test, y_pred_proba)\n"
   ]
  },
  {
   "cell_type": "code",
   "execution_count": 24,
   "metadata": {},
   "outputs": [
    {
     "data": {
      "text/plain": [
       "0.7500328121615062"
      ]
     },
     "execution_count": 24,
     "metadata": {},
     "output_type": "execute_result"
    }
   ],
   "source": [
    "logloss"
   ]
  },
  {
   "cell_type": "code",
   "execution_count": 25,
   "metadata": {},
   "outputs": [],
   "source": [
    "ml_dict = {'rf' : rf,\n",
    "           'gb' : gb, \n",
    "           'bag' : bag}\n",
    "\n"
   ]
  },
  {
   "cell_type": "code",
   "execution_count": 26,
   "metadata": {},
   "outputs": [],
   "source": [
    "from sklearn.metrics import accuracy_score, precision_score\n",
    "\n",
    "def performance_report(feats, targ, ml_dict):\n",
    "    \n",
    "    X_train, X_test, y_train, y_test = train_test_split(feats, targ, test_size=0.2, random_state=0)\n",
    "    \n",
    "    results_dict = {}\n",
    "    \n",
    "    for key in ml_dict.keys():\n",
    "        model = ml_dict[key]\n",
    "        model.fit(X_train, y_train)\n",
    "        model_preds = model.predict(X_test)\n",
    "        model_preds_probs = model.predict_proba(X_test)\n",
    "        m_acc = accuracy_score(model_preds, y_test)\n",
    "        m_pre = precision_score(y_test, model_preds)\n",
    "        m_log = log_loss(y_test, model_preds_probs)\n",
    "        m_auc = roc_auc_score(y_test, model_preds_probs[:, 1])\n",
    "        \n",
    "        print(f\"model - {key}\")\n",
    "        print(f\"acc - {m_acc:.2f} ...... precision - {m_pre:.2f} ...... \")\n",
    "        print(f\"log loss - {m_log:.2f} ...... AUC -  {m_auc:.2f}\")\n",
    "        print('***********************************************')\n",
    "        \n",
    "        results_dict[key] = (m_acc, m_pre, m_log, m_auc)\n",
    "        \n",
    "    \n",
    "    return results_dict\n",
    "        \n",
    "    \n",
    "    "
   ]
  },
  {
   "cell_type": "code",
   "execution_count": 27,
   "metadata": {},
   "outputs": [
    {
     "name": "stdout",
     "output_type": "stream",
     "text": [
      "model - rf\n",
      "acc - 0.78 ...... precision - 0.77 ...... \n",
      "log loss - 0.45 ...... AUC -  0.88\n",
      "***********************************************\n",
      "model - gb\n",
      "acc - 0.68 ...... precision - 0.67 ...... \n",
      "log loss - 0.61 ...... AUC -  0.73\n",
      "***********************************************\n",
      "model - bag\n",
      "acc - 0.76 ...... precision - 0.75 ...... \n",
      "log loss - 0.83 ...... AUC -  0.84\n",
      "***********************************************\n"
     ]
    }
   ],
   "source": [
    "results = performance_report(best_feats_rs, best_targ_rs, ml_dict)"
   ]
  },
  {
   "cell_type": "code",
   "execution_count": 30,
   "metadata": {},
   "outputs": [
    {
     "data": {
      "image/png": "[encoded data removed]",
      "text/plain": [
       "<Figure size 640x480 with 1 Axes>"
      ]
     },
     "metadata": {},
     "output_type": "display_data"
    }
   ],
   "source": [
    "import matplotlib.pyplot as plt \n",
    "import seaborn as sns \n",
    "\n",
    "mods = list(results.keys())\n",
    "acc = [val[0] for val in list(results.values())]\n",
    "pre = [val[1] for val in list(results.values())]\n",
    "log = [val[2] for val in list(results.values())]\n",
    "auc = [val[3] for val in list(results.values())]\n",
    "\n",
    "# Create barplot using seaborn\n",
    "sns.barplot(x=mods, y=acc)\n",
    "\n",
    "# Add labels and title\n",
    "plt.xlabel('Model')\n",
    "plt.ylabel('Acc')\n",
    "plt.title('Model Accuracy')\n",
    "\n",
    "# Show the plot\n",
    "plt.show()"
   ]
  },
  {
   "cell_type": "code",
   "execution_count": 31,
   "metadata": {},
   "outputs": [
    {
     "data": {
      "image/png": "[encoded data removed]",
      "text/plain": [
       "<Figure size 640x480 with 1 Axes>"
      ]
     },
     "metadata": {},
     "output_type": "display_data"
    }
   ],
   "source": [
    "# Create barplot using seaborn\n",
    "sns.barplot(x=mods, y=pre)\n",
    "\n",
    "# Add labels and title\n",
    "plt.xlabel('Model')\n",
    "plt.ylabel('Pre')\n",
    "plt.title('Model Precision')\n",
    "\n",
    "# Show the plot\n",
    "plt.show()"
   ]
  },
  {
   "cell_type": "code",
   "execution_count": 32,
   "metadata": {},
   "outputs": [
    {
     "data": {
      "image/png": "[encoded data removed]",
      "text/plain": [
       "<Figure size 640x480 with 1 Axes>"
      ]
     },
     "metadata": {},
     "output_type": "display_data"
    }
   ],
   "source": [
    "# Create barplot using seaborn\n",
    "sns.barplot(x=mods, y=log)\n",
    "\n",
    "# Add labels and title\n",
    "plt.xlabel('Model')\n",
    "plt.ylabel('Log')\n",
    "plt.title('Model Log Loss')\n",
    "\n",
    "# Show the plot\n",
    "plt.show()"
   ]
  },
  {
   "cell_type": "code",
   "execution_count": null,
   "metadata": {},
   "outputs": [],
   "source": [
    "# Create barplot using seaborn\n",
    "sns.barplot(x=mods, y=acc)\n",
    "\n",
    "# Add labels and title\n",
    "plt.xlabel('Model')\n",
    "plt.ylabel('Acc')\n",
    "plt.title('Model Accuracy')\n",
    "\n",
    "# Show the plot\n",
    "plt.show()"
   ]
  },
  {
   "cell_type": "code",
   "execution_count": 33,
   "metadata": {},
   "outputs": [
    {
     "name": "stdout",
     "output_type": "stream",
     "text": [
      "Fitting 5 folds for each of 81 candidates, totalling 405 fits\n"
     ]
    },
    {
     "ename": "AttributeError",
     "evalue": "'GridSearchCV' object has no attribute 'best_params_'",
     "output_type": "error",
     "traceback": [
      "\u001b[1;31m---------------------------------------------------------------------------\u001b[0m",
      "\u001b[1;31mAttributeError\u001b[0m                            Traceback (most recent call last)",
      "Cell \u001b[1;32mIn[33], line 30\u001b[0m\n\u001b[0;32m     27\u001b[0m grid_search\u001b[38;5;241m.\u001b[39mfit(X_train, y_train)\n\u001b[0;32m     29\u001b[0m \u001b[38;5;66;03m# Get the best parameters\u001b[39;00m\n\u001b[1;32m---> 30\u001b[0m best_params \u001b[38;5;241m=\u001b[39m \u001b[43mgrid_search\u001b[49m\u001b[38;5;241;43m.\u001b[39;49m\u001b[43mbest_params_\u001b[49m\n\u001b[0;32m     31\u001b[0m \u001b[38;5;28mprint\u001b[39m(\u001b[38;5;124m\"\u001b[39m\u001b[38;5;124mBest parameters:\u001b[39m\u001b[38;5;124m\"\u001b[39m, best_params)\n\u001b[0;32m     33\u001b[0m \u001b[38;5;66;03m# Get the best scores\u001b[39;00m\n",
      "\u001b[1;31mAttributeError\u001b[0m: 'GridSearchCV' object has no attribute 'best_params_'"
     ]
    }
   ],
   "source": [
    "from sklearn.metrics import make_scorer\n",
    "from sklearn.model_selection import GridSearchCV\n",
    "\n",
    "param_grid = {\n",
    "    'n_estimators': [50, 100, 200],\n",
    "    'max_depth': [None, 10, 20],\n",
    "    'min_samples_split': [2, 5, 10],\n",
    "    'min_samples_leaf': [1, 2, 4]\n",
    "}\n",
    "\n",
    "# Define the scoring metrics\n",
    "scoring = {\n",
    "    'precision': make_scorer(precision_score),\n",
    "    'auc': make_scorer(roc_auc_score),\n",
    "    'log_loss': make_scorer(log_loss, greater_is_better=False, needs_proba=True)\n",
    "}\n",
    "\n",
    "# Initialize the Random Forest classifier\n",
    "rf_classifier = RandomForestClassifier(random_state=42)\n",
    "\n",
    "# Initialize GridSearchCV\n",
    "grid_search = GridSearchCV(estimator=rf_classifier, param_grid=param_grid, \n",
    "                           scoring=scoring, refit=False, cv=5, verbose=2, n_jobs=-1, \n",
    "                           return_train_score=True)\n",
    "\n",
    "# Fit GridSearchCV to the data\n",
    "grid_search.fit(X_train, y_train)\n",
    "\n",
    "# Get the best parameters\n",
    "best_params = grid_search.best_params_\n",
    "print(\"Best parameters:\", best_params)\n",
    "\n",
    "# Get the best scores\n",
    "best_scores = grid_search.cv_results_\n",
    "print(\"Best scores:\", best_scores)"
   ]
  },
  {
   "cell_type": "code",
   "execution_count": null,
   "metadata": {},
   "outputs": [
    {
     "data": {
      "text/plain": [
       "[{'max_depth': None,\n",
       "  'min_samples_leaf': 1,\n",
       "  'min_samples_split': 2,\n",
       "  'n_estimators': 50},\n",
       " {'max_depth': None,\n",
       "  'min_samples_leaf': 1,\n",
       "  'min_samples_split': 2,\n",
       "  'n_estimators': 100},\n",
       " {'max_depth': None,\n",
       "  'min_samples_leaf': 1,\n",
       "  'min_samples_split': 2,\n",
       "  'n_estimators': 200},\n",
       " {'max_depth': None,\n",
       "  'min_samples_leaf': 1,\n",
       "  'min_samples_split': 5,\n",
       "  'n_estimators': 50},\n",
       " {'max_depth': None,\n",
       "  'min_samples_leaf': 1,\n",
       "  'min_samples_split': 5,\n",
       "  'n_estimators': 100},\n",
       " {'max_depth': None,\n",
       "  'min_samples_leaf': 1,\n",
       "  'min_samples_split': 5,\n",
       "  'n_estimators': 200},\n",
       " {'max_depth': None,\n",
       "  'min_samples_leaf': 1,\n",
       "  'min_samples_split': 10,\n",
       "  'n_estimators': 50},\n",
       " {'max_depth': None,\n",
       "  'min_samples_leaf': 1,\n",
       "  'min_samples_split': 10,\n",
       "  'n_estimators': 100},\n",
       " {'max_depth': None,\n",
       "  'min_samples_leaf': 1,\n",
       "  'min_samples_split': 10,\n",
       "  'n_estimators': 200},\n",
       " {'max_depth': None,\n",
       "  'min_samples_leaf': 2,\n",
       "  'min_samples_split': 2,\n",
       "  'n_estimators': 50},\n",
       " {'max_depth': None,\n",
       "  'min_samples_leaf': 2,\n",
       "  'min_samples_split': 2,\n",
       "  'n_estimators': 100},\n",
       " {'max_depth': None,\n",
       "  'min_samples_leaf': 2,\n",
       "  'min_samples_split': 2,\n",
       "  'n_estimators': 200},\n",
       " {'max_depth': None,\n",
       "  'min_samples_leaf': 2,\n",
       "  'min_samples_split': 5,\n",
       "  'n_estimators': 50},\n",
       " {'max_depth': None,\n",
       "  'min_samples_leaf': 2,\n",
       "  'min_samples_split': 5,\n",
       "  'n_estimators': 100},\n",
       " {'max_depth': None,\n",
       "  'min_samples_leaf': 2,\n",
       "  'min_samples_split': 5,\n",
       "  'n_estimators': 200},\n",
       " {'max_depth': None,\n",
       "  'min_samples_leaf': 2,\n",
       "  'min_samples_split': 10,\n",
       "  'n_estimators': 50},\n",
       " {'max_depth': None,\n",
       "  'min_samples_leaf': 2,\n",
       "  'min_samples_split': 10,\n",
       "  'n_estimators': 100},\n",
       " {'max_depth': None,\n",
       "  'min_samples_leaf': 2,\n",
       "  'min_samples_split': 10,\n",
       "  'n_estimators': 200},\n",
       " {'max_depth': None,\n",
       "  'min_samples_leaf': 4,\n",
       "  'min_samples_split': 2,\n",
       "  'n_estimators': 50},\n",
       " {'max_depth': None,\n",
       "  'min_samples_leaf': 4,\n",
       "  'min_samples_split': 2,\n",
       "  'n_estimators': 100},\n",
       " {'max_depth': None,\n",
       "  'min_samples_leaf': 4,\n",
       "  'min_samples_split': 2,\n",
       "  'n_estimators': 200},\n",
       " {'max_depth': None,\n",
       "  'min_samples_leaf': 4,\n",
       "  'min_samples_split': 5,\n",
       "  'n_estimators': 50},\n",
       " {'max_depth': None,\n",
       "  'min_samples_leaf': 4,\n",
       "  'min_samples_split': 5,\n",
       "  'n_estimators': 100},\n",
       " {'max_depth': None,\n",
       "  'min_samples_leaf': 4,\n",
       "  'min_samples_split': 5,\n",
       "  'n_estimators': 200},\n",
       " {'max_depth': None,\n",
       "  'min_samples_leaf': 4,\n",
       "  'min_samples_split': 10,\n",
       "  'n_estimators': 50},\n",
       " {'max_depth': None,\n",
       "  'min_samples_leaf': 4,\n",
       "  'min_samples_split': 10,\n",
       "  'n_estimators': 100},\n",
       " {'max_depth': None,\n",
       "  'min_samples_leaf': 4,\n",
       "  'min_samples_split': 10,\n",
       "  'n_estimators': 200},\n",
       " {'max_depth': 10,\n",
       "  'min_samples_leaf': 1,\n",
       "  'min_samples_split': 2,\n",
       "  'n_estimators': 50},\n",
       " {'max_depth': 10,\n",
       "  'min_samples_leaf': 1,\n",
       "  'min_samples_split': 2,\n",
       "  'n_estimators': 100},\n",
       " {'max_depth': 10,\n",
       "  'min_samples_leaf': 1,\n",
       "  'min_samples_split': 2,\n",
       "  'n_estimators': 200},\n",
       " {'max_depth': 10,\n",
       "  'min_samples_leaf': 1,\n",
       "  'min_samples_split': 5,\n",
       "  'n_estimators': 50},\n",
       " {'max_depth': 10,\n",
       "  'min_samples_leaf': 1,\n",
       "  'min_samples_split': 5,\n",
       "  'n_estimators': 100},\n",
       " {'max_depth': 10,\n",
       "  'min_samples_leaf': 1,\n",
       "  'min_samples_split': 5,\n",
       "  'n_estimators': 200},\n",
       " {'max_depth': 10,\n",
       "  'min_samples_leaf': 1,\n",
       "  'min_samples_split': 10,\n",
       "  'n_estimators': 50},\n",
       " {'max_depth': 10,\n",
       "  'min_samples_leaf': 1,\n",
       "  'min_samples_split': 10,\n",
       "  'n_estimators': 100},\n",
       " {'max_depth': 10,\n",
       "  'min_samples_leaf': 1,\n",
       "  'min_samples_split': 10,\n",
       "  'n_estimators': 200},\n",
       " {'max_depth': 10,\n",
       "  'min_samples_leaf': 2,\n",
       "  'min_samples_split': 2,\n",
       "  'n_estimators': 50},\n",
       " {'max_depth': 10,\n",
       "  'min_samples_leaf': 2,\n",
       "  'min_samples_split': 2,\n",
       "  'n_estimators': 100},\n",
       " {'max_depth': 10,\n",
       "  'min_samples_leaf': 2,\n",
       "  'min_samples_split': 2,\n",
       "  'n_estimators': 200},\n",
       " {'max_depth': 10,\n",
       "  'min_samples_leaf': 2,\n",
       "  'min_samples_split': 5,\n",
       "  'n_estimators': 50},\n",
       " {'max_depth': 10,\n",
       "  'min_samples_leaf': 2,\n",
       "  'min_samples_split': 5,\n",
       "  'n_estimators': 100},\n",
       " {'max_depth': 10,\n",
       "  'min_samples_leaf': 2,\n",
       "  'min_samples_split': 5,\n",
       "  'n_estimators': 200},\n",
       " {'max_depth': 10,\n",
       "  'min_samples_leaf': 2,\n",
       "  'min_samples_split': 10,\n",
       "  'n_estimators': 50},\n",
       " {'max_depth': 10,\n",
       "  'min_samples_leaf': 2,\n",
       "  'min_samples_split': 10,\n",
       "  'n_estimators': 100},\n",
       " {'max_depth': 10,\n",
       "  'min_samples_leaf': 2,\n",
       "  'min_samples_split': 10,\n",
       "  'n_estimators': 200},\n",
       " {'max_depth': 10,\n",
       "  'min_samples_leaf': 4,\n",
       "  'min_samples_split': 2,\n",
       "  'n_estimators': 50},\n",
       " {'max_depth': 10,\n",
       "  'min_samples_leaf': 4,\n",
       "  'min_samples_split': 2,\n",
       "  'n_estimators': 100},\n",
       " {'max_depth': 10,\n",
       "  'min_samples_leaf': 4,\n",
       "  'min_samples_split': 2,\n",
       "  'n_estimators': 200},\n",
       " {'max_depth': 10,\n",
       "  'min_samples_leaf': 4,\n",
       "  'min_samples_split': 5,\n",
       "  'n_estimators': 50},\n",
       " {'max_depth': 10,\n",
       "  'min_samples_leaf': 4,\n",
       "  'min_samples_split': 5,\n",
       "  'n_estimators': 100},\n",
       " {'max_depth': 10,\n",
       "  'min_samples_leaf': 4,\n",
       "  'min_samples_split': 5,\n",
       "  'n_estimators': 200},\n",
       " {'max_depth': 10,\n",
       "  'min_samples_leaf': 4,\n",
       "  'min_samples_split': 10,\n",
       "  'n_estimators': 50},\n",
       " {'max_depth': 10,\n",
       "  'min_samples_leaf': 4,\n",
       "  'min_samples_split': 10,\n",
       "  'n_estimators': 100},\n",
       " {'max_depth': 10,\n",
       "  'min_samples_leaf': 4,\n",
       "  'min_samples_split': 10,\n",
       "  'n_estimators': 200},\n",
       " {'max_depth': 20,\n",
       "  'min_samples_leaf': 1,\n",
       "  'min_samples_split': 2,\n",
       "  'n_estimators': 50},\n",
       " {'max_depth': 20,\n",
       "  'min_samples_leaf': 1,\n",
       "  'min_samples_split': 2,\n",
       "  'n_estimators': 100},\n",
       " {'max_depth': 20,\n",
       "  'min_samples_leaf': 1,\n",
       "  'min_samples_split': 2,\n",
       "  'n_estimators': 200},\n",
       " {'max_depth': 20,\n",
       "  'min_samples_leaf': 1,\n",
       "  'min_samples_split': 5,\n",
       "  'n_estimators': 50},\n",
       " {'max_depth': 20,\n",
       "  'min_samples_leaf': 1,\n",
       "  'min_samples_split': 5,\n",
       "  'n_estimators': 100},\n",
       " {'max_depth': 20,\n",
       "  'min_samples_leaf': 1,\n",
       "  'min_samples_split': 5,\n",
       "  'n_estimators': 200},\n",
       " {'max_depth': 20,\n",
       "  'min_samples_leaf': 1,\n",
       "  'min_samples_split': 10,\n",
       "  'n_estimators': 50},\n",
       " {'max_depth': 20,\n",
       "  'min_samples_leaf': 1,\n",
       "  'min_samples_split': 10,\n",
       "  'n_estimators': 100},\n",
       " {'max_depth': 20,\n",
       "  'min_samples_leaf': 1,\n",
       "  'min_samples_split': 10,\n",
       "  'n_estimators': 200},\n",
       " {'max_depth': 20,\n",
       "  'min_samples_leaf': 2,\n",
       "  'min_samples_split': 2,\n",
       "  'n_estimators': 50},\n",
       " {'max_depth': 20,\n",
       "  'min_samples_leaf': 2,\n",
       "  'min_samples_split': 2,\n",
       "  'n_estimators': 100},\n",
       " {'max_depth': 20,\n",
       "  'min_samples_leaf': 2,\n",
       "  'min_samples_split': 2,\n",
       "  'n_estimators': 200},\n",
       " {'max_depth': 20,\n",
       "  'min_samples_leaf': 2,\n",
       "  'min_samples_split': 5,\n",
       "  'n_estimators': 50},\n",
       " {'max_depth': 20,\n",
       "  'min_samples_leaf': 2,\n",
       "  'min_samples_split': 5,\n",
       "  'n_estimators': 100},\n",
       " {'max_depth': 20,\n",
       "  'min_samples_leaf': 2,\n",
       "  'min_samples_split': 5,\n",
       "  'n_estimators': 200},\n",
       " {'max_depth': 20,\n",
       "  'min_samples_leaf': 2,\n",
       "  'min_samples_split': 10,\n",
       "  'n_estimators': 50},\n",
       " {'max_depth': 20,\n",
       "  'min_samples_leaf': 2,\n",
       "  'min_samples_split': 10,\n",
       "  'n_estimators': 100},\n",
       " {'max_depth': 20,\n",
       "  'min_samples_leaf': 2,\n",
       "  'min_samples_split': 10,\n",
       "  'n_estimators': 200},\n",
       " {'max_depth': 20,\n",
       "  'min_samples_leaf': 4,\n",
       "  'min_samples_split': 2,\n",
       "  'n_estimators': 50},\n",
       " {'max_depth': 20,\n",
       "  'min_samples_leaf': 4,\n",
       "  'min_samples_split': 2,\n",
       "  'n_estimators': 100},\n",
       " {'max_depth': 20,\n",
       "  'min_samples_leaf': 4,\n",
       "  'min_samples_split': 2,\n",
       "  'n_estimators': 200},\n",
       " {'max_depth': 20,\n",
       "  'min_samples_leaf': 4,\n",
       "  'min_samples_split': 5,\n",
       "  'n_estimators': 50},\n",
       " {'max_depth': 20,\n",
       "  'min_samples_leaf': 4,\n",
       "  'min_samples_split': 5,\n",
       "  'n_estimators': 100},\n",
       " {'max_depth': 20,\n",
       "  'min_samples_leaf': 4,\n",
       "  'min_samples_split': 5,\n",
       "  'n_estimators': 200},\n",
       " {'max_depth': 20,\n",
       "  'min_samples_leaf': 4,\n",
       "  'min_samples_split': 10,\n",
       "  'n_estimators': 50},\n",
       " {'max_depth': 20,\n",
       "  'min_samples_leaf': 4,\n",
       "  'min_samples_split': 10,\n",
       "  'n_estimators': 100},\n",
       " {'max_depth': 20,\n",
       "  'min_samples_leaf': 4,\n",
       "  'min_samples_split': 10,\n",
       "  'n_estimators': 200}]"
      ]
     },
     "execution_count": 42,
     "metadata": {},
     "output_type": "execute_result"
    }
   ],
   "source": [
    "grid_search"
   ]
  },
  {
   "cell_type": "code",
   "execution_count": null,
   "metadata": {},
   "outputs": [],
   "source": [
    "."
   ]
  }
 ],
 "metadata": {
  "kernelspec": {
   "display_name": "basic_ml_stuff",
   "language": "python",
   "name": "python3"
  },
  "language_info": {
   "codemirror_mode": {
    "name": "ipython",
    "version": 3
   },
   "file_extension": ".py",
   "mimetype": "text/x-python",
   "name": "python",
   "nbconvert_exporter": "python",
   "pygments_lexer": "ipython3",
   "version": "3.11.5"
  }
 },
 "nbformat": 4,
 "nbformat_minor": 2
}
