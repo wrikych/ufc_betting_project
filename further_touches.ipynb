{
 "cells": [
  {
   "cell_type": "markdown",
   "metadata": {},
   "source": [
    "Starting with the best result we have so far. We will take it as far as we can go in terms of accuracy, then start to study what makes each algorithm tick, as well as the predict probabilities aspect and if we want to go down that road. "
   ]
  },
  {
   "cell_type": "code",
   "execution_count": 74,
   "metadata": {},
   "outputs": [],
   "source": [
    "import numpy as np \n",
    "import pandas as pd\n",
    "from helpers import * \n",
    "import warnings\n",
    "from pandas.errors import SettingWithCopyWarning\n",
    "\n",
    "warnings.simplefilter(action=\"ignore\", category=SettingWithCopyWarning)\n",
    "warnings.simplefilter(action=\"ignore\", category=FutureWarning)\n",
    "ufc = pd.read_csv('ufc-master.csv')"
   ]
  },
  {
   "cell_type": "code",
   "execution_count": 75,
   "metadata": {},
   "outputs": [],
   "source": [
    "older_fighter = []\n",
    "\n",
    "for i, row in ufc.iterrows():\n",
    "    if row['R_age'] > row['B_age']:\n",
    "        older_fighter.append(1)\n",
    "    else:\n",
    "        older_fighter.append(0)\n",
    "\n",
    "ufc['Older_fighter'] = older_fighter"
   ]
  },
  {
   "cell_type": "code",
   "execution_count": 76,
   "metadata": {},
   "outputs": [],
   "source": [
    "feats, targ = fine_tuning_setup(ufc, one_or_two=True)"
   ]
  },
  {
   "cell_type": "code",
   "execution_count": 77,
   "metadata": {},
   "outputs": [],
   "source": [
    "feats['Older_fighter'] = ufc['Older_fighter']\n"
   ]
  },
  {
   "cell_type": "code",
   "execution_count": 72,
   "metadata": {},
   "outputs": [],
   "source": [
    "for col in feats.columns:\n",
    "    if col in ['R_age', 'B_age']:\n",
    "        feats = feats.drop(col, axis=1)"
   ]
  },
  {
   "cell_type": "code",
   "execution_count": 81,
   "metadata": {},
   "outputs": [],
   "source": [
    "from sklearn.ensemble import BaggingClassifier, RandomForestClassifier, GradientBoostingClassifier, ExtraTreesClassifier, HistGradientBoostingClassifier\n",
    "from lightgbm import LGBMClassifier\n",
    "from xgboost import XGBClassifier\n",
    "\n",
    "bag = BaggingClassifier(n_estimators=150)\n",
    "rf = RandomForestClassifier(n_estimators=175, max_features='log2', criterion='gini')\n",
    "gb = GradientBoostingClassifier(learning_rate=0.2, criterion='squared_error', max_depth=15)\n",
    "hgb = HistGradientBoostingClassifier(learning_rate=0.1, max_depth=150,max_leaf_nodes=None)\n",
    "extra = ExtraTreesClassifier(n_estimators=75)\n",
    "lgbm = LGBMClassifier(learning_rate=0.1, num_leaves=170)\n",
    "xgb = XGBClassifier(reg_lambda=1.5, learning_rate=0.25)\n",
    "\n",
    "\n",
    "ml_1 = {'bag' : bag,\n",
    "        'extra' : extra, \n",
    "        'rf' : rf,\n",
    "        'gb' : gb}\n",
    "\n",
    "ml_2 = {'rf' : rf,\n",
    "        'gb' : gb,\n",
    "        'hgb' : hgb,\n",
    "        'bag' : bag}\n",
    "\n",
    "ml_3 = {'rf' : rf,\n",
    "        'gb' : gb,\n",
    "        'bag' : bag,\n",
    "        'xgb' : xgb}\n",
    "\n",
    "ml_4 = {'rf' : rf,\n",
    "        'gb' : gb,\n",
    "        'bag' : bag,\n",
    "        'hgb' : hgb,\n",
    "        'xgb' : xgb}\n",
    "\n",
    "ml_all = {'rf' : rf,\n",
    "        'gb' : gb,\n",
    "        'bag' : bag,\n",
    "        'hgb' : hgb,\n",
    "        'xgb' : xgb,\n",
    "        'lgbm' : lgbm,\n",
    "        'extra' : extra}\n"
   ]
  },
  {
   "cell_type": "code",
   "execution_count": 80,
   "metadata": {},
   "outputs": [
    {
     "name": "stdout",
     "output_type": "stream",
     "text": [
      "bag\n",
      "0.7250755287009063\n",
      "extra\n",
      "0.7175226586102719\n",
      "rf\n",
      "0.7235649546827795\n",
      "gb\n",
      "0.7099697885196374\n",
      "hgb\n",
      "0.6978851963746223\n"
     ]
    }
   ],
   "source": [
    "simulate(feats, targ, ml_1)"
   ]
  },
  {
   "cell_type": "code",
   "execution_count": 82,
   "metadata": {},
   "outputs": [],
   "source": [
    "acc = execute_voting_clf(feats, targ, ml_1)"
   ]
  },
  {
   "cell_type": "code",
   "execution_count": 83,
   "metadata": {},
   "outputs": [
    {
     "data": {
      "text/plain": [
       "0.7129909365558912"
      ]
     },
     "execution_count": 83,
     "metadata": {},
     "output_type": "execute_result"
    }
   ],
   "source": [
    "acc"
   ]
  },
  {
   "cell_type": "code",
   "execution_count": 37,
   "metadata": {},
   "outputs": [],
   "source": [
    "acc = custom_ensemble_execute(feats, targ, ml_3, tipping_point=2)"
   ]
  },
  {
   "cell_type": "code",
   "execution_count": 38,
   "metadata": {},
   "outputs": [
    {
     "data": {
      "text/plain": [
       "0.7265861027190332"
      ]
     },
     "execution_count": 38,
     "metadata": {},
     "output_type": "execute_result"
    }
   ],
   "source": [
    "acc"
   ]
  },
  {
   "cell_type": "code",
   "execution_count": null,
   "metadata": {},
   "outputs": [],
   "source": []
  }
 ],
 "metadata": {
  "kernelspec": {
   "display_name": "basic_ml_stuff",
   "language": "python",
   "name": "python3"
  },
  "language_info": {
   "codemirror_mode": {
    "name": "ipython",
    "version": 3
   },
   "file_extension": ".py",
   "mimetype": "text/x-python",
   "name": "python",
   "nbconvert_exporter": "python",
   "pygments_lexer": "ipython3",
   "version": "3.11.5"
  }
 },
 "nbformat": 4,
 "nbformat_minor": 2
}
