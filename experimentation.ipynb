{
 "cells": [
  {
   "cell_type": "code",
   "execution_count": 10,
   "metadata": {},
   "outputs": [],
   "source": [
    "import numpy as np \n",
    "import pandas as pd\n",
    "from helpers import * \n",
    "import warnings\n",
    "from pandas.errors import SettingWithCopyWarning\n",
    "\n",
    "warnings.simplefilter(action=\"ignore\", category=SettingWithCopyWarning)\n",
    "warnings.simplefilter(action=\"ignore\", category=FutureWarning)\n",
    "ufc = pd.read_csv('ufc-master.csv')"
   ]
  },
  {
   "cell_type": "markdown",
   "metadata": {},
   "source": [
    "# Data Loading Dock"
   ]
  },
  {
   "cell_type": "markdown",
   "metadata": {},
   "source": [
    "## Ap6 + Perf Diff + drop nulls + resample "
   ]
  },
  {
   "cell_type": "code",
   "execution_count": 11,
   "metadata": {},
   "outputs": [],
   "source": [
    "feats, targ = fine_tuning_setup(ufc, one_or_two=True)"
   ]
  },
  {
   "cell_type": "markdown",
   "metadata": {},
   "source": [
    "## Ap6 + Perf Cols + drop nulls + resample "
   ]
  },
  {
   "cell_type": "code",
   "execution_count": 3,
   "metadata": {},
   "outputs": [],
   "source": [
    "feats, targ = fine_tuning_setup(ufc, one_or_two=False)"
   ]
  },
  {
   "cell_type": "markdown",
   "metadata": {},
   "source": [
    "## Ap6 + Ap4 + Perf Diff + drop nulls + resample "
   ]
  },
  {
   "cell_type": "code",
   "execution_count": 9,
   "metadata": {},
   "outputs": [],
   "source": [
    "AD = data_prep_and_feat_engineering(ufc, cat_thresh=0.001, squared_thresh=0.0625)\n",
    "ap4_cols = AD['approach 7'][1]\n",
    "target_cols = AD['approach 6'][1]\n",
    "\n",
    "for col in ap4_cols: \n",
    "    if col not in target_cols:\n",
    "        target_cols.append(col)"
   ]
  },
  {
   "cell_type": "code",
   "execution_count": 6,
   "metadata": {},
   "outputs": [
    {
     "ename": "NameError",
     "evalue": "name 'target_cols' is not defined",
     "output_type": "error",
     "traceback": [
      "\u001b[1;31m---------------------------------------------------------------------------\u001b[0m",
      "\u001b[1;31mNameError\u001b[0m                                 Traceback (most recent call last)",
      "Cell \u001b[1;32mIn[6], line 1\u001b[0m\n\u001b[1;32m----> 1\u001b[0m ufc, target_cols \u001b[38;5;241m=\u001b[39m performance_index(ufc, \u001b[43mtarget_cols\u001b[49m, diff\u001b[38;5;241m=\u001b[39m\u001b[38;5;28;01mTrue\u001b[39;00m)\n",
      "\u001b[1;31mNameError\u001b[0m: name 'target_cols' is not defined"
     ]
    }
   ],
   "source": [
    "\n",
    "ufc, target_cols = performance_index(ufc, target_cols, diff=True)"
   ]
  },
  {
   "cell_type": "code",
   "execution_count": 115,
   "metadata": {},
   "outputs": [],
   "source": [
    "ufc = ufc.dropna(subset=target_cols)"
   ]
  },
  {
   "cell_type": "code",
   "execution_count": 116,
   "metadata": {},
   "outputs": [],
   "source": [
    "feats = ufc[target_cols]"
   ]
  },
  {
   "cell_type": "code",
   "execution_count": 117,
   "metadata": {},
   "outputs": [],
   "source": [
    "num, cat = num_and_cat(feats)"
   ]
  },
  {
   "cell_type": "code",
   "execution_count": 118,
   "metadata": {},
   "outputs": [],
   "source": [
    "from sklearn.preprocessing import LabelEncoder\n",
    "\n",
    "le = LabelEncoder()\n",
    "\n",
    "for col in cat:\n",
    "    feats[col] = le.fit_transform(feats[col])"
   ]
  },
  {
   "cell_type": "code",
   "execution_count": 119,
   "metadata": {},
   "outputs": [],
   "source": [
    "targ = [1 if victor == 'Red' else 0 for victor in ufc['Winner']]"
   ]
  },
  {
   "cell_type": "code",
   "execution_count": 120,
   "metadata": {},
   "outputs": [],
   "source": [
    "r_feats, r_targ = resample_dataframe(feats, targ)"
   ]
  },
  {
   "cell_type": "markdown",
   "metadata": {},
   "source": [
    "# Model Loading Dock"
   ]
  },
  {
   "cell_type": "code",
   "execution_count": 12,
   "metadata": {},
   "outputs": [],
   "source": [
    "from sklearn.ensemble import BaggingClassifier, RandomForestClassifier, GradientBoostingClassifier, ExtraTreesClassifier, HistGradientBoostingClassifier\n",
    "from lightgbm import LGBMClassifier\n",
    "from xgboost import XGBClassifier\n",
    "\n",
    "bag = BaggingClassifier(n_estimators=150)\n",
    "rf = RandomForestClassifier(n_estimators=175, max_features='log2', criterion='gini')\n",
    "gb = GradientBoostingClassifier(learning_rate=0.2, criterion='squared_error', max_depth=15)\n",
    "hgb = HistGradientBoostingClassifier(learning_rate=0.1, max_depth=150,max_leaf_nodes=None)\n",
    "extra = ExtraTreesClassifier(n_estimators=75)\n",
    "lgbm = LGBMClassifier(learning_rate=0.1, num_leaves=170)\n",
    "xgb = XGBClassifier(reg_lambda=1.5, learning_rate=0.25)\n",
    "\n",
    "\n",
    "ml_1 = {'bag' : bag,\n",
    "        'extra' : extra, \n",
    "        'rf' : rf,\n",
    "        'xgb' : xgb, \n",
    "        'hgb' : hgb,\n",
    "        'lgbm' : lgbm,\n",
    "        'gb' : gb}"
   ]
  },
  {
   "cell_type": "markdown",
   "metadata": {},
   "source": [
    "# Testing Arena"
   ]
  },
  {
   "cell_type": "code",
   "execution_count": 253,
   "metadata": {},
   "outputs": [],
   "source": [
    "from sklearn.model_selection import train_test_split\n",
    "from sklearn.metrics import accuracy_score\n",
    "\n",
    "X_train, X_test, y_train, y_test = train_test_split(feats, targ, random_state=0, test_size=0.2)"
   ]
  },
  {
   "cell_type": "code",
   "execution_count": 254,
   "metadata": {},
   "outputs": [],
   "source": [
    "ml_1_preds = {}\n",
    "\n",
    "for ml in ml_1:\n",
    "    model = ml_1[ml]\n",
    "    model.fit(X_train, y_train)\n",
    "    model_preds = model.predict(X_test)\n",
    "    \n",
    "    ml_1_preds[ml] = model_preds"
   ]
  },
  {
   "cell_type": "code",
   "execution_count": 255,
   "metadata": {},
   "outputs": [],
   "source": [
    "\n",
    "final_preds = []\n",
    "\n",
    "for i in range(len(ml_1_preds['rf'])):\n",
    "    sum = 0\n",
    "    for key in ml_1_preds.keys():\n",
    "        sum += ml_1_preds[key][i]\n",
    "    if sum > 2:\n",
    "        final_preds.append(1)\n",
    "    else:\n",
    "        final_preds.append(0)"
   ]
  },
  {
   "cell_type": "code",
   "execution_count": 256,
   "metadata": {},
   "outputs": [
    {
     "data": {
      "text/plain": [
       "0.7280966767371602"
      ]
     },
     "execution_count": 256,
     "metadata": {},
     "output_type": "execute_result"
    }
   ],
   "source": [
    "accuracy_score(final_preds, y_test)"
   ]
  },
  {
   "cell_type": "code",
   "execution_count": 93,
   "metadata": {},
   "outputs": [],
   "source": [
    "from sklearn.preprocessing import StandardScaler\n",
    "\n",
    "scale = StandardScaler()\n",
    "\n",
    "scale.fit(feats)\n",
    "feats = scale.transform(feats)"
   ]
  },
  {
   "cell_type": "code",
   "execution_count": 13,
   "metadata": {},
   "outputs": [
    {
     "name": "stdout",
     "output_type": "stream",
     "text": [
      "bag\n",
      "0.7205438066465257\n",
      "extra\n",
      "0.7084592145015106\n",
      "rf\n",
      "0.7265861027190332\n",
      "xgb\n",
      "0.6933534743202417\n",
      "hgb\n",
      "0.7054380664652568\n",
      "[LightGBM] [Info] Number of positive: 1335, number of negative: 1313\n",
      "[LightGBM] [Info] Auto-choosing row-wise multi-threading, the overhead of testing was 0.001431 seconds.\n",
      "You can set `force_row_wise=true` to remove the overhead.\n",
      "And if memory is not enough, you can set `force_col_wise=true`.\n",
      "[LightGBM] [Info] Total Bins 1147\n",
      "[LightGBM] [Info] Number of data points in the train set: 2648, number of used features: 26\n",
      "[LightGBM] [Info] [binary:BoostFromScore]: pavg=0.504154 -> initscore=0.016617\n",
      "[LightGBM] [Info] Start training from score 0.016617\n",
      "[LightGBM] [Warning] No further splits with positive gain, best gain: -inf\n",
      "[LightGBM] [Warning] No further splits with positive gain, best gain: -inf\n",
      "[LightGBM] [Warning] No further splits with positive gain, best gain: -inf\n",
      "[LightGBM] [Warning] No further splits with positive gain, best gain: -inf\n",
      "[LightGBM] [Warning] No further splits with positive gain, best gain: -inf\n",
      "[LightGBM] [Warning] No further splits with positive gain, best gain: -inf\n",
      "[LightGBM] [Warning] No further splits with positive gain, best gain: -inf\n",
      "[LightGBM] [Warning] No further splits with positive gain, best gain: -inf\n",
      "[LightGBM] [Warning] No further splits with positive gain, best gain: -inf\n",
      "[LightGBM] [Warning] No further splits with positive gain, best gain: -inf\n",
      "[LightGBM] [Warning] No further splits with positive gain, best gain: -inf\n",
      "[LightGBM] [Warning] No further splits with positive gain, best gain: -inf\n",
      "[LightGBM] [Warning] No further splits with positive gain, best gain: -inf\n",
      "[LightGBM] [Warning] No further splits with positive gain, best gain: -inf\n",
      "[LightGBM] [Warning] No further splits with positive gain, best gain: -inf\n",
      "[LightGBM] [Warning] No further splits with positive gain, best gain: -inf\n",
      "[LightGBM] [Warning] No further splits with positive gain, best gain: -inf\n",
      "[LightGBM] [Warning] No further splits with positive gain, best gain: -inf\n",
      "[LightGBM] [Warning] No further splits with positive gain, best gain: -inf\n",
      "[LightGBM] [Warning] No further splits with positive gain, best gain: -inf\n",
      "[LightGBM] [Warning] No further splits with positive gain, best gain: -inf\n",
      "[LightGBM] [Warning] No further splits with positive gain, best gain: -inf\n",
      "[LightGBM] [Warning] No further splits with positive gain, best gain: -inf\n",
      "[LightGBM] [Warning] No further splits with positive gain, best gain: -inf\n",
      "[LightGBM] [Warning] No further splits with positive gain, best gain: -inf\n",
      "[LightGBM] [Warning] No further splits with positive gain, best gain: -inf\n",
      "[LightGBM] [Warning] No further splits with positive gain, best gain: -inf\n",
      "[LightGBM] [Warning] No further splits with positive gain, best gain: -inf\n",
      "[LightGBM] [Warning] No further splits with positive gain, best gain: -inf\n",
      "[LightGBM] [Warning] No further splits with positive gain, best gain: -inf\n",
      "[LightGBM] [Warning] No further splits with positive gain, best gain: -inf\n",
      "[LightGBM] [Warning] No further splits with positive gain, best gain: -inf\n",
      "[LightGBM] [Warning] No further splits with positive gain, best gain: -inf\n",
      "[LightGBM] [Warning] No further splits with positive gain, best gain: -inf\n",
      "[LightGBM] [Warning] No further splits with positive gain, best gain: -inf\n",
      "[LightGBM] [Warning] No further splits with positive gain, best gain: -inf\n",
      "[LightGBM] [Warning] No further splits with positive gain, best gain: -inf\n",
      "[LightGBM] [Warning] No further splits with positive gain, best gain: -inf\n",
      "[LightGBM] [Warning] No further splits with positive gain, best gain: -inf\n",
      "[LightGBM] [Warning] No further splits with positive gain, best gain: -inf\n",
      "[LightGBM] [Warning] No further splits with positive gain, best gain: -inf\n",
      "[LightGBM] [Warning] No further splits with positive gain, best gain: -inf\n",
      "[LightGBM] [Warning] No further splits with positive gain, best gain: -inf\n",
      "[LightGBM] [Warning] No further splits with positive gain, best gain: -inf\n",
      "[LightGBM] [Warning] No further splits with positive gain, best gain: -inf\n",
      "[LightGBM] [Warning] No further splits with positive gain, best gain: -inf\n",
      "[LightGBM] [Warning] No further splits with positive gain, best gain: -inf\n",
      "[LightGBM] [Warning] No further splits with positive gain, best gain: -inf\n",
      "[LightGBM] [Warning] No further splits with positive gain, best gain: -inf\n",
      "[LightGBM] [Warning] No further splits with positive gain, best gain: -inf\n",
      "[LightGBM] [Warning] No further splits with positive gain, best gain: -inf\n",
      "[LightGBM] [Warning] No further splits with positive gain, best gain: -inf\n",
      "[LightGBM] [Warning] No further splits with positive gain, best gain: -inf\n",
      "[LightGBM] [Warning] No further splits with positive gain, best gain: -inf\n",
      "[LightGBM] [Warning] No further splits with positive gain, best gain: -inf\n",
      "[LightGBM] [Warning] No further splits with positive gain, best gain: -inf\n",
      "[LightGBM] [Warning] No further splits with positive gain, best gain: -inf\n",
      "[LightGBM] [Warning] No further splits with positive gain, best gain: -inf\n",
      "[LightGBM] [Warning] No further splits with positive gain, best gain: -inf\n",
      "[LightGBM] [Warning] No further splits with positive gain, best gain: -inf\n",
      "[LightGBM] [Warning] No further splits with positive gain, best gain: -inf\n",
      "[LightGBM] [Warning] No further splits with positive gain, best gain: -inf\n",
      "[LightGBM] [Warning] No further splits with positive gain, best gain: -inf\n",
      "[LightGBM] [Warning] No further splits with positive gain, best gain: -inf\n",
      "[LightGBM] [Warning] No further splits with positive gain, best gain: -inf\n",
      "[LightGBM] [Warning] No further splits with positive gain, best gain: -inf\n",
      "[LightGBM] [Warning] No further splits with positive gain, best gain: -inf\n",
      "[LightGBM] [Warning] No further splits with positive gain, best gain: -inf\n",
      "[LightGBM] [Warning] No further splits with positive gain, best gain: -inf\n",
      "[LightGBM] [Warning] No further splits with positive gain, best gain: -inf\n",
      "[LightGBM] [Warning] No further splits with positive gain, best gain: -inf\n",
      "[LightGBM] [Warning] No further splits with positive gain, best gain: -inf\n",
      "[LightGBM] [Warning] No further splits with positive gain, best gain: -inf\n",
      "[LightGBM] [Warning] No further splits with positive gain, best gain: -inf\n",
      "[LightGBM] [Warning] No further splits with positive gain, best gain: -inf\n",
      "[LightGBM] [Warning] No further splits with positive gain, best gain: -inf\n",
      "[LightGBM] [Warning] No further splits with positive gain, best gain: -inf\n",
      "[LightGBM] [Warning] No further splits with positive gain, best gain: -inf\n",
      "[LightGBM] [Warning] No further splits with positive gain, best gain: -inf\n",
      "[LightGBM] [Warning] No further splits with positive gain, best gain: -inf\n",
      "[LightGBM] [Warning] No further splits with positive gain, best gain: -inf\n",
      "[LightGBM] [Warning] No further splits with positive gain, best gain: -inf\n",
      "[LightGBM] [Warning] No further splits with positive gain, best gain: -inf\n",
      "[LightGBM] [Warning] No further splits with positive gain, best gain: -inf\n",
      "[LightGBM] [Warning] No further splits with positive gain, best gain: -inf\n",
      "[LightGBM] [Warning] No further splits with positive gain, best gain: -inf\n",
      "[LightGBM] [Warning] No further splits with positive gain, best gain: -inf\n",
      "[LightGBM] [Warning] No further splits with positive gain, best gain: -inf\n",
      "[LightGBM] [Warning] No further splits with positive gain, best gain: -inf\n",
      "[LightGBM] [Warning] No further splits with positive gain, best gain: -inf\n",
      "[LightGBM] [Warning] No further splits with positive gain, best gain: -inf\n",
      "[LightGBM] [Warning] No further splits with positive gain, best gain: -inf\n",
      "[LightGBM] [Warning] No further splits with positive gain, best gain: -inf\n",
      "[LightGBM] [Warning] No further splits with positive gain, best gain: -inf\n",
      "[LightGBM] [Warning] No further splits with positive gain, best gain: -inf\n",
      "[LightGBM] [Warning] No further splits with positive gain, best gain: -inf\n",
      "[LightGBM] [Warning] No further splits with positive gain, best gain: -inf\n",
      "[LightGBM] [Warning] No further splits with positive gain, best gain: -inf\n",
      "[LightGBM] [Warning] No further splits with positive gain, best gain: -inf\n",
      "[LightGBM] [Warning] No further splits with positive gain, best gain: -inf\n",
      "lgbm\n",
      "0.7009063444108762\n",
      "gb\n",
      "0.7069486404833837\n"
     ]
    }
   ],
   "source": [
    "simulate(feats, targ, ml_1)"
   ]
  },
  {
   "cell_type": "code",
   "execution_count": 2,
   "metadata": {},
   "outputs": [],
   "source": [
    "from sklearn.ensemble import VotingClassifier\n",
    "\n",
    "vote = VotingClassifier(estimators=[('lgbm', lgbm), ('rf', rf),  ('xgb', xgb), ('bag', bag)],voting='hard')"
   ]
  },
  {
   "cell_type": "code",
   "execution_count": 258,
   "metadata": {},
   "outputs": [
    {
     "name": "stdout",
     "output_type": "stream",
     "text": [
      "[LightGBM] [Info] Number of positive: 1335, number of negative: 1313\n",
      "[LightGBM] [Info] Auto-choosing row-wise multi-threading, the overhead of testing was 0.001213 seconds.\n",
      "You can set `force_row_wise=true` to remove the overhead.\n",
      "And if memory is not enough, you can set `force_col_wise=true`.\n",
      "[LightGBM] [Info] Total Bins 1147\n",
      "[LightGBM] [Info] Number of data points in the train set: 2648, number of used features: 26\n",
      "[LightGBM] [Info] [binary:BoostFromScore]: pavg=0.504154 -> initscore=0.016617\n",
      "[LightGBM] [Info] Start training from score 0.016617\n",
      "[LightGBM] [Warning] No further splits with positive gain, best gain: -inf\n",
      "[LightGBM] [Warning] No further splits with positive gain, best gain: -inf\n",
      "[LightGBM] [Warning] No further splits with positive gain, best gain: -inf\n",
      "[LightGBM] [Warning] No further splits with positive gain, best gain: -inf\n",
      "[LightGBM] [Warning] No further splits with positive gain, best gain: -inf\n",
      "[LightGBM] [Warning] No further splits with positive gain, best gain: -inf\n",
      "[LightGBM] [Warning] No further splits with positive gain, best gain: -inf\n",
      "[LightGBM] [Warning] No further splits with positive gain, best gain: -inf\n",
      "[LightGBM] [Warning] No further splits with positive gain, best gain: -inf\n",
      "[LightGBM] [Warning] No further splits with positive gain, best gain: -inf\n",
      "[LightGBM] [Warning] No further splits with positive gain, best gain: -inf\n",
      "[LightGBM] [Warning] No further splits with positive gain, best gain: -inf\n",
      "[LightGBM] [Warning] No further splits with positive gain, best gain: -inf\n",
      "[LightGBM] [Warning] No further splits with positive gain, best gain: -inf\n",
      "[LightGBM] [Warning] No further splits with positive gain, best gain: -inf\n",
      "[LightGBM] [Warning] No further splits with positive gain, best gain: -inf\n",
      "[LightGBM] [Warning] No further splits with positive gain, best gain: -inf\n",
      "[LightGBM] [Warning] No further splits with positive gain, best gain: -inf\n",
      "[LightGBM] [Warning] No further splits with positive gain, best gain: -inf\n",
      "[LightGBM] [Warning] No further splits with positive gain, best gain: -inf\n",
      "[LightGBM] [Warning] No further splits with positive gain, best gain: -inf\n",
      "[LightGBM] [Warning] No further splits with positive gain, best gain: -inf\n",
      "[LightGBM] [Warning] No further splits with positive gain, best gain: -inf\n",
      "[LightGBM] [Warning] No further splits with positive gain, best gain: -inf\n",
      "[LightGBM] [Warning] No further splits with positive gain, best gain: -inf\n",
      "[LightGBM] [Warning] No further splits with positive gain, best gain: -inf\n",
      "[LightGBM] [Warning] No further splits with positive gain, best gain: -inf\n",
      "[LightGBM] [Warning] No further splits with positive gain, best gain: -inf\n",
      "[LightGBM] [Warning] No further splits with positive gain, best gain: -inf\n",
      "[LightGBM] [Warning] No further splits with positive gain, best gain: -inf\n",
      "[LightGBM] [Warning] No further splits with positive gain, best gain: -inf\n",
      "[LightGBM] [Warning] No further splits with positive gain, best gain: -inf\n",
      "[LightGBM] [Warning] No further splits with positive gain, best gain: -inf\n",
      "[LightGBM] [Warning] No further splits with positive gain, best gain: -inf\n",
      "[LightGBM] [Warning] No further splits with positive gain, best gain: -inf\n",
      "[LightGBM] [Warning] No further splits with positive gain, best gain: -inf\n",
      "[LightGBM] [Warning] No further splits with positive gain, best gain: -inf\n",
      "[LightGBM] [Warning] No further splits with positive gain, best gain: -inf\n",
      "[LightGBM] [Warning] No further splits with positive gain, best gain: -inf\n",
      "[LightGBM] [Warning] No further splits with positive gain, best gain: -inf\n",
      "[LightGBM] [Warning] No further splits with positive gain, best gain: -inf\n",
      "[LightGBM] [Warning] No further splits with positive gain, best gain: -inf\n",
      "[LightGBM] [Warning] No further splits with positive gain, best gain: -inf\n",
      "[LightGBM] [Warning] No further splits with positive gain, best gain: -inf\n",
      "[LightGBM] [Warning] No further splits with positive gain, best gain: -inf\n",
      "[LightGBM] [Warning] No further splits with positive gain, best gain: -inf\n",
      "[LightGBM] [Warning] No further splits with positive gain, best gain: -inf\n",
      "[LightGBM] [Warning] No further splits with positive gain, best gain: -inf\n",
      "[LightGBM] [Warning] No further splits with positive gain, best gain: -inf\n",
      "[LightGBM] [Warning] No further splits with positive gain, best gain: -inf\n",
      "[LightGBM] [Warning] No further splits with positive gain, best gain: -inf\n",
      "[LightGBM] [Warning] No further splits with positive gain, best gain: -inf\n",
      "[LightGBM] [Warning] No further splits with positive gain, best gain: -inf\n",
      "[LightGBM] [Warning] No further splits with positive gain, best gain: -inf\n",
      "[LightGBM] [Warning] No further splits with positive gain, best gain: -inf\n",
      "[LightGBM] [Warning] No further splits with positive gain, best gain: -inf\n",
      "[LightGBM] [Warning] No further splits with positive gain, best gain: -inf\n",
      "[LightGBM] [Warning] No further splits with positive gain, best gain: -inf\n",
      "[LightGBM] [Warning] No further splits with positive gain, best gain: -inf\n",
      "[LightGBM] [Warning] No further splits with positive gain, best gain: -inf\n",
      "[LightGBM] [Warning] No further splits with positive gain, best gain: -inf\n",
      "[LightGBM] [Warning] No further splits with positive gain, best gain: -inf\n",
      "[LightGBM] [Warning] No further splits with positive gain, best gain: -inf\n",
      "[LightGBM] [Warning] No further splits with positive gain, best gain: -inf\n",
      "[LightGBM] [Warning] No further splits with positive gain, best gain: -inf\n",
      "[LightGBM] [Warning] No further splits with positive gain, best gain: -inf\n",
      "[LightGBM] [Warning] No further splits with positive gain, best gain: -inf\n",
      "[LightGBM] [Warning] No further splits with positive gain, best gain: -inf\n",
      "[LightGBM] [Warning] No further splits with positive gain, best gain: -inf\n",
      "[LightGBM] [Warning] No further splits with positive gain, best gain: -inf\n",
      "[LightGBM] [Warning] No further splits with positive gain, best gain: -inf\n",
      "[LightGBM] [Warning] No further splits with positive gain, best gain: -inf\n",
      "[LightGBM] [Warning] No further splits with positive gain, best gain: -inf\n",
      "[LightGBM] [Warning] No further splits with positive gain, best gain: -inf\n",
      "[LightGBM] [Warning] No further splits with positive gain, best gain: -inf\n",
      "[LightGBM] [Warning] No further splits with positive gain, best gain: -inf\n",
      "[LightGBM] [Warning] No further splits with positive gain, best gain: -inf\n",
      "[LightGBM] [Warning] No further splits with positive gain, best gain: -inf\n",
      "[LightGBM] [Warning] No further splits with positive gain, best gain: -inf\n",
      "[LightGBM] [Warning] No further splits with positive gain, best gain: -inf\n",
      "[LightGBM] [Warning] No further splits with positive gain, best gain: -inf\n",
      "[LightGBM] [Warning] No further splits with positive gain, best gain: -inf\n",
      "[LightGBM] [Warning] No further splits with positive gain, best gain: -inf\n",
      "[LightGBM] [Warning] No further splits with positive gain, best gain: -inf\n",
      "[LightGBM] [Warning] No further splits with positive gain, best gain: -inf\n",
      "[LightGBM] [Warning] No further splits with positive gain, best gain: -inf\n",
      "[LightGBM] [Warning] No further splits with positive gain, best gain: -inf\n",
      "[LightGBM] [Warning] No further splits with positive gain, best gain: -inf\n",
      "[LightGBM] [Warning] No further splits with positive gain, best gain: -inf\n",
      "[LightGBM] [Warning] No further splits with positive gain, best gain: -inf\n",
      "[LightGBM] [Warning] No further splits with positive gain, best gain: -inf\n",
      "[LightGBM] [Warning] No further splits with positive gain, best gain: -inf\n",
      "[LightGBM] [Warning] No further splits with positive gain, best gain: -inf\n",
      "[LightGBM] [Warning] No further splits with positive gain, best gain: -inf\n",
      "[LightGBM] [Warning] No further splits with positive gain, best gain: -inf\n",
      "[LightGBM] [Warning] No further splits with positive gain, best gain: -inf\n",
      "[LightGBM] [Warning] No further splits with positive gain, best gain: -inf\n",
      "[LightGBM] [Warning] No further splits with positive gain, best gain: -inf\n",
      "[LightGBM] [Warning] No further splits with positive gain, best gain: -inf\n",
      "[LightGBM] [Warning] No further splits with positive gain, best gain: -inf\n"
     ]
    },
    {
     "data": {
      "text/plain": [
       "0.7371601208459214"
      ]
     },
     "execution_count": 258,
     "metadata": {},
     "output_type": "execute_result"
    }
   ],
   "source": [
    "from sklearn.model_selection import train_test_split\n",
    "from sklearn.metrics import accuracy_score, precision_score\n",
    "\n",
    "X_train, X_test, y_train, y_test = train_test_split(feats, targ, random_state=0, test_size=0.2)\n",
    "\n",
    "vote.fit(X_train, y_train)\n",
    "vote_preds = vote.predict(X_test)\n",
    "accuracy_score(vote_preds, y_test)"
   ]
  },
  {
   "cell_type": "code",
   "execution_count": 294,
   "metadata": {},
   "outputs": [
    {
     "data": {
      "text/plain": [
       "0.7147435897435898"
      ]
     },
     "execution_count": 294,
     "metadata": {},
     "output_type": "execute_result"
    }
   ],
   "source": [
    "precision_score(y_test, vote_preds)"
   ]
  },
  {
   "cell_type": "markdown",
   "metadata": {},
   "source": [
    "# Development Arena"
   ]
  },
  {
   "cell_type": "code",
   "execution_count": 3,
   "metadata": {},
   "outputs": [
    {
     "data": {
      "text/plain": [
       "Index(['B_current_win_streak', 'R_win_by_Submission',\n",
       "       'B_win_by_Decision_Unanimous', 'R_win_by_Decision_Unanimous',\n",
       "       'R_current_lose_streak', 'B_win_by_TKO_Doctor_Stoppage', 'win_dif',\n",
       "       'B_win_by_Decision_Split', 'B_wins', 'R_Stance', 'B_age',\n",
       "       'B_Weight_lbs', 'R_ev', 'B_total_rounds_fought', 'location', 'R_odds',\n",
       "       'R_Reach_cms', 'R_Weight_lbs', 'R_current_win_streak', 'R_age',\n",
       "       'empty_arena', 'R_win_by_Decision_Split', 'R_draw', 'lose_streak_dif',\n",
       "       'B_draw', 'perf_diff'],\n",
       "      dtype='object')"
      ]
     },
     "execution_count": 3,
     "metadata": {},
     "output_type": "execute_result"
    }
   ],
   "source": [
    "feats.columns"
   ]
  },
  {
   "cell_type": "code",
   "execution_count": 62,
   "metadata": {},
   "outputs": [],
   "source": [
    "exp = feats.copy()\n",
    "\n",
    "exp['Winner'] = targ"
   ]
  },
  {
   "cell_type": "code",
   "execution_count": 63,
   "metadata": {},
   "outputs": [
    {
     "data": {
      "text/plain": [
       "B_win_by_Decision_Unanimous\n",
       "0     1433\n",
       "1      923\n",
       "2      429\n",
       "3      216\n",
       "4      158\n",
       "5       65\n",
       "6       48\n",
       "7       14\n",
       "8       12\n",
       "10       7\n",
       "9        5\n",
       "Name: count, dtype: int64"
      ]
     },
     "execution_count": 63,
     "metadata": {},
     "output_type": "execute_result"
    }
   ],
   "source": [
    "exp['B_win_by_Decision_Unanimous'].value_counts()"
   ]
  },
  {
   "cell_type": "code",
   "execution_count": 64,
   "metadata": {},
   "outputs": [],
   "source": [
    "red_win = exp[exp['Winner'] == 1]\n",
    "blue_win = exp[exp['Winner'] == 0]"
   ]
  },
  {
   "cell_type": "code",
   "execution_count": 7,
   "metadata": {},
   "outputs": [],
   "source": [
    "import plotly.graph_objects as go \n",
    "\n",
    "def red_vs_blue(df1, df2, col_name):\n",
    "    \n",
    "    fig = go.Figure()\n",
    "    \n",
    "    fig.add_trace(go.Histogram(x=df1[col_name], histnorm='probability density', name='Red Win'))\n",
    "    fig.add_trace(go.Histogram(x=df2[col_name], histnorm='probability density', name='Blue Win'))\n",
    "    \n",
    "    fig.update_layout(\n",
    "    \ttitle=\"Density Plot of column1 (Dataset 1) and column2 (Dataset 2)\",\n",
    "    \txaxis_title=\"Column Values\",\n",
    "    \tyaxis_title=\"Density\",\n",
    "    \tbarmode='overlay'  # Overlay histograms for better comparison\n",
    "\t)\n",
    "    \n",
    "    fig.show()"
   ]
  },
  {
   "cell_type": "code",
   "execution_count": 81,
   "metadata": {},
   "outputs": [],
   "source": [
    "def just_one(df1):\n",
    "    \n",
    "    fig = go.Figure()\n",
    "    \n",
    "    fig.add_trace(go.Histogram(x=df1, histnorm='probability density', name='Red Win'))\n",
    "    \n",
    "    \n",
    "    fig.update_layout(\n",
    "    \ttitle=\"Density Plot of column1 (Dataset 1) and column2 (Dataset 2)\",\n",
    "    \txaxis_title=\"Column Values\",\n",
    "    \tyaxis_title=\"Density\",\n",
    "    \tbarmode='overlay'  # Overlay histograms for better comparison\n",
    "\t)\n",
    "    \n",
    "    fig.show()"
   ]
  },
  {
   "cell_type": "code",
   "execution_count": 20,
   "metadata": {},
   "outputs": [],
   "source": [
    "def standardize(to_standardize):\n",
    "    \n",
    "    mu = np.mean(to_standardize)\n",
    "    sigma = np.std(to_standardize)\n",
    "    \n",
    "    return [(val-mu)/sigma for val in to_standardize]\n",
    "    \n",
    "    "
   ]
  },
  {
   "cell_type": "code",
   "execution_count": 25,
   "metadata": {},
   "outputs": [],
   "source": [
    "r_ev = list(red_win['R_ev'])\n",
    "r_ev_std = standardize(r_ev)\n",
    "red_win['R_std'] = r_ev_std\n",
    "\n",
    "r_ev = list(blue_win['R_ev'])\n",
    "r_ev_std = standardize(r_ev)\n",
    "blue_win['R_std'] = r_ev_std"
   ]
  },
  {
   "cell_type": "code",
   "execution_count": 72,
   "metadata": {},
   "outputs": [
    {
     "data": {
      "application/vnd.plotly.v1+json": {
       "config": {
        "plotlyServerURL": "https://plot.ly"
       },
       "data": [
        {
         "histnorm": "probability density",
         "name": "Red Win",
         "type": "histogram",
         "x": [
          7,
          66,
          38,
          73,
          66,
          0,
          24,
          22,
          141,
          108,
          5,
          11,
          127,
          140,
          124,
          101,
          122,
          14,
          6,
          61,
          66,
          66,
          14,
          37,
          32,
          60,
          29,
          0,
          104,
          66,
          55,
          32,
          68,
          134,
          134,
          73,
          121,
          27,
          0,
          66,
          12,
          77,
          66,
          0,
          66,
          5,
          23,
          50,
          32,
          136,
          66,
          66,
          66,
          80,
          63,
          29,
          44,
          122,
          122,
          55,
          131,
          88,
          121,
          66,
          89,
          77,
          66,
          54,
          93,
          33,
          87,
          66,
          5,
          66,
          73,
          71,
          112,
          122,
          66,
          131,
          0,
          103,
          66,
          139,
          39,
          32,
          37,
          60,
          99,
          129,
          66,
          38,
          108,
          66,
          32,
          50,
          7,
          114,
          66,
          54,
          85,
          55,
          122,
          0,
          56,
          66,
          58,
          55,
          143,
          29,
          80,
          66,
          114,
          5,
          66,
          66,
          32,
          66,
          66,
          66,
          132,
          49,
          12,
          32,
          130,
          22,
          64,
          134,
          66,
          66,
          126,
          70,
          66,
          77,
          114,
          83,
          129,
          71,
          66,
          96,
          53,
          82,
          66,
          86,
          77,
          133,
          66,
          66,
          66,
          101,
          122,
          70,
          66,
          66,
          66,
          77,
          26,
          61,
          131,
          66,
          32,
          49,
          85,
          73,
          139,
          16,
          1,
          118,
          84,
          80,
          66,
          66,
          30,
          66,
          56,
          77,
          13,
          68,
          140,
          66,
          25,
          79,
          74,
          59,
          23,
          0,
          118,
          70,
          109,
          73,
          58,
          108,
          89,
          88,
          108,
          74,
          66,
          0,
          10,
          91,
          36,
          77,
          66,
          22,
          134,
          139,
          40,
          58,
          66,
          70,
          66,
          66,
          66,
          89,
          59,
          130,
          24,
          66,
          66,
          66,
          89,
          58,
          76,
          15,
          139,
          70,
          66,
          108,
          60,
          90,
          0,
          109,
          134,
          25,
          66,
          68,
          78,
          56,
          109,
          0,
          17,
          66,
          66,
          134,
          9,
          66,
          66,
          62,
          66,
          116,
          66,
          66,
          39,
          109,
          70,
          25,
          66,
          66,
          133,
          25,
          114,
          66,
          70,
          25,
          129,
          0,
          37,
          53,
          24,
          22,
          66,
          22,
          66,
          106,
          26,
          66,
          16,
          66,
          0,
          24,
          133,
          66,
          77,
          134,
          7,
          122,
          66,
          66,
          142,
          71,
          49,
          142,
          90,
          44,
          71,
          20,
          66,
          66,
          66,
          47,
          112,
          0,
          13,
          66,
          0,
          139,
          44,
          98,
          61,
          43,
          66,
          58,
          51,
          2,
          108,
          66,
          0,
          66,
          111,
          13,
          66,
          60,
          130,
          58,
          120,
          66,
          72,
          69,
          58,
          129,
          60,
          108,
          106,
          22,
          68,
          96,
          58,
          108,
          66,
          66,
          122,
          115,
          66,
          66,
          66,
          111,
          62,
          49,
          61,
          66,
          31,
          66,
          108,
          117,
          68,
          109,
          70,
          66,
          66,
          124,
          66,
          66,
          113,
          49,
          66,
          71,
          0,
          79,
          18,
          0,
          129,
          9,
          62,
          140,
          66,
          16,
          73,
          66,
          99,
          22,
          66,
          112,
          71,
          119,
          131,
          123,
          96,
          10,
          66,
          85,
          66,
          58,
          0,
          0,
          85,
          130,
          23,
          55,
          142,
          5,
          112,
          50,
          109,
          60,
          142,
          55,
          122,
          66,
          117,
          49,
          40,
          119,
          78,
          60,
          91,
          66,
          58,
          109,
          79,
          124,
          77,
          42,
          99,
          29,
          66,
          66,
          62,
          26,
          49,
          66,
          93,
          93,
          89,
          22,
          11,
          0,
          134,
          66,
          66,
          1,
          34,
          66,
          62,
          66,
          112,
          138,
          70,
          51,
          5,
          134,
          16,
          84,
          74,
          70,
          66,
          130,
          89,
          98,
          84,
          98,
          66,
          62,
          7,
          134,
          66,
          66,
          85,
          138,
          124,
          71,
          97,
          66,
          24,
          66,
          66,
          66,
          66,
          74,
          77,
          11,
          66,
          123,
          66,
          133,
          39,
          21,
          130,
          118,
          70,
          56,
          9,
          132,
          14,
          22,
          125,
          66,
          76,
          116,
          86,
          121,
          66,
          90,
          0,
          110,
          66,
          60,
          66,
          34,
          131,
          52,
          79,
          14,
          91,
          2,
          58,
          0,
          74,
          124,
          66,
          66,
          23,
          60,
          88,
          54,
          66,
          58,
          63,
          66,
          44,
          77,
          66,
          119,
          59,
          24,
          89,
          66,
          70,
          85,
          108,
          66,
          32,
          38,
          73,
          66,
          112,
          120,
          114,
          70,
          66,
          50,
          46,
          88,
          26,
          66,
          73,
          31,
          66,
          129,
          114,
          22,
          66,
          134,
          71,
          130,
          66,
          32,
          31,
          66,
          0,
          66,
          5,
          66,
          132,
          66,
          121,
          41,
          83,
          23,
          119,
          7,
          66,
          122,
          134,
          89,
          66,
          66,
          13,
          64,
          66,
          0,
          111,
          66,
          66,
          58,
          66,
          109,
          26,
          84,
          88,
          66,
          66,
          26,
          0,
          121,
          66,
          134,
          82,
          66,
          66,
          66,
          66,
          66,
          22,
          66,
          132,
          66,
          139,
          66,
          67,
          49,
          131,
          66,
          60,
          22,
          60,
          89,
          74,
          25,
          131,
          16,
          133,
          49,
          106,
          5,
          51,
          66,
          134,
          30,
          66,
          88,
          70,
          112,
          139,
          38,
          134,
          60,
          121,
          89,
          66,
          66,
          84,
          130,
          83,
          66,
          114,
          74,
          117,
          84,
          66,
          61,
          37,
          108,
          89,
          84,
          60,
          46,
          66,
          99,
          84,
          89,
          116,
          66,
          66,
          88,
          74,
          98,
          66,
          43,
          108,
          74,
          130,
          66,
          66,
          67,
          6,
          66,
          22,
          128,
          85,
          70,
          20,
          83,
          31,
          66,
          83,
          89,
          66,
          25,
          40,
          25,
          125,
          83,
          37,
          66,
          70,
          66,
          134,
          66,
          17,
          66,
          0,
          77,
          66,
          66,
          0,
          89,
          109,
          71,
          66,
          90,
          7,
          76,
          98,
          108,
          108,
          61,
          111,
          67,
          66,
          66,
          87,
          74,
          96,
          112,
          22,
          11,
          88,
          66,
          66,
          58,
          66,
          78,
          26,
          94,
          66,
          100,
          81,
          66,
          9,
          80,
          66,
          23,
          49,
          80,
          66,
          114,
          49,
          59,
          76,
          38,
          47,
          70,
          84,
          66,
          61,
          43,
          66,
          55,
          15,
          66,
          66,
          123,
          59,
          54,
          82,
          66,
          70,
          70,
          134,
          52,
          24,
          90,
          120,
          66,
          79,
          66,
          60,
          112,
          66,
          114,
          66,
          32,
          66,
          24,
          76,
          58,
          109,
          66,
          49,
          32,
          32,
          65,
          68,
          66,
          112,
          22,
          14,
          49,
          31,
          66,
          49,
          110,
          66,
          66,
          94,
          108,
          12,
          138,
          66,
          73,
          66,
          66,
          122,
          66,
          0,
          137,
          53,
          70,
          15,
          24,
          83,
          66,
          83,
          30,
          52,
          66,
          134,
          130,
          86,
          26,
          134,
          42,
          23,
          71,
          66,
          89,
          67,
          58,
          127,
          70,
          119,
          47,
          83,
          24,
          116,
          66,
          66,
          110,
          38,
          140,
          23,
          121,
          66,
          66,
          66,
          108,
          51,
          66,
          139,
          96,
          66,
          67,
          66,
          66,
          66,
          6,
          9,
          134,
          66,
          66,
          11,
          66,
          67,
          124,
          134,
          4,
          124,
          37,
          79,
          31,
          90,
          66,
          66,
          124,
          66,
          7,
          66,
          24,
          63,
          114,
          23,
          67,
          132,
          7,
          49,
          66,
          32,
          83,
          101,
          108,
          66,
          111,
          66,
          66,
          2,
          66,
          85,
          49,
          66,
          134,
          23,
          106,
          66,
          79,
          106,
          117,
          66,
          122,
          0,
          66,
          71,
          66,
          44,
          79,
          117,
          77,
          0,
          119,
          34,
          82,
          73,
          100,
          0,
          37,
          40,
          23,
          66,
          122,
          32,
          66,
          137,
          59,
          66,
          37,
          66,
          32,
          66,
          113,
          132,
          132,
          78,
          58,
          131,
          114,
          88,
          0,
          46,
          66,
          66,
          66,
          66,
          24,
          66,
          16,
          132,
          71,
          70,
          32,
          60,
          89,
          66,
          66,
          74,
          85,
          139,
          108,
          0,
          86,
          73,
          66,
          108,
          0,
          0,
          139,
          5,
          117,
          57,
          127,
          58,
          23,
          66,
          66,
          131,
          142,
          131,
          52,
          66,
          66,
          66,
          66,
          0,
          66,
          131,
          131,
          66,
          47,
          83,
          139,
          71,
          89,
          66,
          66,
          132,
          76,
          66,
          66,
          66,
          123,
          66,
          66,
          78,
          25,
          43,
          59,
          58,
          45,
          66,
          58,
          77,
          100,
          54,
          38,
          135,
          140,
          60,
          0,
          66,
          32,
          66,
          66,
          101,
          66,
          0,
          58,
          66,
          139,
          66,
          83,
          50,
          0,
          66,
          112,
          66,
          66,
          66,
          109,
          66,
          66,
          134,
          5,
          92,
          37,
          122,
          127,
          66,
          62,
          66,
          49,
          47,
          138,
          66,
          66,
          77,
          98,
          66,
          66,
          106,
          134,
          101,
          108,
          66,
          66,
          108,
          93,
          27,
          66,
          0,
          22,
          66,
          88,
          50,
          66,
          66,
          118,
          66,
          107,
          117,
          66,
          59,
          58,
          49,
          142,
          88,
          44,
          66,
          122,
          66,
          28,
          90,
          83,
          66,
          122,
          119,
          13,
          119,
          66,
          66,
          66,
          75,
          38,
          83,
          71,
          0,
          130,
          66,
          134,
          49,
          0,
          134,
          49,
          66,
          106,
          60,
          60,
          66,
          100,
          66,
          66,
          66,
          6,
          122,
          66,
          66,
          66,
          108,
          14,
          83,
          128,
          30,
          59,
          130,
          38,
          66,
          50,
          130,
          114,
          32,
          66,
          44,
          66,
          4,
          0,
          119,
          77,
          4,
          89,
          58,
          108,
          1,
          66,
          66,
          79,
          32,
          66,
          77,
          47,
          56,
          7,
          85,
          46,
          66,
          122,
          6,
          107,
          68,
          75,
          122,
          66,
          66,
          117,
          66,
          122,
          22,
          38,
          58,
          139,
          66,
          83,
          66,
          37,
          0,
          122,
          114,
          28,
          66,
          29,
          66,
          83,
          0,
          66,
          76,
          22,
          66,
          71,
          66,
          66,
          46,
          13,
          96,
          44,
          107,
          64,
          66,
          87,
          66,
          50,
          66,
          38,
          66,
          103,
          66,
          89,
          66,
          70,
          66,
          66,
          66,
          66,
          77,
          46,
          23,
          66,
          10,
          78,
          122,
          123,
          21,
          66,
          23,
          61,
          66,
          67,
          66,
          15,
          129,
          50,
          66,
          133,
          118,
          66,
          66,
          119,
          66,
          66,
          76,
          66,
          66,
          124,
          1,
          58,
          0,
          0,
          110,
          66,
          31,
          37,
          58,
          99,
          36,
          66,
          117,
          89,
          26,
          143,
          81,
          85,
          115,
          139,
          122,
          66,
          130,
          60,
          66,
          73,
          76,
          7,
          66,
          70,
          66,
          22,
          7,
          66,
          125,
          13,
          23,
          117,
          66,
          66,
          66,
          66,
          92,
          66,
          66,
          66,
          108,
          51,
          32,
          140,
          119,
          66,
          73,
          47,
          58,
          66,
          66,
          139,
          77,
          66,
          7,
          55,
          82,
          66,
          43,
          66,
          66,
          113,
          121,
          97,
          5,
          47,
          22,
          66,
          42,
          58,
          66,
          66,
          108,
          115,
          82,
          119,
          66,
          66,
          133,
          100,
          104,
          26,
          80,
          114,
          77,
          66,
          108,
          0,
          31,
          22,
          110,
          66,
          66,
          66,
          29,
          98,
          66,
          32,
          136,
          14,
          66,
          58,
          70,
          10,
          66,
          71,
          57,
          78,
          142,
          66,
          23,
          79,
          22,
          108,
          74,
          122,
          60,
          59,
          4,
          66,
          37,
          89,
          62,
          6,
          108,
          66,
          67,
          66,
          114,
          66,
          39,
          23,
          84,
          66,
          131,
          21,
          5,
          76,
          0,
          0,
          85,
          66,
          86,
          53,
          46,
          134,
          23,
          0,
          108,
          88,
          96,
          88,
          103,
          41,
          26,
          58,
          131,
          66,
          22,
          30,
          134,
          122,
          66,
          22,
          66,
          76,
          66,
          0,
          60,
          66,
          25,
          66,
          66,
          134,
          66,
          85,
          66,
          142,
          50,
          66,
          0,
          76,
          21,
          71,
          4,
          37,
          38,
          131,
          68,
          89,
          25,
          66,
          95,
          38,
          111,
          66,
          0,
          10,
          101,
          5,
          66,
          89,
          83,
          0,
          0,
          38,
          90,
          66,
          58,
          31,
          137,
          66,
          133,
          66,
          111,
          37,
          66,
          0,
          66,
          58,
          13,
          66,
          83,
          66,
          115,
          66,
          110,
          112,
          30,
          66,
          0,
          32,
          5,
          114,
          112,
          70,
          69,
          83,
          50,
          26,
          8,
          0,
          96,
          44,
          46,
          66,
          108,
          96,
          66,
          58,
          88,
          66,
          37,
          97,
          137,
          66,
          53,
          121,
          87,
          133,
          90,
          66,
          130,
          58,
          66,
          26,
          121,
          25,
          97,
          58,
          130,
          74,
          60,
          130,
          97,
          23,
          129,
          77,
          66,
          139,
          109,
          66,
          41,
          135,
          61,
          66,
          112,
          97,
          91,
          66,
          73,
          0,
          66,
          47,
          58,
          80,
          66,
          66,
          118,
          112,
          66,
          66,
          92,
          43,
          66,
          135,
          0,
          83,
          74,
          90,
          66,
          66,
          0,
          26,
          40,
          114,
          60,
          134,
          108,
          71,
          66,
          66,
          66,
          132,
          66,
          54,
          62,
          38,
          94,
          124,
          22,
          54,
          66,
          0,
          29,
          77,
          66,
          74,
          37,
          130,
          60,
          140,
          66,
          78,
          66,
          85,
          105,
          116,
          19,
          76,
          66,
          53,
          54,
          80,
          85,
          70,
          74,
          70,
          62,
          0,
          108,
          133,
          79,
          31,
          134,
          66,
          0,
          41,
          119,
          66,
          66
         ]
        },
        {
         "histnorm": "probability density",
         "name": "Blue Win",
         "type": "histogram",
         "x": [
          66,
          66,
          66,
          66,
          66,
          66,
          66,
          66,
          66,
          66,
          66,
          66,
          66,
          66,
          66,
          66,
          66,
          66,
          66,
          66,
          66,
          66,
          66,
          66,
          66,
          66,
          66,
          66,
          66,
          58,
          58,
          58,
          58,
          58,
          66,
          66,
          66,
          66,
          66,
          66,
          66,
          66,
          66,
          66,
          66,
          66,
          66,
          66,
          66,
          66,
          66,
          66,
          66,
          66,
          66,
          66,
          66,
          66,
          66,
          66,
          66,
          66,
          66,
          50,
          50,
          50,
          50,
          50,
          66,
          66,
          66,
          66,
          66,
          66,
          66,
          66,
          66,
          58,
          58,
          58,
          58,
          58,
          58,
          66,
          66,
          66,
          66,
          66,
          66,
          66,
          66,
          66,
          66,
          60,
          60,
          60,
          60,
          60,
          66,
          66,
          66,
          66,
          66,
          66,
          66,
          66,
          66,
          66,
          66,
          66,
          66,
          66,
          66,
          66,
          66,
          66,
          66,
          66,
          66,
          66,
          66,
          66,
          66,
          66,
          66,
          66,
          66,
          66,
          66,
          66,
          66,
          66,
          66,
          66,
          66,
          66,
          66,
          66,
          66,
          66,
          66,
          66,
          66,
          66,
          66,
          66,
          66,
          66,
          66,
          66,
          0,
          0,
          0,
          0,
          0,
          0,
          0,
          0,
          0,
          0,
          0,
          0,
          0,
          0,
          66,
          66,
          66,
          66,
          66,
          66,
          66,
          66,
          66,
          66,
          66,
          66,
          66,
          66,
          66,
          66,
          66,
          66,
          66,
          66,
          66,
          66,
          66,
          66,
          66,
          66,
          66,
          66,
          66,
          66,
          66,
          0,
          0,
          0,
          0,
          0,
          0,
          0,
          0,
          0,
          0,
          0,
          0,
          0,
          0,
          0,
          0,
          0,
          0,
          0,
          0,
          0,
          0,
          0,
          0,
          0,
          0,
          66,
          66,
          66,
          66,
          66,
          66,
          66,
          66,
          66,
          66,
          66,
          66,
          66,
          66,
          66,
          66,
          66,
          66,
          66,
          66,
          66,
          66,
          66,
          66,
          66,
          66,
          66,
          66,
          66,
          66,
          66,
          66,
          66,
          0,
          0,
          0,
          0,
          0,
          0,
          0,
          0,
          0,
          0,
          0,
          0,
          0,
          0,
          0,
          0,
          0,
          66,
          66,
          66,
          66,
          66,
          66,
          66,
          66,
          66,
          66,
          66,
          66,
          66,
          66,
          66,
          66,
          66,
          66,
          66,
          66,
          66,
          66,
          60,
          60,
          60,
          60,
          60,
          60,
          60,
          23,
          23,
          23,
          23,
          23,
          23,
          23,
          66,
          90,
          90,
          90,
          90,
          9,
          9,
          9,
          9,
          9,
          9,
          79,
          79,
          79,
          53,
          53,
          53,
          53,
          53,
          66,
          66,
          66,
          66,
          107,
          107,
          107,
          107,
          107,
          107,
          112,
          112,
          112,
          117,
          117,
          117,
          117,
          117,
          117,
          43,
          43,
          43,
          43,
          89,
          89,
          89,
          89,
          58,
          58,
          58,
          58,
          58,
          58,
          82,
          82,
          82,
          5,
          5,
          5,
          5,
          5,
          5,
          5,
          5,
          127,
          127,
          127,
          0,
          0,
          0,
          0,
          139,
          139,
          139,
          139,
          139,
          139,
          77,
          77,
          77,
          77,
          77,
          35,
          35,
          35,
          35,
          35,
          35,
          35,
          35,
          76,
          76,
          76,
          76,
          76,
          76,
          106,
          106,
          106,
          133,
          133,
          22,
          22,
          22,
          22,
          62,
          62,
          62,
          62,
          62,
          66,
          66,
          66,
          88,
          88,
          88,
          88,
          84,
          84,
          84,
          84,
          84,
          84,
          84,
          84,
          122,
          122,
          122,
          122,
          122,
          29,
          29,
          29,
          29,
          66,
          66,
          66,
          32,
          32,
          32,
          32,
          32,
          130,
          130,
          130,
          130,
          130,
          130,
          130,
          110,
          110,
          110,
          109,
          109,
          109,
          109,
          109,
          97,
          97,
          97,
          97,
          97,
          131,
          131,
          131,
          131,
          131,
          113,
          113,
          6,
          6,
          6,
          6,
          6,
          6,
          6,
          6,
          6,
          99,
          99,
          99,
          99,
          99,
          85,
          85,
          70,
          70,
          70,
          70,
          141,
          141,
          141,
          141,
          141,
          66,
          66,
          66,
          66,
          66,
          66,
          66,
          104,
          104,
          104,
          104,
          104,
          104,
          100,
          100,
          100,
          100,
          100,
          100,
          100,
          100,
          76,
          76,
          76,
          46,
          46,
          25,
          25,
          71,
          71,
          71,
          71,
          71,
          71,
          71,
          71,
          78,
          78,
          78,
          78,
          78,
          78,
          78,
          134,
          134,
          134,
          134,
          134,
          134,
          134,
          2,
          2,
          2,
          2,
          66,
          14,
          14,
          14,
          27,
          27,
          27,
          38,
          38,
          38,
          88,
          88,
          88,
          88,
          88,
          88,
          80,
          80,
          80,
          80,
          80,
          66,
          66,
          66,
          66,
          66,
          122,
          84,
          84,
          37,
          37,
          37,
          68,
          68,
          71,
          71,
          71,
          30,
          30,
          30,
          30,
          30,
          55,
          55,
          55,
          55,
          55,
          55,
          21,
          21,
          21,
          21,
          21,
          66,
          66,
          66,
          66,
          66,
          66,
          66,
          66,
          66,
          66,
          62,
          62,
          62,
          62,
          62,
          62,
          62,
          32,
          32,
          32,
          32,
          32,
          32,
          32,
          32,
          32,
          32,
          138,
          138,
          138,
          138,
          69,
          69,
          69,
          69,
          120,
          120,
          120,
          120,
          120,
          120,
          120,
          109,
          109,
          109,
          109,
          7,
          7,
          50,
          50,
          50,
          50,
          50,
          50,
          50,
          25,
          25,
          25,
          70,
          70,
          70,
          66,
          66,
          66,
          66,
          66,
          96,
          96,
          96,
          96,
          96,
          96,
          96,
          96,
          10,
          10,
          10,
          98,
          98,
          98,
          31,
          31,
          31,
          31,
          22,
          22,
          129,
          129,
          129,
          129,
          66,
          66,
          66,
          142,
          142,
          142,
          47,
          47,
          47,
          47,
          47,
          39,
          39,
          39,
          39,
          66,
          66,
          66,
          126,
          126,
          132,
          132,
          90,
          90,
          90,
          90,
          90,
          90,
          88,
          88,
          88,
          88,
          88,
          88,
          88,
          122,
          122,
          48,
          48,
          48,
          48,
          66,
          66,
          115,
          115,
          101,
          101,
          101,
          101,
          101,
          43,
          43,
          43,
          43,
          77,
          77,
          77,
          77,
          77,
          5,
          5,
          5,
          137,
          137,
          137,
          137,
          137,
          137,
          137,
          49,
          49,
          49,
          66,
          66,
          66,
          66,
          66,
          66,
          66,
          94,
          94,
          94,
          94,
          94,
          62,
          62,
          62,
          62,
          62,
          62,
          62,
          9,
          9,
          9,
          9,
          109,
          109,
          109,
          130,
          130,
          130,
          130,
          37,
          37,
          37,
          37,
          37,
          85,
          85,
          85,
          85,
          63,
          63,
          63,
          63,
          63,
          28,
          28,
          70,
          70,
          70,
          46,
          46,
          46,
          46,
          66,
          66,
          66,
          54,
          54,
          54,
          25,
          25,
          25,
          58,
          58,
          58,
          58,
          38,
          38,
          38,
          38,
          100,
          100,
          100,
          100,
          100,
          100,
          66,
          66,
          66,
          66,
          112,
          112,
          112,
          112,
          112,
          112,
          134,
          134,
          134,
          134,
          134,
          134,
          3,
          66,
          66,
          66,
          66,
          66,
          76,
          76,
          76,
          76,
          76,
          122,
          122,
          16,
          16,
          88,
          88,
          88,
          88,
          77,
          77,
          77,
          77,
          74,
          74,
          74,
          74,
          74,
          102,
          102,
          102,
          102,
          102,
          23,
          23,
          56,
          56,
          56,
          56,
          56,
          34,
          34,
          55,
          139,
          139,
          139,
          66,
          66,
          66,
          66,
          116,
          6,
          6,
          6,
          6,
          6,
          6,
          32,
          32,
          32,
          128,
          128,
          128,
          66,
          66,
          66,
          66,
          66,
          66,
          66,
          66,
          66,
          66,
          97,
          97,
          97,
          97,
          71,
          71,
          71,
          66,
          66,
          66,
          66,
          66,
          66,
          36,
          36,
          111,
          111,
          111,
          66,
          66,
          66,
          133,
          133,
          133,
          133,
          133,
          143,
          143,
          143,
          143,
          143,
          24,
          24,
          24,
          24,
          66,
          66,
          66,
          66,
          66,
          66,
          70,
          70,
          70,
          70,
          70,
          101,
          101,
          101,
          101,
          101,
          66,
          66,
          66,
          66,
          89,
          89,
          89,
          89,
          89,
          89,
          22,
          22,
          22,
          22,
          66,
          66,
          66,
          66,
          96,
          96,
          96,
          96,
          96,
          66,
          66,
          66,
          66,
          66,
          66,
          66,
          66,
          66,
          66,
          66,
          125,
          125,
          125,
          125,
          81,
          81,
          81,
          81,
          81,
          76,
          76,
          76,
          76,
          76,
          122,
          122,
          122,
          122,
          122,
          122,
          122,
          40,
          40,
          40,
          40,
          58,
          58,
          58,
          58,
          114,
          114,
          114,
          66,
          66,
          66,
          66,
          123,
          123,
          123,
          123,
          123,
          85,
          85,
          109,
          109,
          32,
          32,
          32,
          32,
          32,
          49,
          118,
          118,
          118,
          66,
          66,
          66,
          66,
          66,
          66,
          66,
          66,
          66,
          66,
          66,
          57,
          57,
          18,
          18,
          77,
          77,
          77,
          77,
          77,
          87,
          87,
          87,
          87,
          87,
          51,
          51,
          51,
          66,
          66,
          66,
          66,
          75,
          75,
          75,
          75,
          75,
          2,
          2,
          2,
          2,
          2,
          2,
          2,
          83,
          83,
          89,
          89,
          89,
          89,
          89,
          89,
          89,
          89,
          65,
          65,
          65,
          44,
          44,
          108,
          37,
          37,
          37,
          37,
          37,
          37,
          37,
          71,
          71,
          71,
          103,
          103,
          103,
          103,
          103,
          103,
          103,
          103,
          26,
          66,
          66,
          66,
          66,
          66,
          130,
          130,
          130,
          130,
          130,
          22,
          22,
          22,
          22,
          22,
          66,
          13,
          13,
          13,
          13,
          100,
          100,
          100,
          100,
          66,
          66,
          66,
          66,
          66,
          10,
          10,
          10,
          10,
          10,
          77,
          136,
          136,
          132,
          132,
          132,
          132,
          132,
          108,
          108,
          108,
          108,
          108,
          108,
          130,
          130,
          130,
          130,
          66,
          66,
          66,
          66,
          66,
          114,
          23,
          23,
          23,
          67,
          67,
          112,
          112,
          112,
          135,
          135,
          135,
          135,
          12,
          119,
          119,
          119,
          119,
          119,
          119,
          40,
          40,
          40,
          7,
          7,
          7,
          66,
          66,
          66,
          66,
          66,
          117,
          9,
          9,
          9,
          9,
          139,
          4,
          4,
          4,
          4,
          121,
          121,
          121,
          19,
          19,
          19,
          19,
          19,
          66,
          66,
          66,
          66,
          33,
          33,
          33,
          33,
          33,
          11,
          11,
          96,
          96,
          105,
          105,
          1,
          1,
          86,
          86,
          86,
          86,
          37,
          37,
          37,
          37,
          37,
          37,
          37,
          70,
          73,
          66,
          66,
          61,
          61,
          89,
          89,
          89,
          89,
          32,
          32,
          32,
          41,
          41,
          66,
          66,
          66,
          112,
          112,
          24,
          24,
          24,
          66,
          66,
          66,
          66,
          66,
          66,
          66,
          51,
          51,
          51,
          45,
          45,
          45,
          45,
          45,
          45,
          45,
          74,
          74,
          74,
          58,
          58,
          58,
          13,
          13,
          13,
          134,
          134,
          134,
          134,
          134,
          17,
          17,
          78,
          78,
          78,
          78,
          78,
          78,
          78,
          78,
          59,
          59,
          22,
          22,
          22,
          22,
          22,
          22,
          22,
          108,
          108,
          124,
          124,
          124,
          124,
          124,
          66,
          66,
          142,
          142,
          46,
          46,
          66,
          66,
          66,
          61,
          89,
          119,
          119,
          66,
          66,
          130,
          83,
          83,
          83,
          114,
          114,
          114,
          5,
          70,
          70,
          66,
          66,
          66,
          66,
          66,
          32,
          32,
          32,
          32,
          32,
          121,
          121,
          66,
          66,
          66,
          66,
          66,
          66,
          66,
          66,
          66,
          66,
          52,
          124,
          124,
          124,
          83,
          83,
          83,
          83,
          73,
          73,
          108,
          79,
          79,
          79,
          79,
          91,
          91,
          134,
          134,
          134,
          38,
          38,
          38,
          71,
          71,
          30,
          30,
          30,
          30,
          119,
          119,
          119,
          119,
          66,
          66,
          66,
          66,
          17,
          7,
          7,
          7,
          131,
          131,
          66,
          66,
          66,
          66,
          66,
          66,
          44,
          44,
          44,
          42,
          42,
          42,
          42,
          42,
          6,
          6,
          6,
          6,
          130,
          130,
          132,
          132,
          132,
          132,
          114,
          114,
          114,
          114,
          114,
          114,
          95,
          95,
          66,
          66,
          66,
          32,
          85,
          85,
          108,
          66,
          66,
          66,
          66,
          66,
          134,
          134,
          134,
          134,
          134,
          134,
          134,
          119,
          119,
          119,
          119,
          5,
          5,
          20,
          20,
          66,
          66,
          66,
          58,
          58,
          58,
          58,
          140,
          140,
          140,
          38,
          38,
          38,
          87,
          87,
          87,
          87,
          108,
          78,
          78,
          78,
          78,
          99,
          99,
          99,
          66,
          66,
          66,
          101,
          101,
          139,
          139,
          139,
          139,
          66,
          66,
          66,
          66,
          66,
          66,
          134,
          134,
          124,
          124,
          124,
          124,
          124,
          89,
          89,
          89,
          89,
          89,
          72,
          72,
          72,
          72,
          132,
          132,
          64,
          64,
          66,
          66,
          66,
          83,
          83,
          83,
          66,
          66,
          66,
          8,
          8,
          8,
          8,
          8,
          93,
          93,
          5,
          5,
          5,
          5,
          70,
          70,
          70,
          70,
          59,
          59,
          59,
          10,
          10,
          10,
          22,
          22,
          22,
          92,
          92,
          92,
          92,
          118,
          118,
          118,
          118,
          118,
          118,
          66,
          66,
          66,
          66,
          139,
          139,
          139,
          139,
          139,
          66,
          66,
          66,
          66,
          66,
          66,
          83,
          83,
          83,
          83,
          83,
          83,
          83,
          83,
          1,
          1,
          1,
          1,
          1,
          31,
          31,
          31,
          89,
          89,
          89,
          26,
          26,
          26
         ]
        }
       ],
       "layout": {
        "barmode": "overlay",
        "template": {
         "data": {
          "bar": [
           {
            "error_x": {
             "color": "#2a3f5f"
            },
            "error_y": {
             "color": "#2a3f5f"
            },
            "marker": {
             "line": {
              "color": "#E5ECF6",
              "width": 0.5
             },
             "pattern": {
              "fillmode": "overlay",
              "size": 10,
              "solidity": 0.2
             }
            },
            "type": "bar"
           }
          ],
          "barpolar": [
           {
            "marker": {
             "line": {
              "color": "#E5ECF6",
              "width": 0.5
             },
             "pattern": {
              "fillmode": "overlay",
              "size": 10,
              "solidity": 0.2
             }
            },
            "type": "barpolar"
           }
          ],
          "carpet": [
           {
            "aaxis": {
             "endlinecolor": "#2a3f5f",
             "gridcolor": "white",
             "linecolor": "white",
             "minorgridcolor": "white",
             "startlinecolor": "#2a3f5f"
            },
            "baxis": {
             "endlinecolor": "#2a3f5f",
             "gridcolor": "white",
             "linecolor": "white",
             "minorgridcolor": "white",
             "startlinecolor": "#2a3f5f"
            },
            "type": "carpet"
           }
          ],
          "choropleth": [
           {
            "colorbar": {
             "outlinewidth": 0,
             "ticks": ""
            },
            "type": "choropleth"
           }
          ],
          "contour": [
           {
            "colorbar": {
             "outlinewidth": 0,
             "ticks": ""
            },
            "colorscale": [
             [
              0,
              "#0d0887"
             ],
             [
              0.1111111111111111,
              "#46039f"
             ],
             [
              0.2222222222222222,
              "#7201a8"
             ],
             [
              0.3333333333333333,
              "#9c179e"
             ],
             [
              0.4444444444444444,
              "#bd3786"
             ],
             [
              0.5555555555555556,
              "#d8576b"
             ],
             [
              0.6666666666666666,
              "#ed7953"
             ],
             [
              0.7777777777777778,
              "#fb9f3a"
             ],
             [
              0.8888888888888888,
              "#fdca26"
             ],
             [
              1,
              "#f0f921"
             ]
            ],
            "type": "contour"
           }
          ],
          "contourcarpet": [
           {
            "colorbar": {
             "outlinewidth": 0,
             "ticks": ""
            },
            "type": "contourcarpet"
           }
          ],
          "heatmap": [
           {
            "colorbar": {
             "outlinewidth": 0,
             "ticks": ""
            },
            "colorscale": [
             [
              0,
              "#0d0887"
             ],
             [
              0.1111111111111111,
              "#46039f"
             ],
             [
              0.2222222222222222,
              "#7201a8"
             ],
             [
              0.3333333333333333,
              "#9c179e"
             ],
             [
              0.4444444444444444,
              "#bd3786"
             ],
             [
              0.5555555555555556,
              "#d8576b"
             ],
             [
              0.6666666666666666,
              "#ed7953"
             ],
             [
              0.7777777777777778,
              "#fb9f3a"
             ],
             [
              0.8888888888888888,
              "#fdca26"
             ],
             [
              1,
              "#f0f921"
             ]
            ],
            "type": "heatmap"
           }
          ],
          "heatmapgl": [
           {
            "colorbar": {
             "outlinewidth": 0,
             "ticks": ""
            },
            "colorscale": [
             [
              0,
              "#0d0887"
             ],
             [
              0.1111111111111111,
              "#46039f"
             ],
             [
              0.2222222222222222,
              "#7201a8"
             ],
             [
              0.3333333333333333,
              "#9c179e"
             ],
             [
              0.4444444444444444,
              "#bd3786"
             ],
             [
              0.5555555555555556,
              "#d8576b"
             ],
             [
              0.6666666666666666,
              "#ed7953"
             ],
             [
              0.7777777777777778,
              "#fb9f3a"
             ],
             [
              0.8888888888888888,
              "#fdca26"
             ],
             [
              1,
              "#f0f921"
             ]
            ],
            "type": "heatmapgl"
           }
          ],
          "histogram": [
           {
            "marker": {
             "pattern": {
              "fillmode": "overlay",
              "size": 10,
              "solidity": 0.2
             }
            },
            "type": "histogram"
           }
          ],
          "histogram2d": [
           {
            "colorbar": {
             "outlinewidth": 0,
             "ticks": ""
            },
            "colorscale": [
             [
              0,
              "#0d0887"
             ],
             [
              0.1111111111111111,
              "#46039f"
             ],
             [
              0.2222222222222222,
              "#7201a8"
             ],
             [
              0.3333333333333333,
              "#9c179e"
             ],
             [
              0.4444444444444444,
              "#bd3786"
             ],
             [
              0.5555555555555556,
              "#d8576b"
             ],
             [
              0.6666666666666666,
              "#ed7953"
             ],
             [
              0.7777777777777778,
              "#fb9f3a"
             ],
             [
              0.8888888888888888,
              "#fdca26"
             ],
             [
              1,
              "#f0f921"
             ]
            ],
            "type": "histogram2d"
           }
          ],
          "histogram2dcontour": [
           {
            "colorbar": {
             "outlinewidth": 0,
             "ticks": ""
            },
            "colorscale": [
             [
              0,
              "#0d0887"
             ],
             [
              0.1111111111111111,
              "#46039f"
             ],
             [
              0.2222222222222222,
              "#7201a8"
             ],
             [
              0.3333333333333333,
              "#9c179e"
             ],
             [
              0.4444444444444444,
              "#bd3786"
             ],
             [
              0.5555555555555556,
              "#d8576b"
             ],
             [
              0.6666666666666666,
              "#ed7953"
             ],
             [
              0.7777777777777778,
              "#fb9f3a"
             ],
             [
              0.8888888888888888,
              "#fdca26"
             ],
             [
              1,
              "#f0f921"
             ]
            ],
            "type": "histogram2dcontour"
           }
          ],
          "mesh3d": [
           {
            "colorbar": {
             "outlinewidth": 0,
             "ticks": ""
            },
            "type": "mesh3d"
           }
          ],
          "parcoords": [
           {
            "line": {
             "colorbar": {
              "outlinewidth": 0,
              "ticks": ""
             }
            },
            "type": "parcoords"
           }
          ],
          "pie": [
           {
            "automargin": true,
            "type": "pie"
           }
          ],
          "scatter": [
           {
            "fillpattern": {
             "fillmode": "overlay",
             "size": 10,
             "solidity": 0.2
            },
            "type": "scatter"
           }
          ],
          "scatter3d": [
           {
            "line": {
             "colorbar": {
              "outlinewidth": 0,
              "ticks": ""
             }
            },
            "marker": {
             "colorbar": {
              "outlinewidth": 0,
              "ticks": ""
             }
            },
            "type": "scatter3d"
           }
          ],
          "scattercarpet": [
           {
            "marker": {
             "colorbar": {
              "outlinewidth": 0,
              "ticks": ""
             }
            },
            "type": "scattercarpet"
           }
          ],
          "scattergeo": [
           {
            "marker": {
             "colorbar": {
              "outlinewidth": 0,
              "ticks": ""
             }
            },
            "type": "scattergeo"
           }
          ],
          "scattergl": [
           {
            "marker": {
             "colorbar": {
              "outlinewidth": 0,
              "ticks": ""
             }
            },
            "type": "scattergl"
           }
          ],
          "scattermapbox": [
           {
            "marker": {
             "colorbar": {
              "outlinewidth": 0,
              "ticks": ""
             }
            },
            "type": "scattermapbox"
           }
          ],
          "scatterpolar": [
           {
            "marker": {
             "colorbar": {
              "outlinewidth": 0,
              "ticks": ""
             }
            },
            "type": "scatterpolar"
           }
          ],
          "scatterpolargl": [
           {
            "marker": {
             "colorbar": {
              "outlinewidth": 0,
              "ticks": ""
             }
            },
            "type": "scatterpolargl"
           }
          ],
          "scatterternary": [
           {
            "marker": {
             "colorbar": {
              "outlinewidth": 0,
              "ticks": ""
             }
            },
            "type": "scatterternary"
           }
          ],
          "surface": [
           {
            "colorbar": {
             "outlinewidth": 0,
             "ticks": ""
            },
            "colorscale": [
             [
              0,
              "#0d0887"
             ],
             [
              0.1111111111111111,
              "#46039f"
             ],
             [
              0.2222222222222222,
              "#7201a8"
             ],
             [
              0.3333333333333333,
              "#9c179e"
             ],
             [
              0.4444444444444444,
              "#bd3786"
             ],
             [
              0.5555555555555556,
              "#d8576b"
             ],
             [
              0.6666666666666666,
              "#ed7953"
             ],
             [
              0.7777777777777778,
              "#fb9f3a"
             ],
             [
              0.8888888888888888,
              "#fdca26"
             ],
             [
              1,
              "#f0f921"
             ]
            ],
            "type": "surface"
           }
          ],
          "table": [
           {
            "cells": {
             "fill": {
              "color": "#EBF0F8"
             },
             "line": {
              "color": "white"
             }
            },
            "header": {
             "fill": {
              "color": "#C8D4E3"
             },
             "line": {
              "color": "white"
             }
            },
            "type": "table"
           }
          ]
         },
         "layout": {
          "annotationdefaults": {
           "arrowcolor": "#2a3f5f",
           "arrowhead": 0,
           "arrowwidth": 1
          },
          "autotypenumbers": "strict",
          "coloraxis": {
           "colorbar": {
            "outlinewidth": 0,
            "ticks": ""
           }
          },
          "colorscale": {
           "diverging": [
            [
             0,
             "#8e0152"
            ],
            [
             0.1,
             "#c51b7d"
            ],
            [
             0.2,
             "#de77ae"
            ],
            [
             0.3,
             "#f1b6da"
            ],
            [
             0.4,
             "#fde0ef"
            ],
            [
             0.5,
             "#f7f7f7"
            ],
            [
             0.6,
             "#e6f5d0"
            ],
            [
             0.7,
             "#b8e186"
            ],
            [
             0.8,
             "#7fbc41"
            ],
            [
             0.9,
             "#4d9221"
            ],
            [
             1,
             "#276419"
            ]
           ],
           "sequential": [
            [
             0,
             "#0d0887"
            ],
            [
             0.1111111111111111,
             "#46039f"
            ],
            [
             0.2222222222222222,
             "#7201a8"
            ],
            [
             0.3333333333333333,
             "#9c179e"
            ],
            [
             0.4444444444444444,
             "#bd3786"
            ],
            [
             0.5555555555555556,
             "#d8576b"
            ],
            [
             0.6666666666666666,
             "#ed7953"
            ],
            [
             0.7777777777777778,
             "#fb9f3a"
            ],
            [
             0.8888888888888888,
             "#fdca26"
            ],
            [
             1,
             "#f0f921"
            ]
           ],
           "sequentialminus": [
            [
             0,
             "#0d0887"
            ],
            [
             0.1111111111111111,
             "#46039f"
            ],
            [
             0.2222222222222222,
             "#7201a8"
            ],
            [
             0.3333333333333333,
             "#9c179e"
            ],
            [
             0.4444444444444444,
             "#bd3786"
            ],
            [
             0.5555555555555556,
             "#d8576b"
            ],
            [
             0.6666666666666666,
             "#ed7953"
            ],
            [
             0.7777777777777778,
             "#fb9f3a"
            ],
            [
             0.8888888888888888,
             "#fdca26"
            ],
            [
             1,
             "#f0f921"
            ]
           ]
          },
          "colorway": [
           "#636efa",
           "#EF553B",
           "#00cc96",
           "#ab63fa",
           "#FFA15A",
           "#19d3f3",
           "#FF6692",
           "#B6E880",
           "#FF97FF",
           "#FECB52"
          ],
          "font": {
           "color": "#2a3f5f"
          },
          "geo": {
           "bgcolor": "white",
           "lakecolor": "white",
           "landcolor": "#E5ECF6",
           "showlakes": true,
           "showland": true,
           "subunitcolor": "white"
          },
          "hoverlabel": {
           "align": "left"
          },
          "hovermode": "closest",
          "mapbox": {
           "style": "light"
          },
          "paper_bgcolor": "white",
          "plot_bgcolor": "#E5ECF6",
          "polar": {
           "angularaxis": {
            "gridcolor": "white",
            "linecolor": "white",
            "ticks": ""
           },
           "bgcolor": "#E5ECF6",
           "radialaxis": {
            "gridcolor": "white",
            "linecolor": "white",
            "ticks": ""
           }
          },
          "scene": {
           "xaxis": {
            "backgroundcolor": "#E5ECF6",
            "gridcolor": "white",
            "gridwidth": 2,
            "linecolor": "white",
            "showbackground": true,
            "ticks": "",
            "zerolinecolor": "white"
           },
           "yaxis": {
            "backgroundcolor": "#E5ECF6",
            "gridcolor": "white",
            "gridwidth": 2,
            "linecolor": "white",
            "showbackground": true,
            "ticks": "",
            "zerolinecolor": "white"
           },
           "zaxis": {
            "backgroundcolor": "#E5ECF6",
            "gridcolor": "white",
            "gridwidth": 2,
            "linecolor": "white",
            "showbackground": true,
            "ticks": "",
            "zerolinecolor": "white"
           }
          },
          "shapedefaults": {
           "line": {
            "color": "#2a3f5f"
           }
          },
          "ternary": {
           "aaxis": {
            "gridcolor": "white",
            "linecolor": "white",
            "ticks": ""
           },
           "baxis": {
            "gridcolor": "white",
            "linecolor": "white",
            "ticks": ""
           },
           "bgcolor": "#E5ECF6",
           "caxis": {
            "gridcolor": "white",
            "linecolor": "white",
            "ticks": ""
           }
          },
          "title": {
           "x": 0.05
          },
          "xaxis": {
           "automargin": true,
           "gridcolor": "white",
           "linecolor": "white",
           "ticks": "",
           "title": {
            "standoff": 15
           },
           "zerolinecolor": "white",
           "zerolinewidth": 2
          },
          "yaxis": {
           "automargin": true,
           "gridcolor": "white",
           "linecolor": "white",
           "ticks": "",
           "title": {
            "standoff": 15
           },
           "zerolinecolor": "white",
           "zerolinewidth": 2
          }
         }
        },
        "title": {
         "text": "Density Plot of column1 (Dataset 1) and column2 (Dataset 2)"
        },
        "xaxis": {
         "title": {
          "text": "Column Values"
         }
        },
        "yaxis": {
         "title": {
          "text": "Density"
         }
        }
       }
      }
     },
     "metadata": {},
     "output_type": "display_data"
    }
   ],
   "source": [
    "red_vs_blue(red_win, blue_win, 'location')"
   ]
  },
  {
   "cell_type": "code",
   "execution_count": 73,
   "metadata": {},
   "outputs": [
    {
     "data": {
      "text/plain": [
       "location\n",
       "66     438\n",
       "0       65\n",
       "58      36\n",
       "108     32\n",
       "134     31\n",
       "      ... \n",
       "45       1\n",
       "141      1\n",
       "33       1\n",
       "65       1\n",
       "19       1\n",
       "Name: count, Length: 140, dtype: int64"
      ]
     },
     "execution_count": 73,
     "metadata": {},
     "output_type": "execute_result"
    }
   ],
   "source": [
    "red_win.location.value_counts()"
   ]
  },
  {
   "cell_type": "code",
   "execution_count": 39,
   "metadata": {},
   "outputs": [],
   "source": [
    "b_rds = standardize(list(red_win['B_total_rounds_fought']))\n",
    "red_win['B_total_rounds_fought'] = b_rds"
   ]
  },
  {
   "cell_type": "code",
   "execution_count": 40,
   "metadata": {},
   "outputs": [],
   "source": [
    "blue_win['B_total_rounds_fought'] = standardize(list(blue_win['B_total_rounds_fought']))"
   ]
  },
  {
   "cell_type": "code",
   "execution_count": 37,
   "metadata": {},
   "outputs": [
    {
     "name": "stdout",
     "output_type": "stream",
     "text": [
      "B_current_win_streak\n",
      "12\n",
      "****************************\n",
      "R_win_by_Submission\n",
      "13\n",
      "****************************\n",
      "B_win_by_Decision_Unanimous\n",
      "11\n",
      "****************************\n",
      "R_win_by_Decision_Unanimous\n",
      "11\n",
      "****************************\n",
      "R_current_lose_streak\n",
      "8\n",
      "****************************\n",
      "B_win_by_TKO_Doctor_Stoppage\n",
      "3\n",
      "****************************\n",
      "win_dif\n",
      "41\n",
      "****************************\n",
      "B_win_by_Decision_Split\n",
      "6\n",
      "****************************\n",
      "B_wins\n",
      "26\n",
      "****************************\n",
      "R_Stance\n",
      "4\n",
      "****************************\n",
      "B_age\n",
      "27\n",
      "****************************\n",
      "B_Weight_lbs\n",
      "34\n",
      "****************************\n",
      "B_total_rounds_fought\n",
      "82\n",
      "****************************\n",
      "location\n",
      "144\n",
      "****************************\n",
      "R_Weight_lbs\n",
      "32\n",
      "****************************\n",
      "R_current_win_streak\n",
      "16\n",
      "****************************\n",
      "R_age\n",
      "26\n",
      "****************************\n",
      "empty_arena\n",
      "2\n",
      "****************************\n",
      "R_win_by_Decision_Split\n",
      "6\n",
      "****************************\n",
      "R_draw\n",
      "3\n",
      "****************************\n",
      "lose_streak_dif\n",
      "12\n",
      "****************************\n",
      "B_draw\n",
      "3\n",
      "****************************\n"
     ]
    }
   ],
   "source": [
    "for col in feats.columns:\n",
    "    if feats[col].dtype in ['int64', 'int32']:\n",
    "        print(col)\n",
    "        print(len(feats[col].unique()))\n",
    "        print('****************************')"
   ]
  },
  {
   "cell_type": "code",
   "execution_count": 48,
   "metadata": {},
   "outputs": [
    {
     "data": {
      "text/plain": [
       "B_total_rounds_fought\n",
       "3     368\n",
       "6     223\n",
       "9     175\n",
       "1     158\n",
       "7     152\n",
       "     ... \n",
       "60      1\n",
       "89      1\n",
       "86      1\n",
       "87      1\n",
       "75      1\n",
       "Name: count, Length: 82, dtype: int64"
      ]
     },
     "execution_count": 48,
     "metadata": {},
     "output_type": "execute_result"
    }
   ],
   "source": [
    "feats['B_total_rounds_fought'].value_counts()"
   ]
  },
  {
   "cell_type": "code",
   "execution_count": 65,
   "metadata": {},
   "outputs": [],
   "source": [
    "def bin(feature_col, feature_name='B_total_rounds_fought'):\n",
    "    \n",
    "    to_change = list(feature_col)\n",
    "    changed_col = []\n",
    "    \n",
    "    if feature_name == 'B_total_rounds_fought':\n",
    "        \n",
    "        for col in to_change:\n",
    "            if col < 5:\n",
    "                changed_col.append(2)\n",
    "            elif col < 10:\n",
    "                changed_col.append(4)\n",
    "            elif col < 15: \n",
    "                changed_col.append(6)\n",
    "            elif col < 20:\n",
    "                changed_col.append(8)\n",
    "            elif col < 25:\n",
    "                changed_col.append(9)\n",
    "            else:\n",
    "                changed_col.append(10)\n",
    "            \n",
    "    \n",
    "    return changed_col"
   ]
  },
  {
   "cell_type": "code",
   "execution_count": 66,
   "metadata": {},
   "outputs": [],
   "source": [
    "red_win['B_total_rounds_fought'] = bin(red_win['B_total_rounds_fought'])"
   ]
  },
  {
   "cell_type": "code",
   "execution_count": 67,
   "metadata": {},
   "outputs": [],
   "source": [
    "blue_win['B_total_rounds_fought'] = bin(blue_win['B_total_rounds_fought'])"
   ]
  },
  {
   "cell_type": "code",
   "execution_count": 69,
   "metadata": {},
   "outputs": [],
   "source": [
    "feats['B_total_rounds_fought'] = bin(feats['B_total_rounds_fought'])"
   ]
  },
  {
   "cell_type": "code",
   "execution_count": 74,
   "metadata": {},
   "outputs": [],
   "source": [
    "feats = feats.drop(['location'], axis=1)"
   ]
  },
  {
   "cell_type": "code",
   "execution_count": 80,
   "metadata": {},
   "outputs": [],
   "source": [
    "corrs_list = []\n",
    "\n",
    "for col in feats.columns:\n",
    "    corrs_list.append(exp[col].corr(exp['Winner']))"
   ]
  },
  {
   "cell_type": "code",
   "execution_count": 82,
   "metadata": {},
   "outputs": [
    {
     "data": {
      "application/vnd.plotly.v1+json": {
       "config": {
        "plotlyServerURL": "https://plot.ly"
       },
       "data": [
        {
         "histnorm": "probability density",
         "name": "Red Win",
         "type": "histogram",
         "x": [
          -0.06375674015747831,
          -0.010157536883522915,
          -0.0024907212464563943,
          0.01179741379124096,
          -0.06463827354593674,
          0.03310641316159706,
          0.042468255929897336,
          0.051631453444995076,
          0.03327029930864456,
          0.031910080353212474,
          0.12830652862347428,
          -0.007242864568213305,
          -0.3074856983639259,
          0.04546161821701495,
          0.008409057397798519,
          -0.3262637211527743,
          0.028945438633536047,
          0.00524040941729545,
          0.06318949589768537,
          -0.1049034937458923,
          -1.0032599233786418e-15,
          -0.0733220543691413,
          -0.009032775043542341,
          -0.044006159884267634,
          -0.02522840492947417,
          0.04510203822119636
         ]
        }
       ],
       "layout": {
        "barmode": "overlay",
        "template": {
         "data": {
          "bar": [
           {
            "error_x": {
             "color": "#2a3f5f"
            },
            "error_y": {
             "color": "#2a3f5f"
            },
            "marker": {
             "line": {
              "color": "#E5ECF6",
              "width": 0.5
             },
             "pattern": {
              "fillmode": "overlay",
              "size": 10,
              "solidity": 0.2
             }
            },
            "type": "bar"
           }
          ],
          "barpolar": [
           {
            "marker": {
             "line": {
              "color": "#E5ECF6",
              "width": 0.5
             },
             "pattern": {
              "fillmode": "overlay",
              "size": 10,
              "solidity": 0.2
             }
            },
            "type": "barpolar"
           }
          ],
          "carpet": [
           {
            "aaxis": {
             "endlinecolor": "#2a3f5f",
             "gridcolor": "white",
             "linecolor": "white",
             "minorgridcolor": "white",
             "startlinecolor": "#2a3f5f"
            },
            "baxis": {
             "endlinecolor": "#2a3f5f",
             "gridcolor": "white",
             "linecolor": "white",
             "minorgridcolor": "white",
             "startlinecolor": "#2a3f5f"
            },
            "type": "carpet"
           }
          ],
          "choropleth": [
           {
            "colorbar": {
             "outlinewidth": 0,
             "ticks": ""
            },
            "type": "choropleth"
           }
          ],
          "contour": [
           {
            "colorbar": {
             "outlinewidth": 0,
             "ticks": ""
            },
            "colorscale": [
             [
              0,
              "#0d0887"
             ],
             [
              0.1111111111111111,
              "#46039f"
             ],
             [
              0.2222222222222222,
              "#7201a8"
             ],
             [
              0.3333333333333333,
              "#9c179e"
             ],
             [
              0.4444444444444444,
              "#bd3786"
             ],
             [
              0.5555555555555556,
              "#d8576b"
             ],
             [
              0.6666666666666666,
              "#ed7953"
             ],
             [
              0.7777777777777778,
              "#fb9f3a"
             ],
             [
              0.8888888888888888,
              "#fdca26"
             ],
             [
              1,
              "#f0f921"
             ]
            ],
            "type": "contour"
           }
          ],
          "contourcarpet": [
           {
            "colorbar": {
             "outlinewidth": 0,
             "ticks": ""
            },
            "type": "contourcarpet"
           }
          ],
          "heatmap": [
           {
            "colorbar": {
             "outlinewidth": 0,
             "ticks": ""
            },
            "colorscale": [
             [
              0,
              "#0d0887"
             ],
             [
              0.1111111111111111,
              "#46039f"
             ],
             [
              0.2222222222222222,
              "#7201a8"
             ],
             [
              0.3333333333333333,
              "#9c179e"
             ],
             [
              0.4444444444444444,
              "#bd3786"
             ],
             [
              0.5555555555555556,
              "#d8576b"
             ],
             [
              0.6666666666666666,
              "#ed7953"
             ],
             [
              0.7777777777777778,
              "#fb9f3a"
             ],
             [
              0.8888888888888888,
              "#fdca26"
             ],
             [
              1,
              "#f0f921"
             ]
            ],
            "type": "heatmap"
           }
          ],
          "heatmapgl": [
           {
            "colorbar": {
             "outlinewidth": 0,
             "ticks": ""
            },
            "colorscale": [
             [
              0,
              "#0d0887"
             ],
             [
              0.1111111111111111,
              "#46039f"
             ],
             [
              0.2222222222222222,
              "#7201a8"
             ],
             [
              0.3333333333333333,
              "#9c179e"
             ],
             [
              0.4444444444444444,
              "#bd3786"
             ],
             [
              0.5555555555555556,
              "#d8576b"
             ],
             [
              0.6666666666666666,
              "#ed7953"
             ],
             [
              0.7777777777777778,
              "#fb9f3a"
             ],
             [
              0.8888888888888888,
              "#fdca26"
             ],
             [
              1,
              "#f0f921"
             ]
            ],
            "type": "heatmapgl"
           }
          ],
          "histogram": [
           {
            "marker": {
             "pattern": {
              "fillmode": "overlay",
              "size": 10,
              "solidity": 0.2
             }
            },
            "type": "histogram"
           }
          ],
          "histogram2d": [
           {
            "colorbar": {
             "outlinewidth": 0,
             "ticks": ""
            },
            "colorscale": [
             [
              0,
              "#0d0887"
             ],
             [
              0.1111111111111111,
              "#46039f"
             ],
             [
              0.2222222222222222,
              "#7201a8"
             ],
             [
              0.3333333333333333,
              "#9c179e"
             ],
             [
              0.4444444444444444,
              "#bd3786"
             ],
             [
              0.5555555555555556,
              "#d8576b"
             ],
             [
              0.6666666666666666,
              "#ed7953"
             ],
             [
              0.7777777777777778,
              "#fb9f3a"
             ],
             [
              0.8888888888888888,
              "#fdca26"
             ],
             [
              1,
              "#f0f921"
             ]
            ],
            "type": "histogram2d"
           }
          ],
          "histogram2dcontour": [
           {
            "colorbar": {
             "outlinewidth": 0,
             "ticks": ""
            },
            "colorscale": [
             [
              0,
              "#0d0887"
             ],
             [
              0.1111111111111111,
              "#46039f"
             ],
             [
              0.2222222222222222,
              "#7201a8"
             ],
             [
              0.3333333333333333,
              "#9c179e"
             ],
             [
              0.4444444444444444,
              "#bd3786"
             ],
             [
              0.5555555555555556,
              "#d8576b"
             ],
             [
              0.6666666666666666,
              "#ed7953"
             ],
             [
              0.7777777777777778,
              "#fb9f3a"
             ],
             [
              0.8888888888888888,
              "#fdca26"
             ],
             [
              1,
              "#f0f921"
             ]
            ],
            "type": "histogram2dcontour"
           }
          ],
          "mesh3d": [
           {
            "colorbar": {
             "outlinewidth": 0,
             "ticks": ""
            },
            "type": "mesh3d"
           }
          ],
          "parcoords": [
           {
            "line": {
             "colorbar": {
              "outlinewidth": 0,
              "ticks": ""
             }
            },
            "type": "parcoords"
           }
          ],
          "pie": [
           {
            "automargin": true,
            "type": "pie"
           }
          ],
          "scatter": [
           {
            "fillpattern": {
             "fillmode": "overlay",
             "size": 10,
             "solidity": 0.2
            },
            "type": "scatter"
           }
          ],
          "scatter3d": [
           {
            "line": {
             "colorbar": {
              "outlinewidth": 0,
              "ticks": ""
             }
            },
            "marker": {
             "colorbar": {
              "outlinewidth": 0,
              "ticks": ""
             }
            },
            "type": "scatter3d"
           }
          ],
          "scattercarpet": [
           {
            "marker": {
             "colorbar": {
              "outlinewidth": 0,
              "ticks": ""
             }
            },
            "type": "scattercarpet"
           }
          ],
          "scattergeo": [
           {
            "marker": {
             "colorbar": {
              "outlinewidth": 0,
              "ticks": ""
             }
            },
            "type": "scattergeo"
           }
          ],
          "scattergl": [
           {
            "marker": {
             "colorbar": {
              "outlinewidth": 0,
              "ticks": ""
             }
            },
            "type": "scattergl"
           }
          ],
          "scattermapbox": [
           {
            "marker": {
             "colorbar": {
              "outlinewidth": 0,
              "ticks": ""
             }
            },
            "type": "scattermapbox"
           }
          ],
          "scatterpolar": [
           {
            "marker": {
             "colorbar": {
              "outlinewidth": 0,
              "ticks": ""
             }
            },
            "type": "scatterpolar"
           }
          ],
          "scatterpolargl": [
           {
            "marker": {
             "colorbar": {
              "outlinewidth": 0,
              "ticks": ""
             }
            },
            "type": "scatterpolargl"
           }
          ],
          "scatterternary": [
           {
            "marker": {
             "colorbar": {
              "outlinewidth": 0,
              "ticks": ""
             }
            },
            "type": "scatterternary"
           }
          ],
          "surface": [
           {
            "colorbar": {
             "outlinewidth": 0,
             "ticks": ""
            },
            "colorscale": [
             [
              0,
              "#0d0887"
             ],
             [
              0.1111111111111111,
              "#46039f"
             ],
             [
              0.2222222222222222,
              "#7201a8"
             ],
             [
              0.3333333333333333,
              "#9c179e"
             ],
             [
              0.4444444444444444,
              "#bd3786"
             ],
             [
              0.5555555555555556,
              "#d8576b"
             ],
             [
              0.6666666666666666,
              "#ed7953"
             ],
             [
              0.7777777777777778,
              "#fb9f3a"
             ],
             [
              0.8888888888888888,
              "#fdca26"
             ],
             [
              1,
              "#f0f921"
             ]
            ],
            "type": "surface"
           }
          ],
          "table": [
           {
            "cells": {
             "fill": {
              "color": "#EBF0F8"
             },
             "line": {
              "color": "white"
             }
            },
            "header": {
             "fill": {
              "color": "#C8D4E3"
             },
             "line": {
              "color": "white"
             }
            },
            "type": "table"
           }
          ]
         },
         "layout": {
          "annotationdefaults": {
           "arrowcolor": "#2a3f5f",
           "arrowhead": 0,
           "arrowwidth": 1
          },
          "autotypenumbers": "strict",
          "coloraxis": {
           "colorbar": {
            "outlinewidth": 0,
            "ticks": ""
           }
          },
          "colorscale": {
           "diverging": [
            [
             0,
             "#8e0152"
            ],
            [
             0.1,
             "#c51b7d"
            ],
            [
             0.2,
             "#de77ae"
            ],
            [
             0.3,
             "#f1b6da"
            ],
            [
             0.4,
             "#fde0ef"
            ],
            [
             0.5,
             "#f7f7f7"
            ],
            [
             0.6,
             "#e6f5d0"
            ],
            [
             0.7,
             "#b8e186"
            ],
            [
             0.8,
             "#7fbc41"
            ],
            [
             0.9,
             "#4d9221"
            ],
            [
             1,
             "#276419"
            ]
           ],
           "sequential": [
            [
             0,
             "#0d0887"
            ],
            [
             0.1111111111111111,
             "#46039f"
            ],
            [
             0.2222222222222222,
             "#7201a8"
            ],
            [
             0.3333333333333333,
             "#9c179e"
            ],
            [
             0.4444444444444444,
             "#bd3786"
            ],
            [
             0.5555555555555556,
             "#d8576b"
            ],
            [
             0.6666666666666666,
             "#ed7953"
            ],
            [
             0.7777777777777778,
             "#fb9f3a"
            ],
            [
             0.8888888888888888,
             "#fdca26"
            ],
            [
             1,
             "#f0f921"
            ]
           ],
           "sequentialminus": [
            [
             0,
             "#0d0887"
            ],
            [
             0.1111111111111111,
             "#46039f"
            ],
            [
             0.2222222222222222,
             "#7201a8"
            ],
            [
             0.3333333333333333,
             "#9c179e"
            ],
            [
             0.4444444444444444,
             "#bd3786"
            ],
            [
             0.5555555555555556,
             "#d8576b"
            ],
            [
             0.6666666666666666,
             "#ed7953"
            ],
            [
             0.7777777777777778,
             "#fb9f3a"
            ],
            [
             0.8888888888888888,
             "#fdca26"
            ],
            [
             1,
             "#f0f921"
            ]
           ]
          },
          "colorway": [
           "#636efa",
           "#EF553B",
           "#00cc96",
           "#ab63fa",
           "#FFA15A",
           "#19d3f3",
           "#FF6692",
           "#B6E880",
           "#FF97FF",
           "#FECB52"
          ],
          "font": {
           "color": "#2a3f5f"
          },
          "geo": {
           "bgcolor": "white",
           "lakecolor": "white",
           "landcolor": "#E5ECF6",
           "showlakes": true,
           "showland": true,
           "subunitcolor": "white"
          },
          "hoverlabel": {
           "align": "left"
          },
          "hovermode": "closest",
          "mapbox": {
           "style": "light"
          },
          "paper_bgcolor": "white",
          "plot_bgcolor": "#E5ECF6",
          "polar": {
           "angularaxis": {
            "gridcolor": "white",
            "linecolor": "white",
            "ticks": ""
           },
           "bgcolor": "#E5ECF6",
           "radialaxis": {
            "gridcolor": "white",
            "linecolor": "white",
            "ticks": ""
           }
          },
          "scene": {
           "xaxis": {
            "backgroundcolor": "#E5ECF6",
            "gridcolor": "white",
            "gridwidth": 2,
            "linecolor": "white",
            "showbackground": true,
            "ticks": "",
            "zerolinecolor": "white"
           },
           "yaxis": {
            "backgroundcolor": "#E5ECF6",
            "gridcolor": "white",
            "gridwidth": 2,
            "linecolor": "white",
            "showbackground": true,
            "ticks": "",
            "zerolinecolor": "white"
           },
           "zaxis": {
            "backgroundcolor": "#E5ECF6",
            "gridcolor": "white",
            "gridwidth": 2,
            "linecolor": "white",
            "showbackground": true,
            "ticks": "",
            "zerolinecolor": "white"
           }
          },
          "shapedefaults": {
           "line": {
            "color": "#2a3f5f"
           }
          },
          "ternary": {
           "aaxis": {
            "gridcolor": "white",
            "linecolor": "white",
            "ticks": ""
           },
           "baxis": {
            "gridcolor": "white",
            "linecolor": "white",
            "ticks": ""
           },
           "bgcolor": "#E5ECF6",
           "caxis": {
            "gridcolor": "white",
            "linecolor": "white",
            "ticks": ""
           }
          },
          "title": {
           "x": 0.05
          },
          "xaxis": {
           "automargin": true,
           "gridcolor": "white",
           "linecolor": "white",
           "ticks": "",
           "title": {
            "standoff": 15
           },
           "zerolinecolor": "white",
           "zerolinewidth": 2
          },
          "yaxis": {
           "automargin": true,
           "gridcolor": "white",
           "linecolor": "white",
           "ticks": "",
           "title": {
            "standoff": 15
           },
           "zerolinecolor": "white",
           "zerolinewidth": 2
          }
         }
        },
        "title": {
         "text": "Density Plot of column1 (Dataset 1) and column2 (Dataset 2)"
        },
        "xaxis": {
         "title": {
          "text": "Column Values"
         }
        },
        "yaxis": {
         "title": {
          "text": "Density"
         }
        }
       }
      }
     },
     "metadata": {},
     "output_type": "display_data"
    }
   ],
   "source": [
    "just_one(corrs_list)"
   ]
  },
  {
   "cell_type": "code",
   "execution_count": 84,
   "metadata": {},
   "outputs": [
    {
     "data": {
      "image/png": "[encoded data removed]",
      "text/plain": [
       "<Figure size 1200x1000 with 2 Axes>"
      ]
     },
     "metadata": {},
     "output_type": "display_data"
    }
   ],
   "source": [
    "\n",
    "import seaborn as sns\n",
    "import matplotlib.pyplot as plt\n",
    "\n",
    "correlation_matrix = exp.corr()\n",
    "\n",
    "# Set up the matplotlib figure\n",
    "plt.figure(figsize=(12, 10))\n",
    "\n",
    "# Create a heatmap using seaborn\n",
    "sns.heatmap(correlation_matrix, annot=True, cmap='coolwarm', fmt=\".2f\", linewidths=.5)\n",
    "\n",
    "# Set the title of the heatmap\n",
    "plt.title(\"Correlation Heatmap\")\n",
    "\n",
    "# Show the plot\n",
    "plt.show()"
   ]
  },
  {
   "cell_type": "code",
   "execution_count": 85,
   "metadata": {},
   "outputs": [],
   "source": [
    "new_targets = ['R_win_by_Decision_Unanimous', 'B_win_by_Decision_Unanimous', 'B_wins', 'B_total_rounds_fought', 'R_Reach_cms', 'R_Weight_lbs', 'B_Weight_lbs', 'win_dif', 'R_current_lose_streak', 'R_current_win_streak', 'perf_diff']"
   ]
  },
  {
   "cell_type": "code",
   "execution_count": 86,
   "metadata": {},
   "outputs": [],
   "source": [
    "feats = feats[new_targets]"
   ]
  },
  {
   "cell_type": "code",
   "execution_count": null,
   "metadata": {},
   "outputs": [],
   "source": []
  }
 ],
 "metadata": {
  "kernelspec": {
   "display_name": "basic_ml_stuff",
   "language": "python",
   "name": "python3"
  },
  "language_info": {
   "codemirror_mode": {
    "name": "ipython",
    "version": 3
   },
   "file_extension": ".py",
   "mimetype": "text/x-python",
   "name": "python",
   "nbconvert_exporter": "python",
   "pygments_lexer": "ipython3",
   "version": "3.11.5"
  }
 },
 "nbformat": 4,
 "nbformat_minor": 2
}
