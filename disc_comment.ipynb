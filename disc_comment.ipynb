{
 "cells": [
  {
   "cell_type": "markdown",
   "metadata": {},
   "source": [
    "To understand why the discussion comment variables worked so well. "
   ]
  },
  {
   "cell_type": "code",
   "execution_count": 1,
   "metadata": {},
   "outputs": [],
   "source": [
    "import numpy as np \n",
    "import pandas as pd\n",
    "from helpers import * \n",
    "import warnings\n",
    "from pandas.errors import SettingWithCopyWarning\n",
    "warnings.simplefilter(action=\"ignore\", category=SettingWithCopyWarning)\n",
    "warnings.simplefilter(action=\"ignore\", category=FutureWarning)\n",
    "\n",
    "ufc = pd.read_csv('ufc-master.csv')\n",
    "feats, targ = fine_tuning_setup(ufc, one_or_two=True)"
   ]
  },
  {
   "cell_type": "code",
   "execution_count": 2,
   "metadata": {},
   "outputs": [
    {
     "name": "stdout",
     "output_type": "stream",
     "text": [
      "B_current_win_streak\n",
      "R_win_by_Submission\n",
      "B_win_by_Decision_Unanimous\n",
      "R_win_by_Decision_Unanimous\n",
      "R_current_lose_streak\n",
      "B_win_by_TKO_Doctor_Stoppage\n",
      "win_dif\n",
      "B_win_by_Decision_Split\n",
      "B_wins\n",
      "R_Stance\n",
      "B_age\n",
      "B_Weight_lbs\n",
      "R_ev\n",
      "B_total_rounds_fought\n",
      "location\n",
      "R_odds\n",
      "R_Reach_cms\n",
      "R_Weight_lbs\n",
      "R_current_win_streak\n",
      "R_age\n",
      "empty_arena\n",
      "R_win_by_Decision_Split\n",
      "R_draw\n",
      "lose_streak_dif\n",
      "B_draw\n",
      "perf_diff\n"
     ]
    }
   ],
   "source": [
    "for col in feats.columns:\n",
    "    print(col)"
   ]
  },
  {
   "cell_type": "code",
   "execution_count": null,
   "metadata": {},
   "outputs": [],
   "source": []
  }
 ],
 "metadata": {
  "kernelspec": {
   "display_name": "basic_ml_stuff",
   "language": "python",
   "name": "python3"
  },
  "language_info": {
   "codemirror_mode": {
    "name": "ipython",
    "version": 3
   },
   "file_extension": ".py",
   "mimetype": "text/x-python",
   "name": "python",
   "nbconvert_exporter": "python",
   "pygments_lexer": "ipython3",
   "version": "3.11.5"
  }
 },
 "nbformat": 4,
 "nbformat_minor": 2
}
